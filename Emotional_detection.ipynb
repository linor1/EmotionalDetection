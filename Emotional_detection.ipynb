{
  "nbformat": 4,
  "nbformat_minor": 0,
  "metadata": {
    "colab": {
      "name": "Emotional_detection.ipynb",
      "provenance": [],
      "collapsed_sections": []
    },
    "kernelspec": {
      "name": "python3",
      "display_name": "Python 3"
    },
    "language_info": {
      "name": "python"
    }
  },
  "cells": [
    {
      "cell_type": "code",
      "metadata": {
        "colab": {
          "base_uri": "https://localhost:8080/"
        },
        "id": "PO5YHj8TDURA",
        "outputId": "15d82a6a-ecf0-4c36-de03-3804084ce53a"
      },
      "source": [
        "! pip install gdown"
      ],
      "execution_count": null,
      "outputs": [
        {
          "output_type": "stream",
          "name": "stdout",
          "text": [
            "Requirement already satisfied: gdown in /usr/local/lib/python3.7/dist-packages (3.6.4)\n",
            "Requirement already satisfied: six in /usr/local/lib/python3.7/dist-packages (from gdown) (1.15.0)\n",
            "Requirement already satisfied: tqdm in /usr/local/lib/python3.7/dist-packages (from gdown) (4.62.3)\n",
            "Requirement already satisfied: requests in /usr/local/lib/python3.7/dist-packages (from gdown) (2.23.0)\n",
            "Requirement already satisfied: urllib3!=1.25.0,!=1.25.1,<1.26,>=1.21.1 in /usr/local/lib/python3.7/dist-packages (from requests->gdown) (1.24.3)\n",
            "Requirement already satisfied: idna<3,>=2.5 in /usr/local/lib/python3.7/dist-packages (from requests->gdown) (2.10)\n",
            "Requirement already satisfied: certifi>=2017.4.17 in /usr/local/lib/python3.7/dist-packages (from requests->gdown) (2021.5.30)\n",
            "Requirement already satisfied: chardet<4,>=3.0.2 in /usr/local/lib/python3.7/dist-packages (from requests->gdown) (3.0.4)\n"
          ]
        }
      ]
    },
    {
      "cell_type": "code",
      "metadata": {
        "colab": {
          "base_uri": "https://localhost:8080/",
          "height": 102
        },
        "id": "rQ9bm1mqDWv-",
        "outputId": "c7d81ee5-2d4a-4081-e192-47bf16b0b8f9"
      },
      "source": [
        "import gdown\n",
        "url = 'https://drive.google.com/uc?id=1EvGiLEtVh50xcr9OEOrcYZX_JFe9iDZX'\n",
        "output = 'tweet_emotions.csv.zip'\n",
        "\n",
        "gdown.download(url,output,quiet=False)"
      ],
      "execution_count": null,
      "outputs": [
        {
          "output_type": "stream",
          "name": "stderr",
          "text": [
            "Downloading...\n",
            "From: https://drive.google.com/uc?id=1EvGiLEtVh50xcr9OEOrcYZX_JFe9iDZX\n",
            "To: /content/tweet_emotions.csv.zip\n",
            "100%|██████████| 1.63M/1.63M [00:00<00:00, 130MB/s]\n"
          ]
        },
        {
          "output_type": "execute_result",
          "data": {
            "application/vnd.google.colaboratory.intrinsic+json": {
              "type": "string"
            },
            "text/plain": [
              "'tweet_emotions.csv.zip'"
            ]
          },
          "metadata": {},
          "execution_count": 72
        }
      ]
    },
    {
      "cell_type": "code",
      "metadata": {
        "colab": {
          "base_uri": "https://localhost:8080/"
        },
        "id": "fCvt3Dg2DZOf",
        "outputId": "7433b28e-e906-4b5c-de31-6ad4a2f0f82f"
      },
      "source": [
        "! unzip tweet_emotions.csv.zip"
      ],
      "execution_count": null,
      "outputs": [
        {
          "output_type": "stream",
          "name": "stdout",
          "text": [
            "Archive:  tweet_emotions.csv.zip\n",
            "  inflating: tweet_emotions.csv      \n"
          ]
        }
      ]
    },
    {
      "cell_type": "code",
      "metadata": {
        "colab": {
          "base_uri": "https://localhost:8080/",
          "height": 417
        },
        "id": "DoajYCeVDfQ1",
        "outputId": "24d46fef-1e97-4a27-995b-011edcad3670"
      },
      "source": [
        "import pandas as pd\n",
        "df = pd.read_csv('tweet_emotions.csv')\n",
        "df"
      ],
      "execution_count": null,
      "outputs": [
        {
          "output_type": "execute_result",
          "data": {
            "text/html": [
              "<div>\n",
              "<style scoped>\n",
              "    .dataframe tbody tr th:only-of-type {\n",
              "        vertical-align: middle;\n",
              "    }\n",
              "\n",
              "    .dataframe tbody tr th {\n",
              "        vertical-align: top;\n",
              "    }\n",
              "\n",
              "    .dataframe thead th {\n",
              "        text-align: right;\n",
              "    }\n",
              "</style>\n",
              "<table border=\"1\" class=\"dataframe\">\n",
              "  <thead>\n",
              "    <tr style=\"text-align: right;\">\n",
              "      <th></th>\n",
              "      <th>tweet_id</th>\n",
              "      <th>sentiment</th>\n",
              "      <th>content</th>\n",
              "    </tr>\n",
              "  </thead>\n",
              "  <tbody>\n",
              "    <tr>\n",
              "      <th>0</th>\n",
              "      <td>1956967341</td>\n",
              "      <td>empty</td>\n",
              "      <td>@tiffanylue i know  i was listenin to bad habi...</td>\n",
              "    </tr>\n",
              "    <tr>\n",
              "      <th>1</th>\n",
              "      <td>1956967666</td>\n",
              "      <td>sadness</td>\n",
              "      <td>Layin n bed with a headache  ughhhh...waitin o...</td>\n",
              "    </tr>\n",
              "    <tr>\n",
              "      <th>2</th>\n",
              "      <td>1956967696</td>\n",
              "      <td>sadness</td>\n",
              "      <td>Funeral ceremony...gloomy friday...</td>\n",
              "    </tr>\n",
              "    <tr>\n",
              "      <th>3</th>\n",
              "      <td>1956967789</td>\n",
              "      <td>enthusiasm</td>\n",
              "      <td>wants to hang out with friends SOON!</td>\n",
              "    </tr>\n",
              "    <tr>\n",
              "      <th>4</th>\n",
              "      <td>1956968416</td>\n",
              "      <td>neutral</td>\n",
              "      <td>@dannycastillo We want to trade with someone w...</td>\n",
              "    </tr>\n",
              "    <tr>\n",
              "      <th>...</th>\n",
              "      <td>...</td>\n",
              "      <td>...</td>\n",
              "      <td>...</td>\n",
              "    </tr>\n",
              "    <tr>\n",
              "      <th>39995</th>\n",
              "      <td>1753918954</td>\n",
              "      <td>neutral</td>\n",
              "      <td>@JohnLloydTaylor</td>\n",
              "    </tr>\n",
              "    <tr>\n",
              "      <th>39996</th>\n",
              "      <td>1753919001</td>\n",
              "      <td>love</td>\n",
              "      <td>Happy Mothers Day  All my love</td>\n",
              "    </tr>\n",
              "    <tr>\n",
              "      <th>39997</th>\n",
              "      <td>1753919005</td>\n",
              "      <td>love</td>\n",
              "      <td>Happy Mother's Day to all the mommies out ther...</td>\n",
              "    </tr>\n",
              "    <tr>\n",
              "      <th>39998</th>\n",
              "      <td>1753919043</td>\n",
              "      <td>happiness</td>\n",
              "      <td>@niariley WASSUP BEAUTIFUL!!! FOLLOW ME!!  PEE...</td>\n",
              "    </tr>\n",
              "    <tr>\n",
              "      <th>39999</th>\n",
              "      <td>1753919049</td>\n",
              "      <td>love</td>\n",
              "      <td>@mopedronin bullet train from tokyo    the gf ...</td>\n",
              "    </tr>\n",
              "  </tbody>\n",
              "</table>\n",
              "<p>40000 rows × 3 columns</p>\n",
              "</div>"
            ],
            "text/plain": [
              "         tweet_id  ...                                            content\n",
              "0      1956967341  ...  @tiffanylue i know  i was listenin to bad habi...\n",
              "1      1956967666  ...  Layin n bed with a headache  ughhhh...waitin o...\n",
              "2      1956967696  ...                Funeral ceremony...gloomy friday...\n",
              "3      1956967789  ...               wants to hang out with friends SOON!\n",
              "4      1956968416  ...  @dannycastillo We want to trade with someone w...\n",
              "...           ...  ...                                                ...\n",
              "39995  1753918954  ...                                   @JohnLloydTaylor\n",
              "39996  1753919001  ...                     Happy Mothers Day  All my love\n",
              "39997  1753919005  ...  Happy Mother's Day to all the mommies out ther...\n",
              "39998  1753919043  ...  @niariley WASSUP BEAUTIFUL!!! FOLLOW ME!!  PEE...\n",
              "39999  1753919049  ...  @mopedronin bullet train from tokyo    the gf ...\n",
              "\n",
              "[40000 rows x 3 columns]"
            ]
          },
          "metadata": {},
          "execution_count": 74
        }
      ]
    },
    {
      "cell_type": "code",
      "metadata": {
        "id": "UqBZ8gzVa_Yu"
      },
      "source": [
        "import numpy as np"
      ],
      "execution_count": null,
      "outputs": []
    },
    {
      "cell_type": "code",
      "metadata": {
        "id": "sMPLQMejbQiv"
      },
      "source": [
        "import matplotlib.pyplot as plt\n",
        "import seaborn as sns"
      ],
      "execution_count": null,
      "outputs": []
    },
    {
      "cell_type": "code",
      "metadata": {
        "colab": {
          "base_uri": "https://localhost:8080/"
        },
        "id": "WJnqIQCPcPG8",
        "outputId": "d5317c3b-3196-4b43-d98e-9569bf56293f"
      },
      "source": [
        "! pip install neattext"
      ],
      "execution_count": null,
      "outputs": [
        {
          "output_type": "stream",
          "name": "stdout",
          "text": [
            "Collecting neattext\n",
            "  Downloading neattext-0.1.2-py3-none-any.whl (114 kB)\n",
            "\u001b[?25l\r\u001b[K     |██▉                             | 10 kB 31.9 MB/s eta 0:00:01\r\u001b[K     |█████▊                          | 20 kB 35.9 MB/s eta 0:00:01\r\u001b[K     |████████▋                       | 30 kB 21.1 MB/s eta 0:00:01\r\u001b[K     |███████████▌                    | 40 kB 17.2 MB/s eta 0:00:01\r\u001b[K     |██████████████▍                 | 51 kB 17.4 MB/s eta 0:00:01\r\u001b[K     |█████████████████▏              | 61 kB 14.4 MB/s eta 0:00:01\r\u001b[K     |████████████████████            | 71 kB 13.9 MB/s eta 0:00:01\r\u001b[K     |███████████████████████         | 81 kB 15.4 MB/s eta 0:00:01\r\u001b[K     |█████████████████████████▉      | 92 kB 14.4 MB/s eta 0:00:01\r\u001b[K     |████████████████████████████▊   | 102 kB 15.6 MB/s eta 0:00:01\r\u001b[K     |███████████████████████████████▋| 112 kB 15.6 MB/s eta 0:00:01\r\u001b[K     |████████████████████████████████| 114 kB 15.6 MB/s \n",
            "\u001b[?25hInstalling collected packages: neattext\n",
            "Successfully installed neattext-0.1.2\n"
          ]
        }
      ]
    },
    {
      "cell_type": "code",
      "metadata": {
        "id": "WwtEGi8qbgN7"
      },
      "source": [
        "import neattext.functions as nfx"
      ],
      "execution_count": null,
      "outputs": []
    },
    {
      "cell_type": "code",
      "metadata": {
        "id": "fFyzWxRHbmhc"
      },
      "source": [
        "#Load Data\n",
        "#df = pd.read_csv('emotion-detection-from-text/tweet_emotions.csv')"
      ],
      "execution_count": null,
      "outputs": []
    },
    {
      "cell_type": "code",
      "metadata": {
        "colab": {
          "base_uri": "https://localhost:8080/",
          "height": 203
        },
        "id": "izK_PfZJcqqr",
        "outputId": "4a49d1d1-4d2a-4949-c6a2-c8c0189530ab"
      },
      "source": [
        "df.head()"
      ],
      "execution_count": null,
      "outputs": [
        {
          "output_type": "execute_result",
          "data": {
            "text/html": [
              "<div>\n",
              "<style scoped>\n",
              "    .dataframe tbody tr th:only-of-type {\n",
              "        vertical-align: middle;\n",
              "    }\n",
              "\n",
              "    .dataframe tbody tr th {\n",
              "        vertical-align: top;\n",
              "    }\n",
              "\n",
              "    .dataframe thead th {\n",
              "        text-align: right;\n",
              "    }\n",
              "</style>\n",
              "<table border=\"1\" class=\"dataframe\">\n",
              "  <thead>\n",
              "    <tr style=\"text-align: right;\">\n",
              "      <th></th>\n",
              "      <th>tweet_id</th>\n",
              "      <th>sentiment</th>\n",
              "      <th>content</th>\n",
              "    </tr>\n",
              "  </thead>\n",
              "  <tbody>\n",
              "    <tr>\n",
              "      <th>0</th>\n",
              "      <td>1956967341</td>\n",
              "      <td>empty</td>\n",
              "      <td>@tiffanylue i know  i was listenin to bad habi...</td>\n",
              "    </tr>\n",
              "    <tr>\n",
              "      <th>1</th>\n",
              "      <td>1956967666</td>\n",
              "      <td>sadness</td>\n",
              "      <td>Layin n bed with a headache  ughhhh...waitin o...</td>\n",
              "    </tr>\n",
              "    <tr>\n",
              "      <th>2</th>\n",
              "      <td>1956967696</td>\n",
              "      <td>sadness</td>\n",
              "      <td>Funeral ceremony...gloomy friday...</td>\n",
              "    </tr>\n",
              "    <tr>\n",
              "      <th>3</th>\n",
              "      <td>1956967789</td>\n",
              "      <td>enthusiasm</td>\n",
              "      <td>wants to hang out with friends SOON!</td>\n",
              "    </tr>\n",
              "    <tr>\n",
              "      <th>4</th>\n",
              "      <td>1956968416</td>\n",
              "      <td>neutral</td>\n",
              "      <td>@dannycastillo We want to trade with someone w...</td>\n",
              "    </tr>\n",
              "  </tbody>\n",
              "</table>\n",
              "</div>"
            ],
            "text/plain": [
              "     tweet_id   sentiment                                            content\n",
              "0  1956967341       empty  @tiffanylue i know  i was listenin to bad habi...\n",
              "1  1956967666     sadness  Layin n bed with a headache  ughhhh...waitin o...\n",
              "2  1956967696     sadness                Funeral ceremony...gloomy friday...\n",
              "3  1956967789  enthusiasm               wants to hang out with friends SOON!\n",
              "4  1956968416     neutral  @dannycastillo We want to trade with someone w..."
            ]
          },
          "metadata": {},
          "execution_count": 80
        }
      ]
    },
    {
      "cell_type": "code",
      "metadata": {
        "id": "nixVZhQ4WulQ"
      },
      "source": [
        "df1 = df[df['sentiment'] == 'sadness']"
      ],
      "execution_count": null,
      "outputs": []
    },
    {
      "cell_type": "code",
      "metadata": {
        "colab": {
          "base_uri": "https://localhost:8080/",
          "height": 417
        },
        "id": "y8KmTTo3W2-j",
        "outputId": "512ad528-2cc6-437f-bc53-346ea0d2a402"
      },
      "source": [
        "df1"
      ],
      "execution_count": null,
      "outputs": [
        {
          "output_type": "execute_result",
          "data": {
            "text/html": [
              "<div>\n",
              "<style scoped>\n",
              "    .dataframe tbody tr th:only-of-type {\n",
              "        vertical-align: middle;\n",
              "    }\n",
              "\n",
              "    .dataframe tbody tr th {\n",
              "        vertical-align: top;\n",
              "    }\n",
              "\n",
              "    .dataframe thead th {\n",
              "        text-align: right;\n",
              "    }\n",
              "</style>\n",
              "<table border=\"1\" class=\"dataframe\">\n",
              "  <thead>\n",
              "    <tr style=\"text-align: right;\">\n",
              "      <th></th>\n",
              "      <th>tweet_id</th>\n",
              "      <th>sentiment</th>\n",
              "      <th>content</th>\n",
              "    </tr>\n",
              "  </thead>\n",
              "  <tbody>\n",
              "    <tr>\n",
              "      <th>1</th>\n",
              "      <td>1956967666</td>\n",
              "      <td>sadness</td>\n",
              "      <td>Layin n bed with a headache  ughhhh...waitin o...</td>\n",
              "    </tr>\n",
              "    <tr>\n",
              "      <th>2</th>\n",
              "      <td>1956967696</td>\n",
              "      <td>sadness</td>\n",
              "      <td>Funeral ceremony...gloomy friday...</td>\n",
              "    </tr>\n",
              "    <tr>\n",
              "      <th>6</th>\n",
              "      <td>1956968487</td>\n",
              "      <td>sadness</td>\n",
              "      <td>I should be sleep, but im not! thinking about ...</td>\n",
              "    </tr>\n",
              "    <tr>\n",
              "      <th>8</th>\n",
              "      <td>1956969035</td>\n",
              "      <td>sadness</td>\n",
              "      <td>@charviray Charlene my love. I miss you</td>\n",
              "    </tr>\n",
              "    <tr>\n",
              "      <th>9</th>\n",
              "      <td>1956969172</td>\n",
              "      <td>sadness</td>\n",
              "      <td>@kelcouch I'm sorry  at least it's Friday?</td>\n",
              "    </tr>\n",
              "    <tr>\n",
              "      <th>...</th>\n",
              "      <td>...</td>\n",
              "      <td>...</td>\n",
              "      <td>...</td>\n",
              "    </tr>\n",
              "    <tr>\n",
              "      <th>39882</th>\n",
              "      <td>1753887579</td>\n",
              "      <td>sadness</td>\n",
              "      <td>Heaps keen for next weekend.     Mummy. &amp;lt;3</td>\n",
              "    </tr>\n",
              "    <tr>\n",
              "      <th>39894</th>\n",
              "      <td>1753902385</td>\n",
              "      <td>sadness</td>\n",
              "      <td>@renagades Have a great day..... if the rain k...</td>\n",
              "    </tr>\n",
              "    <tr>\n",
              "      <th>39909</th>\n",
              "      <td>1753902771</td>\n",
              "      <td>sadness</td>\n",
              "      <td>@Ssisch Hmmm... Sisch &amp;amp; sound design. So w...</td>\n",
              "    </tr>\n",
              "    <tr>\n",
              "      <th>39939</th>\n",
              "      <td>1753903509</td>\n",
              "      <td>sadness</td>\n",
              "      <td>@watermelon39 haha! And Twitter! Hard though i...</td>\n",
              "    </tr>\n",
              "    <tr>\n",
              "      <th>39965</th>\n",
              "      <td>1753904398</td>\n",
              "      <td>sadness</td>\n",
              "      <td>is heading off to the fair</td>\n",
              "    </tr>\n",
              "  </tbody>\n",
              "</table>\n",
              "<p>5165 rows × 3 columns</p>\n",
              "</div>"
            ],
            "text/plain": [
              "         tweet_id sentiment                                            content\n",
              "1      1956967666   sadness  Layin n bed with a headache  ughhhh...waitin o...\n",
              "2      1956967696   sadness                Funeral ceremony...gloomy friday...\n",
              "6      1956968487   sadness  I should be sleep, but im not! thinking about ...\n",
              "8      1956969035   sadness            @charviray Charlene my love. I miss you\n",
              "9      1956969172   sadness         @kelcouch I'm sorry  at least it's Friday?\n",
              "...           ...       ...                                                ...\n",
              "39882  1753887579   sadness      Heaps keen for next weekend.     Mummy. &lt;3\n",
              "39894  1753902385   sadness  @renagades Have a great day..... if the rain k...\n",
              "39909  1753902771   sadness  @Ssisch Hmmm... Sisch &amp; sound design. So w...\n",
              "39939  1753903509   sadness  @watermelon39 haha! And Twitter! Hard though i...\n",
              "39965  1753904398   sadness                         is heading off to the fair\n",
              "\n",
              "[5165 rows x 3 columns]"
            ]
          },
          "metadata": {},
          "execution_count": 82
        }
      ]
    },
    {
      "cell_type": "code",
      "metadata": {
        "colab": {
          "base_uri": "https://localhost:8080/"
        },
        "id": "lmitkz3QXPnD",
        "outputId": "cd01c283-4876-4402-a0f9-e202466ff0b3"
      },
      "source": [
        "df1.shape"
      ],
      "execution_count": null,
      "outputs": [
        {
          "output_type": "execute_result",
          "data": {
            "text/plain": [
              "(5165, 3)"
            ]
          },
          "metadata": {},
          "execution_count": 83
        }
      ]
    },
    {
      "cell_type": "code",
      "metadata": {
        "colab": {
          "base_uri": "https://localhost:8080/"
        },
        "id": "_esIXWCbXeKC",
        "outputId": "4ec5b9ff-3569-43c0-b033-44248542c584"
      },
      "source": [
        "(df1['tweet_id'] == 1956967666).value_counts()"
      ],
      "execution_count": null,
      "outputs": [
        {
          "output_type": "execute_result",
          "data": {
            "text/plain": [
              "False    5164\n",
              "True        1\n",
              "Name: tweet_id, dtype: int64"
            ]
          },
          "metadata": {},
          "execution_count": 84
        }
      ]
    },
    {
      "cell_type": "code",
      "metadata": {
        "colab": {
          "base_uri": "https://localhost:8080/"
        },
        "id": "7X1CUGM-cqyn",
        "outputId": "265cab4c-d1f1-49f1-8e5b-dd2c9d0aaf2a"
      },
      "source": [
        "df.shape"
      ],
      "execution_count": null,
      "outputs": [
        {
          "output_type": "execute_result",
          "data": {
            "text/plain": [
              "(40000, 3)"
            ]
          },
          "metadata": {},
          "execution_count": 85
        }
      ]
    },
    {
      "cell_type": "code",
      "metadata": {
        "colab": {
          "base_uri": "https://localhost:8080/"
        },
        "id": "N7mrBSt0hSc0",
        "outputId": "2dfa3510-7ed9-473d-eac7-198d700633bd"
      },
      "source": [
        "df.dtypes"
      ],
      "execution_count": null,
      "outputs": [
        {
          "output_type": "execute_result",
          "data": {
            "text/plain": [
              "tweet_id      int64\n",
              "sentiment    object\n",
              "content      object\n",
              "dtype: object"
            ]
          },
          "metadata": {},
          "execution_count": 86
        }
      ]
    },
    {
      "cell_type": "code",
      "metadata": {
        "colab": {
          "base_uri": "https://localhost:8080/"
        },
        "id": "Hg-i2GXGhSq8",
        "outputId": "b7d59bbe-5bd6-48db-9bb3-4e2498d0f56a"
      },
      "source": [
        "df.isnull().sum()"
      ],
      "execution_count": null,
      "outputs": [
        {
          "output_type": "execute_result",
          "data": {
            "text/plain": [
              "tweet_id     0\n",
              "sentiment    0\n",
              "content      0\n",
              "dtype: int64"
            ]
          },
          "metadata": {},
          "execution_count": 87
        }
      ]
    },
    {
      "cell_type": "code",
      "metadata": {
        "colab": {
          "base_uri": "https://localhost:8080/"
        },
        "id": "xxeqgJB4i_sT",
        "outputId": "7b7fe4db-1c16-4f02-b723-61bd045fc901"
      },
      "source": [
        "df['sentiment'].value_counts()"
      ],
      "execution_count": null,
      "outputs": [
        {
          "output_type": "execute_result",
          "data": {
            "text/plain": [
              "neutral       8638\n",
              "worry         8459\n",
              "happiness     5209\n",
              "sadness       5165\n",
              "love          3842\n",
              "surprise      2187\n",
              "fun           1776\n",
              "relief        1526\n",
              "hate          1323\n",
              "empty          827\n",
              "enthusiasm     759\n",
              "boredom        179\n",
              "anger          110\n",
              "Name: sentiment, dtype: int64"
            ]
          },
          "metadata": {},
          "execution_count": 88
        }
      ]
    },
    {
      "cell_type": "code",
      "metadata": {
        "id": "tOQB66z5gjO0"
      },
      "source": [
        "from textblob import TextBlob"
      ],
      "execution_count": null,
      "outputs": []
    },
    {
      "cell_type": "code",
      "metadata": {
        "id": "Vu12nQY_gokJ"
      },
      "source": [
        "def get_sentiment(text):\n",
        "  blob = TextBlob(text)\n",
        "  sentiment= blob.sentiment.polarity\n",
        "  if sentiment>0:\n",
        "    result = \"Positive\"\n",
        "  elif sentiment<0:\n",
        "    result = \"Negative\"\n",
        "  else:\n",
        "    result = \"Neutral\"\n",
        "  return result "
      ],
      "execution_count": null,
      "outputs": []
    },
    {
      "cell_type": "code",
      "metadata": {
        "colab": {
          "base_uri": "https://localhost:8080/"
        },
        "id": "g5RYGRhrbTiU",
        "outputId": "0ff025eb-9ada-46c4-c351-d7c8419ad6c6"
      },
      "source": [
        "#test function\n",
        "result = get_sentiment(\"I love coding\")\n",
        "result2 = get_sentiment(\"Im happy\")\n",
        "result3 = get_sentiment(\"Im sad\")\n",
        "print(result)\n",
        "print(result2)\n",
        "print(result3)"
      ],
      "execution_count": null,
      "outputs": [
        {
          "output_type": "stream",
          "name": "stdout",
          "text": [
            "Positive\n",
            "Positive\n",
            "Negative\n"
          ]
        }
      ]
    },
    {
      "cell_type": "code",
      "metadata": {
        "id": "ixrq02Wqce_2"
      },
      "source": [
        "df['result'] = df['content'].apply(get_sentiment)"
      ],
      "execution_count": null,
      "outputs": []
    },
    {
      "cell_type": "code",
      "metadata": {
        "colab": {
          "base_uri": "https://localhost:8080/",
          "height": 203
        },
        "id": "VzyfS-wic3tx",
        "outputId": "1f2c4b40-3540-4dd3-96ea-65fad95d886d"
      },
      "source": [
        "df.head()"
      ],
      "execution_count": null,
      "outputs": [
        {
          "output_type": "execute_result",
          "data": {
            "text/html": [
              "<div>\n",
              "<style scoped>\n",
              "    .dataframe tbody tr th:only-of-type {\n",
              "        vertical-align: middle;\n",
              "    }\n",
              "\n",
              "    .dataframe tbody tr th {\n",
              "        vertical-align: top;\n",
              "    }\n",
              "\n",
              "    .dataframe thead th {\n",
              "        text-align: right;\n",
              "    }\n",
              "</style>\n",
              "<table border=\"1\" class=\"dataframe\">\n",
              "  <thead>\n",
              "    <tr style=\"text-align: right;\">\n",
              "      <th></th>\n",
              "      <th>tweet_id</th>\n",
              "      <th>sentiment</th>\n",
              "      <th>content</th>\n",
              "      <th>result</th>\n",
              "    </tr>\n",
              "  </thead>\n",
              "  <tbody>\n",
              "    <tr>\n",
              "      <th>0</th>\n",
              "      <td>1956967341</td>\n",
              "      <td>empty</td>\n",
              "      <td>@tiffanylue i know  i was listenin to bad habi...</td>\n",
              "      <td>Negative</td>\n",
              "    </tr>\n",
              "    <tr>\n",
              "      <th>1</th>\n",
              "      <td>1956967666</td>\n",
              "      <td>sadness</td>\n",
              "      <td>Layin n bed with a headache  ughhhh...waitin o...</td>\n",
              "      <td>Neutral</td>\n",
              "    </tr>\n",
              "    <tr>\n",
              "      <th>2</th>\n",
              "      <td>1956967696</td>\n",
              "      <td>sadness</td>\n",
              "      <td>Funeral ceremony...gloomy friday...</td>\n",
              "      <td>Neutral</td>\n",
              "    </tr>\n",
              "    <tr>\n",
              "      <th>3</th>\n",
              "      <td>1956967789</td>\n",
              "      <td>enthusiasm</td>\n",
              "      <td>wants to hang out with friends SOON!</td>\n",
              "      <td>Positive</td>\n",
              "    </tr>\n",
              "    <tr>\n",
              "      <th>4</th>\n",
              "      <td>1956968416</td>\n",
              "      <td>neutral</td>\n",
              "      <td>@dannycastillo We want to trade with someone w...</td>\n",
              "      <td>Neutral</td>\n",
              "    </tr>\n",
              "  </tbody>\n",
              "</table>\n",
              "</div>"
            ],
            "text/plain": [
              "     tweet_id  ...    result\n",
              "0  1956967341  ...  Negative\n",
              "1  1956967666  ...   Neutral\n",
              "2  1956967696  ...   Neutral\n",
              "3  1956967789  ...  Positive\n",
              "4  1956968416  ...   Neutral\n",
              "\n",
              "[5 rows x 4 columns]"
            ]
          },
          "metadata": {},
          "execution_count": 93
        }
      ]
    },
    {
      "cell_type": "code",
      "metadata": {
        "id": "H_VwShxgdwmZ"
      },
      "source": [
        "size = df.groupby(['sentiment','result']).size()"
      ],
      "execution_count": null,
      "outputs": []
    },
    {
      "cell_type": "code",
      "metadata": {
        "colab": {
          "base_uri": "https://localhost:8080/"
        },
        "id": "UkhE6rd9ISb_",
        "outputId": "add24b61-0b29-4771-da3c-6fd252c15ea1"
      },
      "source": [
        "size"
      ],
      "execution_count": null,
      "outputs": [
        {
          "output_type": "execute_result",
          "data": {
            "text/plain": [
              "sentiment   result  \n",
              "anger       Negative      34\n",
              "            Neutral       41\n",
              "            Positive      35\n",
              "boredom     Negative      80\n",
              "            Neutral       56\n",
              "            Positive      43\n",
              "empty       Negative     168\n",
              "            Neutral      418\n",
              "            Positive     241\n",
              "enthusiasm  Negative     100\n",
              "            Neutral      254\n",
              "            Positive     405\n",
              "fun         Negative     205\n",
              "            Neutral      474\n",
              "            Positive    1097\n",
              "happiness   Negative     345\n",
              "            Neutral     1224\n",
              "            Positive    3640\n",
              "hate        Negative     694\n",
              "            Neutral      364\n",
              "            Positive     265\n",
              "love        Negative     214\n",
              "            Neutral      684\n",
              "            Positive    2944\n",
              "neutral     Negative    1156\n",
              "            Neutral     4442\n",
              "            Positive    3040\n",
              "relief      Negative     207\n",
              "            Neutral      477\n",
              "            Positive     842\n",
              "sadness     Negative    1886\n",
              "            Neutral     1696\n",
              "            Positive    1583\n",
              "surprise    Negative     377\n",
              "            Neutral      809\n",
              "            Positive    1001\n",
              "worry       Negative    2670\n",
              "            Neutral     2917\n",
              "            Positive    2872\n",
              "dtype: int64"
            ]
          },
          "metadata": {},
          "execution_count": 95
        }
      ]
    },
    {
      "cell_type": "code",
      "metadata": {
        "id": "l9ZdVs0KJQy3"
      },
      "source": [
        "#df['size'] = df.groupby(['sentiment','result']).[transform('size')\n",
        "df['size'] = df.groupby(['sentiment', 'result'])['sentiment'].transform('size')"
      ],
      "execution_count": null,
      "outputs": []
    },
    {
      "cell_type": "code",
      "metadata": {
        "id": "oxeIQxw0IYYU"
      },
      "source": [
        "grouped_df = df.groupby( [ \"sentiment\", \"result\"] )\n",
        "\n",
        "grouped = pd.DataFrame(grouped_df.size().reset_index(name = \"Group_Count\"))\n",
        "idx = grouped.groupby(['sentiment'])['Group_Count'].transform(max) == grouped['Group_Count']\n",
        "new_df = grouped[idx]"
      ],
      "execution_count": null,
      "outputs": []
    },
    {
      "cell_type": "code",
      "metadata": {
        "id": "mMQzAaOBWXOP"
      },
      "source": [
        "mergedStuff = pd.merge(df, new_df, on=['sentiment'], how='left')"
      ],
      "execution_count": null,
      "outputs": []
    },
    {
      "cell_type": "code",
      "metadata": {
        "colab": {
          "base_uri": "https://localhost:8080/",
          "height": 417
        },
        "id": "nkflDQeUb9U_",
        "outputId": "c14ca64f-fe6f-41a5-ec13-2ff788ef734c"
      },
      "source": [
        "mergedStuff = mergedStuff.loc[mergedStuff.result_y != \"Neutral\"]\n",
        "mergedStuff"
      ],
      "execution_count": null,
      "outputs": [
        {
          "output_type": "execute_result",
          "data": {
            "text/html": [
              "<div>\n",
              "<style scoped>\n",
              "    .dataframe tbody tr th:only-of-type {\n",
              "        vertical-align: middle;\n",
              "    }\n",
              "\n",
              "    .dataframe tbody tr th {\n",
              "        vertical-align: top;\n",
              "    }\n",
              "\n",
              "    .dataframe thead th {\n",
              "        text-align: right;\n",
              "    }\n",
              "</style>\n",
              "<table border=\"1\" class=\"dataframe\">\n",
              "  <thead>\n",
              "    <tr style=\"text-align: right;\">\n",
              "      <th></th>\n",
              "      <th>tweet_id</th>\n",
              "      <th>sentiment</th>\n",
              "      <th>content</th>\n",
              "      <th>result_x</th>\n",
              "      <th>size</th>\n",
              "      <th>result_y</th>\n",
              "      <th>Group_Count</th>\n",
              "    </tr>\n",
              "  </thead>\n",
              "  <tbody>\n",
              "    <tr>\n",
              "      <th>1</th>\n",
              "      <td>1956967666</td>\n",
              "      <td>sadness</td>\n",
              "      <td>Layin n bed with a headache  ughhhh...waitin o...</td>\n",
              "      <td>Neutral</td>\n",
              "      <td>1696</td>\n",
              "      <td>Negative</td>\n",
              "      <td>1886</td>\n",
              "    </tr>\n",
              "    <tr>\n",
              "      <th>2</th>\n",
              "      <td>1956967696</td>\n",
              "      <td>sadness</td>\n",
              "      <td>Funeral ceremony...gloomy friday...</td>\n",
              "      <td>Neutral</td>\n",
              "      <td>1696</td>\n",
              "      <td>Negative</td>\n",
              "      <td>1886</td>\n",
              "    </tr>\n",
              "    <tr>\n",
              "      <th>3</th>\n",
              "      <td>1956967789</td>\n",
              "      <td>enthusiasm</td>\n",
              "      <td>wants to hang out with friends SOON!</td>\n",
              "      <td>Positive</td>\n",
              "      <td>405</td>\n",
              "      <td>Positive</td>\n",
              "      <td>405</td>\n",
              "    </tr>\n",
              "    <tr>\n",
              "      <th>6</th>\n",
              "      <td>1956968487</td>\n",
              "      <td>sadness</td>\n",
              "      <td>I should be sleep, but im not! thinking about ...</td>\n",
              "      <td>Positive</td>\n",
              "      <td>1583</td>\n",
              "      <td>Negative</td>\n",
              "      <td>1886</td>\n",
              "    </tr>\n",
              "    <tr>\n",
              "      <th>8</th>\n",
              "      <td>1956969035</td>\n",
              "      <td>sadness</td>\n",
              "      <td>@charviray Charlene my love. I miss you</td>\n",
              "      <td>Positive</td>\n",
              "      <td>1583</td>\n",
              "      <td>Negative</td>\n",
              "      <td>1886</td>\n",
              "    </tr>\n",
              "    <tr>\n",
              "      <th>...</th>\n",
              "      <td>...</td>\n",
              "      <td>...</td>\n",
              "      <td>...</td>\n",
              "      <td>...</td>\n",
              "      <td>...</td>\n",
              "      <td>...</td>\n",
              "      <td>...</td>\n",
              "    </tr>\n",
              "    <tr>\n",
              "      <th>39994</th>\n",
              "      <td>1753918900</td>\n",
              "      <td>happiness</td>\n",
              "      <td>Succesfully following Tayla!!</td>\n",
              "      <td>Neutral</td>\n",
              "      <td>1224</td>\n",
              "      <td>Positive</td>\n",
              "      <td>3640</td>\n",
              "    </tr>\n",
              "    <tr>\n",
              "      <th>39996</th>\n",
              "      <td>1753919001</td>\n",
              "      <td>love</td>\n",
              "      <td>Happy Mothers Day  All my love</td>\n",
              "      <td>Positive</td>\n",
              "      <td>2944</td>\n",
              "      <td>Positive</td>\n",
              "      <td>2944</td>\n",
              "    </tr>\n",
              "    <tr>\n",
              "      <th>39997</th>\n",
              "      <td>1753919005</td>\n",
              "      <td>love</td>\n",
              "      <td>Happy Mother's Day to all the mommies out ther...</td>\n",
              "      <td>Positive</td>\n",
              "      <td>2944</td>\n",
              "      <td>Positive</td>\n",
              "      <td>2944</td>\n",
              "    </tr>\n",
              "    <tr>\n",
              "      <th>39998</th>\n",
              "      <td>1753919043</td>\n",
              "      <td>happiness</td>\n",
              "      <td>@niariley WASSUP BEAUTIFUL!!! FOLLOW ME!!  PEE...</td>\n",
              "      <td>Positive</td>\n",
              "      <td>3640</td>\n",
              "      <td>Positive</td>\n",
              "      <td>3640</td>\n",
              "    </tr>\n",
              "    <tr>\n",
              "      <th>39999</th>\n",
              "      <td>1753919049</td>\n",
              "      <td>love</td>\n",
              "      <td>@mopedronin bullet train from tokyo    the gf ...</td>\n",
              "      <td>Neutral</td>\n",
              "      <td>684</td>\n",
              "      <td>Positive</td>\n",
              "      <td>2944</td>\n",
              "    </tr>\n",
              "  </tbody>\n",
              "</table>\n",
              "<p>21966 rows × 7 columns</p>\n",
              "</div>"
            ],
            "text/plain": [
              "         tweet_id   sentiment  ...  result_y Group_Count\n",
              "1      1956967666     sadness  ...  Negative        1886\n",
              "2      1956967696     sadness  ...  Negative        1886\n",
              "3      1956967789  enthusiasm  ...  Positive         405\n",
              "6      1956968487     sadness  ...  Negative        1886\n",
              "8      1956969035     sadness  ...  Negative        1886\n",
              "...           ...         ...  ...       ...         ...\n",
              "39994  1753918900   happiness  ...  Positive        3640\n",
              "39996  1753919001        love  ...  Positive        2944\n",
              "39997  1753919005        love  ...  Positive        2944\n",
              "39998  1753919043   happiness  ...  Positive        3640\n",
              "39999  1753919049        love  ...  Positive        2944\n",
              "\n",
              "[21966 rows x 7 columns]"
            ]
          },
          "metadata": {},
          "execution_count": 99
        }
      ]
    },
    {
      "cell_type": "code",
      "metadata": {
        "colab": {
          "base_uri": "https://localhost:8080/",
          "height": 417
        },
        "id": "LCFSeNjAbef2",
        "outputId": "fdb56498-3472-45f4-bee3-df31087aea9c"
      },
      "source": [
        "final_df= mergedStuff[[\"result_y\",\"content\"]]\n",
        "final_df = pd.DataFrame(final_df)\n",
        "final_df"
      ],
      "execution_count": null,
      "outputs": [
        {
          "output_type": "execute_result",
          "data": {
            "text/html": [
              "<div>\n",
              "<style scoped>\n",
              "    .dataframe tbody tr th:only-of-type {\n",
              "        vertical-align: middle;\n",
              "    }\n",
              "\n",
              "    .dataframe tbody tr th {\n",
              "        vertical-align: top;\n",
              "    }\n",
              "\n",
              "    .dataframe thead th {\n",
              "        text-align: right;\n",
              "    }\n",
              "</style>\n",
              "<table border=\"1\" class=\"dataframe\">\n",
              "  <thead>\n",
              "    <tr style=\"text-align: right;\">\n",
              "      <th></th>\n",
              "      <th>result_y</th>\n",
              "      <th>content</th>\n",
              "    </tr>\n",
              "  </thead>\n",
              "  <tbody>\n",
              "    <tr>\n",
              "      <th>1</th>\n",
              "      <td>Negative</td>\n",
              "      <td>Layin n bed with a headache  ughhhh...waitin o...</td>\n",
              "    </tr>\n",
              "    <tr>\n",
              "      <th>2</th>\n",
              "      <td>Negative</td>\n",
              "      <td>Funeral ceremony...gloomy friday...</td>\n",
              "    </tr>\n",
              "    <tr>\n",
              "      <th>3</th>\n",
              "      <td>Positive</td>\n",
              "      <td>wants to hang out with friends SOON!</td>\n",
              "    </tr>\n",
              "    <tr>\n",
              "      <th>6</th>\n",
              "      <td>Negative</td>\n",
              "      <td>I should be sleep, but im not! thinking about ...</td>\n",
              "    </tr>\n",
              "    <tr>\n",
              "      <th>8</th>\n",
              "      <td>Negative</td>\n",
              "      <td>@charviray Charlene my love. I miss you</td>\n",
              "    </tr>\n",
              "    <tr>\n",
              "      <th>...</th>\n",
              "      <td>...</td>\n",
              "      <td>...</td>\n",
              "    </tr>\n",
              "    <tr>\n",
              "      <th>39994</th>\n",
              "      <td>Positive</td>\n",
              "      <td>Succesfully following Tayla!!</td>\n",
              "    </tr>\n",
              "    <tr>\n",
              "      <th>39996</th>\n",
              "      <td>Positive</td>\n",
              "      <td>Happy Mothers Day  All my love</td>\n",
              "    </tr>\n",
              "    <tr>\n",
              "      <th>39997</th>\n",
              "      <td>Positive</td>\n",
              "      <td>Happy Mother's Day to all the mommies out ther...</td>\n",
              "    </tr>\n",
              "    <tr>\n",
              "      <th>39998</th>\n",
              "      <td>Positive</td>\n",
              "      <td>@niariley WASSUP BEAUTIFUL!!! FOLLOW ME!!  PEE...</td>\n",
              "    </tr>\n",
              "    <tr>\n",
              "      <th>39999</th>\n",
              "      <td>Positive</td>\n",
              "      <td>@mopedronin bullet train from tokyo    the gf ...</td>\n",
              "    </tr>\n",
              "  </tbody>\n",
              "</table>\n",
              "<p>21966 rows × 2 columns</p>\n",
              "</div>"
            ],
            "text/plain": [
              "       result_y                                            content\n",
              "1      Negative  Layin n bed with a headache  ughhhh...waitin o...\n",
              "2      Negative                Funeral ceremony...gloomy friday...\n",
              "3      Positive               wants to hang out with friends SOON!\n",
              "6      Negative  I should be sleep, but im not! thinking about ...\n",
              "8      Negative            @charviray Charlene my love. I miss you\n",
              "...         ...                                                ...\n",
              "39994  Positive                      Succesfully following Tayla!!\n",
              "39996  Positive                     Happy Mothers Day  All my love\n",
              "39997  Positive  Happy Mother's Day to all the mommies out ther...\n",
              "39998  Positive  @niariley WASSUP BEAUTIFUL!!! FOLLOW ME!!  PEE...\n",
              "39999  Positive  @mopedronin bullet train from tokyo    the gf ...\n",
              "\n",
              "[21966 rows x 2 columns]"
            ]
          },
          "metadata": {},
          "execution_count": 100
        }
      ]
    },
    {
      "cell_type": "code",
      "metadata": {
        "colab": {
          "base_uri": "https://localhost:8080/",
          "height": 417
        },
        "id": "uEaZOWw7dAJH",
        "outputId": "c49434e5-cf59-4807-ef0b-16395ab37ebc"
      },
      "source": [
        "final_df['result_y'] = final_df.result_y.map({'Negative' : 0, 'Positive' : 1})\n",
        "final_df"
      ],
      "execution_count": null,
      "outputs": [
        {
          "output_type": "execute_result",
          "data": {
            "text/html": [
              "<div>\n",
              "<style scoped>\n",
              "    .dataframe tbody tr th:only-of-type {\n",
              "        vertical-align: middle;\n",
              "    }\n",
              "\n",
              "    .dataframe tbody tr th {\n",
              "        vertical-align: top;\n",
              "    }\n",
              "\n",
              "    .dataframe thead th {\n",
              "        text-align: right;\n",
              "    }\n",
              "</style>\n",
              "<table border=\"1\" class=\"dataframe\">\n",
              "  <thead>\n",
              "    <tr style=\"text-align: right;\">\n",
              "      <th></th>\n",
              "      <th>result_y</th>\n",
              "      <th>content</th>\n",
              "    </tr>\n",
              "  </thead>\n",
              "  <tbody>\n",
              "    <tr>\n",
              "      <th>1</th>\n",
              "      <td>0</td>\n",
              "      <td>Layin n bed with a headache  ughhhh...waitin o...</td>\n",
              "    </tr>\n",
              "    <tr>\n",
              "      <th>2</th>\n",
              "      <td>0</td>\n",
              "      <td>Funeral ceremony...gloomy friday...</td>\n",
              "    </tr>\n",
              "    <tr>\n",
              "      <th>3</th>\n",
              "      <td>1</td>\n",
              "      <td>wants to hang out with friends SOON!</td>\n",
              "    </tr>\n",
              "    <tr>\n",
              "      <th>6</th>\n",
              "      <td>0</td>\n",
              "      <td>I should be sleep, but im not! thinking about ...</td>\n",
              "    </tr>\n",
              "    <tr>\n",
              "      <th>8</th>\n",
              "      <td>0</td>\n",
              "      <td>@charviray Charlene my love. I miss you</td>\n",
              "    </tr>\n",
              "    <tr>\n",
              "      <th>...</th>\n",
              "      <td>...</td>\n",
              "      <td>...</td>\n",
              "    </tr>\n",
              "    <tr>\n",
              "      <th>39994</th>\n",
              "      <td>1</td>\n",
              "      <td>Succesfully following Tayla!!</td>\n",
              "    </tr>\n",
              "    <tr>\n",
              "      <th>39996</th>\n",
              "      <td>1</td>\n",
              "      <td>Happy Mothers Day  All my love</td>\n",
              "    </tr>\n",
              "    <tr>\n",
              "      <th>39997</th>\n",
              "      <td>1</td>\n",
              "      <td>Happy Mother's Day to all the mommies out ther...</td>\n",
              "    </tr>\n",
              "    <tr>\n",
              "      <th>39998</th>\n",
              "      <td>1</td>\n",
              "      <td>@niariley WASSUP BEAUTIFUL!!! FOLLOW ME!!  PEE...</td>\n",
              "    </tr>\n",
              "    <tr>\n",
              "      <th>39999</th>\n",
              "      <td>1</td>\n",
              "      <td>@mopedronin bullet train from tokyo    the gf ...</td>\n",
              "    </tr>\n",
              "  </tbody>\n",
              "</table>\n",
              "<p>21966 rows × 2 columns</p>\n",
              "</div>"
            ],
            "text/plain": [
              "       result_y                                            content\n",
              "1             0  Layin n bed with a headache  ughhhh...waitin o...\n",
              "2             0                Funeral ceremony...gloomy friday...\n",
              "3             1               wants to hang out with friends SOON!\n",
              "6             0  I should be sleep, but im not! thinking about ...\n",
              "8             0            @charviray Charlene my love. I miss you\n",
              "...         ...                                                ...\n",
              "39994         1                      Succesfully following Tayla!!\n",
              "39996         1                     Happy Mothers Day  All my love\n",
              "39997         1  Happy Mother's Day to all the mommies out ther...\n",
              "39998         1  @niariley WASSUP BEAUTIFUL!!! FOLLOW ME!!  PEE...\n",
              "39999         1  @mopedronin bullet train from tokyo    the gf ...\n",
              "\n",
              "[21966 rows x 2 columns]"
            ]
          },
          "metadata": {},
          "execution_count": 101
        }
      ]
    },
    {
      "cell_type": "code",
      "metadata": {
        "colab": {
          "base_uri": "https://localhost:8080/"
        },
        "id": "zY-eGgywdACU",
        "outputId": "755e8343-8701-43bb-a0bd-fb68b92a8f1e"
      },
      "source": [
        "from sklearn.model_selection import train_test_split\n",
        "X_train, X_test, y_train, y_test = train_test_split(final_df['content'], final_df['result_y'], random_state=1)\n",
        "\n",
        "print('Number of rows in the total set: {}'.format(final_df.shape[0]))\n",
        "print('Number of rows in the training set: {}'.format(X_train.shape[0]))\n",
        "print('Number of rows in the test set: {}'.format(X_test.shape[0]))\n",
        "print(X_train)"
      ],
      "execution_count": null,
      "outputs": [
        {
          "output_type": "stream",
          "name": "stdout",
          "text": [
            "Number of rows in the total set: 21966\n",
            "Number of rows in the training set: 16474\n",
            "Number of rows in the test set: 5492\n",
            "5886     I think I'm about to break my own heart. (as e...\n",
            "4230     Jus back after watching Night at a Museum 2......\n",
            "4205     @Sweena ... so I can't charge you by the hour ...\n",
            "17548    My best mate found out that I am moving. She d...\n",
            "37180    @RealBillBailey Cool show last night had me in...\n",
            "                               ...                        \n",
            "22460                                    back in bucharest\n",
            "32815    @Syreeta306 girl u sit ya double decker neck a...\n",
            "10846                                         bad mood now\n",
            "24480    @AmandaHol Britains got Talent just gets bette...\n",
            "523                            I don't want her to leave..\n",
            "Name: content, Length: 16474, dtype: object\n"
          ]
        }
      ]
    },
    {
      "cell_type": "code",
      "metadata": {
        "id": "b_aXLhR6c_9z"
      },
      "source": [
        "from sklearn.feature_extraction.text import CountVectorizer\n",
        "cv = CountVectorizer()\n",
        "X_train_cv = cv.fit_transform((X_train).apply(lambda x: np.str_(x)))\n",
        "X_test_cv = cv.transform((X_test).apply(lambda x: np.str_(x)))"
      ],
      "execution_count": null,
      "outputs": []
    },
    {
      "cell_type": "code",
      "metadata": {
        "colab": {
          "base_uri": "https://localhost:8080/"
        },
        "id": "ZsRO3dvsc_xH",
        "outputId": "99a390d7-bdf6-4f7f-85f0-f33fdb770e1a"
      },
      "source": [
        "from sklearn.naive_bayes import MultinomialNB\n",
        "naive_bayes = MultinomialNB()\n",
        "naive_bayes.fit(X_train_cv,y_train)"
      ],
      "execution_count": null,
      "outputs": [
        {
          "output_type": "execute_result",
          "data": {
            "text/plain": [
              "MultinomialNB(alpha=1.0, class_prior=None, fit_prior=True)"
            ]
          },
          "metadata": {},
          "execution_count": 104
        }
      ]
    },
    {
      "cell_type": "code",
      "metadata": {
        "id": "bNvrvYzod4A0"
      },
      "source": [
        "predictions = naive_bayes.predict(X_test_cv)"
      ],
      "execution_count": null,
      "outputs": []
    },
    {
      "cell_type": "code",
      "metadata": {
        "colab": {
          "base_uri": "https://localhost:8080/"
        },
        "id": "tcatLaEad35o",
        "outputId": "a248ddc3-e3c7-40b9-ce00-a8c352c68b25"
      },
      "source": [
        "from sklearn.metrics import accuracy_score, precision_score, recall_score, f1_score\n",
        "\n",
        "print('Accuracy score: ', format(accuracy_score(y_test, predictions)))\n",
        "print('Precision score: ', format(precision_score(y_test, predictions)))\n",
        "print('Recall score: ', format(recall_score(y_test, predictions)))\n",
        "print('F1 score: ', format(f1_score(y_test, predictions)))"
      ],
      "execution_count": null,
      "outputs": [
        {
          "output_type": "stream",
          "name": "stdout",
          "text": [
            "Accuracy score:  0.7773124544792426\n",
            "Precision score:  0.7903587443946188\n",
            "Recall score:  0.9244689221085759\n",
            "F1 score:  0.8521697086909222\n"
          ]
        }
      ]
    },
    {
      "cell_type": "code",
      "metadata": {
        "colab": {
          "base_uri": "https://localhost:8080/",
          "height": 403
        },
        "id": "1ScWFMqsOjoM",
        "outputId": "a0bd38b3-1057-4893-b87d-65e53de4844a"
      },
      "source": [
        "df.groupby(['sentiment','result']).size().plot(kind='bar')"
      ],
      "execution_count": null,
      "outputs": [
        {
          "output_type": "execute_result",
          "data": {
            "text/plain": [
              "<matplotlib.axes._subplots.AxesSubplot at 0x7f4f7dd9e2d0>"
            ]
          },
          "metadata": {},
          "execution_count": 107
        },
        {
          "output_type": "display_data",
          "data": {
            "image/png": "[encoded data removed]",
            "text/plain": [
              "<Figure size 432x288 with 1 Axes>"
            ]
          },
          "metadata": {
            "needs_background": "light"
          }
        }
      ]
    },
    {
      "cell_type": "code",
      "metadata": {
        "id": "AJsgOAXRbDZi"
      },
      "source": [
        "df['clean_text'] = df['content'].apply(nfx.remove_stopwords)"
      ],
      "execution_count": null,
      "outputs": []
    },
    {
      "cell_type": "code",
      "metadata": {
        "id": "mlqmttihbe8B"
      },
      "source": [
        "df['clean_text'] = df['clean_text'].apply(nfx.remove_userhandles)"
      ],
      "execution_count": null,
      "outputs": []
    },
    {
      "cell_type": "code",
      "metadata": {
        "id": "3WKOYwuGbfZw"
      },
      "source": [
        "df['clean_text'] = df['clean_text'].apply(nfx.remove_punctuations)"
      ],
      "execution_count": null,
      "outputs": []
    },
    {
      "cell_type": "code",
      "metadata": {
        "colab": {
          "base_uri": "https://localhost:8080/",
          "height": 417
        },
        "id": "QwpyYR73b0Ay",
        "outputId": "c98928a0-3902-4142-84ec-e5cde857e161"
      },
      "source": [
        "df[['content','clean_text']]"
      ],
      "execution_count": null,
      "outputs": [
        {
          "output_type": "execute_result",
          "data": {
            "text/html": [
              "<div>\n",
              "<style scoped>\n",
              "    .dataframe tbody tr th:only-of-type {\n",
              "        vertical-align: middle;\n",
              "    }\n",
              "\n",
              "    .dataframe tbody tr th {\n",
              "        vertical-align: top;\n",
              "    }\n",
              "\n",
              "    .dataframe thead th {\n",
              "        text-align: right;\n",
              "    }\n",
              "</style>\n",
              "<table border=\"1\" class=\"dataframe\">\n",
              "  <thead>\n",
              "    <tr style=\"text-align: right;\">\n",
              "      <th></th>\n",
              "      <th>content</th>\n",
              "      <th>clean_text</th>\n",
              "    </tr>\n",
              "  </thead>\n",
              "  <tbody>\n",
              "    <tr>\n",
              "      <th>0</th>\n",
              "      <td>@tiffanylue i know  i was listenin to bad habi...</td>\n",
              "      <td>know listenin bad habit earlier started frea...</td>\n",
              "    </tr>\n",
              "    <tr>\n",
              "      <th>1</th>\n",
              "      <td>Layin n bed with a headache  ughhhh...waitin o...</td>\n",
              "      <td>Layin n bed headache ughhhhwaitin call</td>\n",
              "    </tr>\n",
              "    <tr>\n",
              "      <th>2</th>\n",
              "      <td>Funeral ceremony...gloomy friday...</td>\n",
              "      <td>Funeral ceremonygloomy friday</td>\n",
              "    </tr>\n",
              "    <tr>\n",
              "      <th>3</th>\n",
              "      <td>wants to hang out with friends SOON!</td>\n",
              "      <td>wants hang friends SOON</td>\n",
              "    </tr>\n",
              "    <tr>\n",
              "      <th>4</th>\n",
              "      <td>@dannycastillo We want to trade with someone w...</td>\n",
              "      <td>want trade Houston tickets will</td>\n",
              "    </tr>\n",
              "    <tr>\n",
              "      <th>...</th>\n",
              "      <td>...</td>\n",
              "      <td>...</td>\n",
              "    </tr>\n",
              "    <tr>\n",
              "      <th>39995</th>\n",
              "      <td>@JohnLloydTaylor</td>\n",
              "      <td></td>\n",
              "    </tr>\n",
              "    <tr>\n",
              "      <th>39996</th>\n",
              "      <td>Happy Mothers Day  All my love</td>\n",
              "      <td>Happy Mothers Day love</td>\n",
              "    </tr>\n",
              "    <tr>\n",
              "      <th>39997</th>\n",
              "      <td>Happy Mother's Day to all the mommies out ther...</td>\n",
              "      <td>Happy Mothers Day mommies there woman man long...</td>\n",
              "    </tr>\n",
              "    <tr>\n",
              "      <th>39998</th>\n",
              "      <td>@niariley WASSUP BEAUTIFUL!!! FOLLOW ME!!  PEE...</td>\n",
              "      <td>WASSUP BEAUTIFUL FOLLOW ME PEEP NEW HIT SING...</td>\n",
              "    </tr>\n",
              "    <tr>\n",
              "      <th>39999</th>\n",
              "      <td>@mopedronin bullet train from tokyo    the gf ...</td>\n",
              "      <td>bullet train tokyo gf visiting japan thursda...</td>\n",
              "    </tr>\n",
              "  </tbody>\n",
              "</table>\n",
              "<p>40000 rows × 2 columns</p>\n",
              "</div>"
            ],
            "text/plain": [
              "                                                 content                                         clean_text\n",
              "0      @tiffanylue i know  i was listenin to bad habi...    know listenin bad habit earlier started frea...\n",
              "1      Layin n bed with a headache  ughhhh...waitin o...             Layin n bed headache ughhhhwaitin call\n",
              "2                    Funeral ceremony...gloomy friday...                      Funeral ceremonygloomy friday\n",
              "3                   wants to hang out with friends SOON!                            wants hang friends SOON\n",
              "4      @dannycastillo We want to trade with someone w...                    want trade Houston tickets will\n",
              "...                                                  ...                                                ...\n",
              "39995                                   @JohnLloydTaylor                                                   \n",
              "39996                     Happy Mothers Day  All my love                             Happy Mothers Day love\n",
              "39997  Happy Mother's Day to all the mommies out ther...  Happy Mothers Day mommies there woman man long...\n",
              "39998  @niariley WASSUP BEAUTIFUL!!! FOLLOW ME!!  PEE...    WASSUP BEAUTIFUL FOLLOW ME PEEP NEW HIT SING...\n",
              "39999  @mopedronin bullet train from tokyo    the gf ...    bullet train tokyo gf visiting japan thursda...\n",
              "\n",
              "[40000 rows x 2 columns]"
            ]
          },
          "metadata": {},
          "execution_count": 111
        }
      ]
    },
    {
      "cell_type": "code",
      "metadata": {
        "colab": {
          "base_uri": "https://localhost:8080/",
          "height": 35
        },
        "id": "O9rG7J_Gc1tO",
        "outputId": "4490d726-d464-4733-d47a-22486ba97fb4"
      },
      "source": [
        "# example for cleaning text\n",
        "df['content'][0]"
      ],
      "execution_count": null,
      "outputs": [
        {
          "output_type": "execute_result",
          "data": {
            "application/vnd.google.colaboratory.intrinsic+json": {
              "type": "string"
            },
            "text/plain": [
              "'@tiffanylue i know  i was listenin to bad habit earlier and i started freakin at his part =['"
            ]
          },
          "metadata": {},
          "execution_count": 112
        }
      ]
    },
    {
      "cell_type": "code",
      "metadata": {
        "colab": {
          "base_uri": "https://localhost:8080/",
          "height": 35
        },
        "id": "qvkrkvSudVrs",
        "outputId": "790b170d-50a5-4127-e5cd-a3d1adbd1d27"
      },
      "source": [
        "df['clean_text'][0]"
      ],
      "execution_count": null,
      "outputs": [
        {
          "output_type": "execute_result",
          "data": {
            "application/vnd.google.colaboratory.intrinsic+json": {
              "type": "string"
            },
            "text/plain": [
              "'  know listenin bad habit earlier started freakin =['"
            ]
          },
          "metadata": {},
          "execution_count": 113
        }
      ]
    },
    {
      "cell_type": "markdown",
      "metadata": {
        "id": "fxXuUOPue3ud"
      },
      "source": [
        "### keyboard extarction\n",
        "extract most commonset words per class of emotions"
      ]
    },
    {
      "cell_type": "code",
      "metadata": {
        "id": "05yz9W_ad0qC"
      },
      "source": [
        "from collections import Counter"
      ],
      "execution_count": null,
      "outputs": []
    },
    {
      "cell_type": "code",
      "metadata": {
        "id": "8n2W0yqCd9iD"
      },
      "source": [
        "def extract_keywords(text,num = 50):\n",
        "  tokens = [ tok for tok in text.split() ]\n",
        "  most_comon_token = Counter(tokens).most_common(num)\n",
        "  return dict(most_comon_token)"
      ],
      "execution_count": null,
      "outputs": []
    },
    {
      "cell_type": "code",
      "metadata": {
        "id": "dLm2l8Jsho5P"
      },
      "source": [
        "emotion_list = df['sentiment'].unique().tolist()"
      ],
      "execution_count": null,
      "outputs": []
    },
    {
      "cell_type": "code",
      "metadata": {
        "colab": {
          "base_uri": "https://localhost:8080/"
        },
        "id": "ChwsquFFjVfD",
        "outputId": "05ab199a-4f4d-46a8-fcac-7f34fe0b3078"
      },
      "source": [
        "emotion_list"
      ],
      "execution_count": null,
      "outputs": [
        {
          "output_type": "execute_result",
          "data": {
            "text/plain": [
              "['empty',\n",
              " 'sadness',\n",
              " 'enthusiasm',\n",
              " 'neutral',\n",
              " 'worry',\n",
              " 'surprise',\n",
              " 'love',\n",
              " 'fun',\n",
              " 'hate',\n",
              " 'happiness',\n",
              " 'boredom',\n",
              " 'relief',\n",
              " 'anger']"
            ]
          },
          "metadata": {},
          "execution_count": 117
        }
      ]
    },
    {
      "cell_type": "code",
      "metadata": {
        "id": "tr_e5tlKxdRr"
      },
      "source": [
        "fun_list = df[df['sentiment'] == 'fun']['clean_text'].tolist()"
      ],
      "execution_count": null,
      "outputs": []
    },
    {
      "cell_type": "code",
      "metadata": {
        "id": "xYZZvx9AyqLj"
      },
      "source": [
        "fun_docs = ' '.join(fun_list)"
      ],
      "execution_count": null,
      "outputs": []
    },
    {
      "cell_type": "code",
      "metadata": {
        "colab": {
          "base_uri": "https://localhost:8080/",
          "height": 120
        },
        "id": "JvcFbSNjzooY",
        "outputId": "afc39c1e-23f8-4853-b0ac-cf7ed4052f43"
      },
      "source": [
        "fun_docs"
      ],
      "execution_count": null,
      "outputs": [
        {
          "output_type": "execute_result",
          "data": {
            "application/vnd.google.colaboratory.intrinsic+json": {
              "type": "string"
            },
            "text/plain": [
              "'Wondering Im awake 7amwriting new songplotting evil secret plots muahahahaoh damn itnot secret anymore   lt3 gonna twitter ) cause amazing lol come canada perform RIP leonardo great mini fiddler crab   out memo looks amazing   OMG Ur alive LOL 2day gone sooo slow Im going insane Grrr tonight   california vintage ahahah BEST dresses want dont ebay (    Umm yeah Thats probably pretty good note self eeeeeewwwwwwww   Thats awesome weekend cant Im moving Sat lot fun finished im not color drawing come   Lettuce amp spinach best cool weather live floridanot luck growing those   know enjoy watching twitter entertaining comic miss BFF rocking Hotel California now   songs stay same Whats next Hmmm Careless whisper   dissapointment hhaha creeped ice cream social good times lars real girl sad movie playing street fighter IV Seth Raped clear DVR getting rid tomorrw   hell yeah missed u nite lol u like opinion wish   burning trees trying dresses spent 2 hours playing TF2 think Im better started unny today not taking long decide haha wna tan watched 7 pounds maaaannnnnnnnn fun beach today delicious dinner   house friggin love Mark Josh Im gonna miss them   gonna ask wanted CLUB Hidden House sat night hehe   awwthats one RooOop   actually Id prefer rum gin Ive preferred previously     said shell b @ home 5mins tweet u lol want blackberry sidekick hella wack night Listening nice music think bed nice rested ill miss Russel Brands Ponderland EXPECTO PATRONUM  happens Walking work gloriously sunny day Going good weekend burn suncream #fb   yeah like oh oh oh yeah thats said lol bummer   haha father daugter bonding time Lol anyways g2g work msn later Ill bored x   LOL know read cos dad chucks gets home   SOMEBODY ACTUALLY TOLD THAT LOL constantly listening   song Fly Meb/c cutest songquotPeter Pan amp Wendy turned finequot   lol yeah haha yeah things okay pretty same slowly sorting lol exams coming D: haha http://twitpiccom/6661g  day METRO magazine Tata dream job (PS: June issue now Czech out)   nuhhhh info ticketek Heaps excited though dont care hope much Want hands dirty FubuMVC http://bitly/J00ha document complete   Yay Thank you Feels like ur yelling LOL # days summervac amp school comes 2 end amp annual problem r generation finding good way 2 spend it   haha nice fun doll Hopefully Ill ya soon miss ur face yummy chocolate cakewish got bday anybody listening   ill alright whip   feel like red lea oclock cant come faster Planning road trip San Diego detour Vegas celebrate birthday bad 7 wks away want now   lucky kidi wanna loserville pity im oz fun club tonight lot mind   Heading Poole 4ish   gardening go Tweetdeck til Sunday evening Im saying goodbye Sydney days Hello Rapeville Ill miss pretty great curlupinaballandread later wish book   haha balcony seats great theres giant dragon thing glowing red eyes moves wings     set room Saturday cant apologise missing Deccy   Whats today missed #coffeeclub day wanna Jonas Brothers concert cant WHITE SOX players @ random bars to Cubs players waaah old house again Thanks net keeps alive kicking invented net wanna kiss hair   dooood working tea time later working tonight   missing out bb im cereal nut think like kind available   good back late got scaring people Im pleased tired morning allbeautiful daybest enjoy sunshine workunfortunately   oh joy Elmo potty video too leather shoes bags hard resist   see Lol Ill fun follow tomorrowI bed now want play parachute games beautiful day Going edit Lisa Maxwell interview day Bill now Shame cant laptop screen outside   Ive totally MIA know bad   hmmwell aint hot hull lol xx found kitty pregnant good thing though going adopt instead Working home Wifi reaching garden Goin 2 eat SMACKS 4 breakfast getting started day catch ya flipside wish cud mobiledang Bahrain   oh no woke accidentally fall asleep scare P2 P3 stories JK   Ahhh Jealous nice time Ill x Im looking forward working 8 days Come Sunday dead   Yup 1987 lol SWEET YEAR haha Ive finished 4th year Argh Uni going soooooo quick home sweet home think no huaaaa TWEEEEEET good morning twitterland going work 1 need packing cleaning flat minus day yay cheerleading im sick gonna fun night peoples   Fail fancy pit stop cuppa know am lol Ulcer Musical ulcerrific ulstacular Stomach bleeding fun family (apparently drinks no)   know joke good fun people humor amp dont http://twitpiccom/66ltb  Finito~ Hunk Ah Hunk Burning Love believe camera phone stuffed Stupid blurryness   good stuff   remember tmrw day hopefully craptastic sorry girrrrl ready busy FUN day tomorrow gotta busy lover gone Travel trade stalwart David Steele City Cruises marks retirement Thames Cruise Party tonight  press day means miss job hunting yay   dammmi thought lollllll   Celebrity sighting: Spongebobs here #BEA09 LOL Im distraught missed   watch point hd Stace wants hd waiting   lmao good push bra makes abs look smaller order Robbikinesque abs 6 days week working   ready weekend hope sun comes later today tho u from     homieLILI black 75% exact lol Good Morning Friday start work week But Lakers going 4th W tonight Woohoo LAKERS spent day putting trampoline tired use it cool though   hahaha tempting nvm la im klutz actually fare better hp cam LOL U watch spelling bee contest  winner: Kavya Shivshankar  Impressive performance  heared words b4 hot outside thank goodness car amazing ac cyalater work trying win tickets comon dc101 hearing birds chirp makes think nice outsidewell rain rain away   Haha cant good vid tubeyyou thugh   unreall http://twitpiccom/66nvm   Tom   wondering tour Asia specifically Philippines chance soon   argh Interested Time maybe cant go Maybe Demoing Gary burr excited quotgirlsquot music tape Missing Tayla   Yes soak sure gonna fast n furious year reason revel moment want Universal too   Yumwish today cold want infect othersso miss Friday session figuring watch Middlesbrough games year dreaded drop   got coupons Popeyes chicken Ill probably end getting burrito freshii  salad joint healthy   not retarded thing 16th know me like retarded 8(   noooo why gonna there wandelweekend   ) NICE want it Ill pirated ) MISS   im trying like successful far haha   guys Philippines coolest thing ever wanted concerts Mucking Guitar Rig 3 demo   Thats fun clean   text plan phone Ill send # though welcome call wanted gig tonight Fall boy year book   Picking couple toys tonight D300 50mm f/14 YAY :D weekend   haha talking colleague 539 DMs 15  20 actual messages spam Im super hungry Waiting biotch feed me   told guys going passes going downtown disney Yay Listening Music Box Mariah sing tickets Amadou Miriam Tue June 2 cant use $25 wants em Thats face value good   totally cant ride sidewalk like kids lot safe road crazy drivers hope find store   aw no feel better Mandy Hope getting sick know nurse hehe Ive got sunburnt knees funny now bet theyll sting later fab day x   thats great good jump roping   fun missing   lol plaid bud haha damn cant BG right WORS bike race camp weekend=a total 1500 people Going Sunday option race right past house #fb says tomorrow day http://plurkcom/p/x1pxh   fun dont school while wish germany like 1 hour away xoxo MorningI woke watch   Today show rocked girl Wish there close far away   dunno man bout wendys mmmmmm dont gots Htown   cold me Im work #FollowFriday honor web buddies moved           yeah face2face nite went palisades star trek cant remember it said car   wanna SexxieLuv party   soooo funny thanks today btw lebron harassed   awww laavly ) come Ive got stunning wee tan (l) ) yourself 430am sleep timeee wanted watch Gossip Girl im way tired Goodnight Getting field vehicles cleaned Looks like action hero governor wants furlough day nice Blah registered coach summer eh tourney starts July 6th vacation 7/1528th Fk life haha Yesterday today weekendback work 2moro office trying solve mystery blood bathroom toilet eewwwww   Hugs hubby Ill probably place come 1st September   Headaches suck especially stress related ones lot lt3 boo cant sleep saying hi random people   Toooooom tour Philippines pleeease Im risking health reply Haha   hello Marina Green  participate Barcelona weeken *really* want   concert tomorrow wzzzzzzzzzup derrek r starting band practice Jayk Skylar leaving california today lucky LOVE ride superman right now   IM SOWWIE LIL LATE LOL looked good )   good sally beeeeen there xxxx   ya girliehavent heard missing cheery dispositionLOL   haha friends party realized forgot stepmoms bday come home her   hope tweets Sent much swear tour Philippines please *prays*   im playing good im big baby   drag hell looks freakin scary watch terminator good *pokes runs away*  WANT SUGAR    wish 12hr nap lets talk rachel getting now lol   Thats great forced miss it leave work   eek cant wait it elses gahh know want lol Were dealing Overactive LetDown right now http://bitly/9ydHU 10 40 done going home drinking beer starting week way Griffins staples removed head fun busy day today Banbury Fair fashion tonight apartment tomorrow started packing morning rode guy bird cage containing plastic Tyrannosaurus rex attached bicycle photo   Tell work days row Stat Im time Im supposed priority ok finished Mikados shut now lol   want Tix Oh right Im know near Vacaville Ca   long lol vacuumed entire house times Screw vacuums Molly keeps punching cuz sees yellow cars Im gonna covered bruises like game   know law rebel small things 4 days birthday want older cant wait UP dare   quotrealquot job Probably going wait tomorrow   http://twitpiccom/66wxk  jealous right nowhate new england weather   daft going recieve million friend invites xbox shall Jus got run sunset blvd cuzin tried kill legs movin Im sittin down     said   mentioned bears fun PS bears like Peanut Butter Pooping Pennsylvania rest stop hate public toilets laughed today hopeful things tonight party w/ girls (minus vita) Carol Vorderman cancelled interivew me proof nonbelievers    Sorry seen  strange happen iPhone  problem Twitterific   Im thinking dawn shot Carlingford Lough sun right place time year involves early rise tho HELP think   crazy funny cant favrd stars help UNBLOCKED favrd star Yaaaaay Friday Oh wait Im working TOMORROW     #twpp #shadez   fan Bulmers Magners pear AWESOME want slush puppy though #Hurryup #classy #omgimpatient   LMAOHa simply wanted NY   welcome new cybercriminaloverlords officially beautiful day year Im stuck inside office Magners BBQ it   sorry got going Vegas weekend asked forever ago fun good luck   lmao alot haha Knight Online Come   whatz supposed mean dog waaaaaaaaaah lol jk   hotttie poooh ooo bet sounda magical (HH) im coming home 1 hour love little brothers friends come   lol cause dad let me keeps waking   U funny u right like BSB Im fan U love better Tupac amp TLC2 bad theyre singing anymore things left sweep mop load van fun tonight Visiting grandparents Manhattan dropping sister week wish excuse tired today   Yeah sound indie need2learn tunes pick mo style =] 1hour Ill c u )   Lucky you drizzling again Mommy says puddles big 4 swim in dog park today   old man thing   aww yeah fun revising distracted easier gtlt yeah Im tired revising history   lol whats wrong workin right sowwwy   Hmm announcing summer shifts facebookyoure cool hahaha Mate think Ive got sunstroke xxx Man wish bathe icecold sunkist right now id sticky   know definitely going try weekend   know too Im hoping got sesame oil loves hell let slide *fingers crossed* Speedbumps suck u gotta piss   Yeah prbly pickin songs SingStar checked store updates dunno Cranberries song airport Philadelphia moment waiting plane leave hour hours plane   staying in hve June exams 4 docent training class need study  hvng zombie movie sunday aftrn u shld come over   nooooooooou anymore lolbut ive good toorick ross town 2 2nite )   viable excuse helping   all Sorry help wanted wear sexy moving outfit Anybody beer right now hate drinking alone Mrs oot hand Mrs oot   awwwon ur way fun toooo   well told weeks im going week friend SCHOOL TIME :p    awlll mann meet summa something   agree tw cat watching housse sabrina teenage witch sister sister reruns MIAPJBeastiesThieveryVoltaBat4LashesBandOfHorses enjoy lineup: http://bitly/16lUgX bad San Fran tonights TV viewing BGT HIGNFY Reggie Perrin Wont tweeting MiniC hidden iPod Everyones talking goodies #BEA09 wanna there   know D: finally got component cables PS2 day instead playing P3:FES played OoT   email kidding wait filling form now seriously sunniest day ages im bed STOOOOPIT STOOOPIT GIRL bros rendition quotStop girlquot   Watching Ellen Love her dishes tanning its gorgeous out Getting ready goingaway dessert reception colleague whos grad school Dravens elbow met cement afternoon Looks nasty look endometriosis Oy Watching Krystle vs Alexis catfights Youtube miss Dynasty   sorry ur hair salon *hug* haydee ur hair haha JK   lol nttn juss mad raining day add dnt think u following me pop idk reply ur tweet phone lol yeah bday days soooo excited   lol yea im thinkin bday bash  everybodys lame wants sit house instead qo wit lol   awww Mary wish come Im going away 2morrow leave twitter nightlast night Barcelona Philly tomorrow Hope u great Friday Muahh friday trying find   ive got cold too sucks u awesome ipswitch xD Waiting momma Chase hell doin money miss WAMU   disappointed quotpromiscuous girlquot thing congrats success think wasted talent       absolutely special Haha special ed think Ive received new followers weekend great saw rest Twilight tonight read fininsh Break know that reminiscing time yr @ BH2 listening awesome music Shame cant repeated vote   mtv movie awards coz comp mashed wont let vote somehow   going NewBrunswick Canada Drive lol live far far away Boooo 2nd wkend bein 21 n ima b tha house Trying sell GM stock napppinggg work 7  11 wish play guitar guitar got christmass ago collecting dust need learn haha Photo: novusnovendo: EYECANDY + LIVE = like STRIPCLUB keeps clothes them http://tumblrcom/x2k1wga72   noo went zoo instead lol ru goin 2night xx   sleepover tonight Cleaning room found this http://yfrogcom/0t2b6j took 2w2v insisted paying ticket getting ready babysit NEW YORK DOLLS TOMORROW NIGHT @ DEPOT CANCELLED REFUNDS AVAILABLE POINT PURCHASE   little time rio de janeiro forgive babelfish Watch Jay Leno tonite day Tonite Host Late Nite Leader someones dead army wives Dad laughed Mum got annoyed him wanna watch Britains Got Talent   want screen adaptation Kick Ass found Nick cage it heart sank   omgggg Hawaii Thats amazing wanna live OMG little girl BGT want summer NOW sprinkling STILL   met me (lol) MIDDLE CREEPY FGS   closer deliver grub you   oh gosh know happend yesterday   youl     xxx Man tha mojitos earlier got feelin type funny Hope sick http://mylocme/20DD   thats brilliant idea buzz   awwwh way bubblin Hav fun heav Metal happy hour guys future   accadentally sets fire smoking   youngests Kindergarten graduation Grateful mom saved me gift son think   1 dont 2 LMFAO WONDER     sounds like Sonicswhich and record spicy bred buffalo wings w/ blu cheese amp beer   yup Rice ready eatOff watch Comet 2009The important music price germanyWow n Lisa arrives 12pm 2 hours preschoolers bowl weigh 3540 lbs Today day year   talk drool  Canon EOS 5D Mark 2 *amazing* bad costs $2k http://tinyurlcom/63qoz4 im going pig ice cream potato chips Jonas Brothers 3D movie   funny hahah cant http://tinyurlcom/magcwo   cant direct message free lunch Maaaaaaaaajor headache gloomy outside gonna lounge today Whoopiiiiii session day http://twitpiccom/67ezh   nope T1i looks super sweet   want pub Boooo youtube watching taylor today wish    mi sausage guys playing 10 pin amp Mexican Great combo bowling good blame previous broken arm Sacto babies kennel Leaving LA fun   Im alivelol ooooo youre extra Justin Rutledge ticket Mod Club tonight   married more Silly man long ago read tweets Barely escaped w/out paying alimony   water park today jealous looking pic Ive cleaning hour http://twitpiccom/67gzx   LolI greedy Im craving Coldstone again Took long napI feel like asleep Late night fun friend early morning wake ups Zeb grumpy girl aparently Sight album sampler cd video PKU meeting London day today favorite PKUers Jessie there PKU Leukemia hospital Awww wanted Greg wants new phone ugh bday 3 weeks yall SOOO madyesterday todaySUCKEDso much playing 7 @ club impact tomorrow finally got shirts woopity doo want slurpeeee sooo bad right   hmmm Essense awards fun pricy BGT amazing tonight threee amazing acts got sent home got car excited/sad going away party Im attending tonight Dani going Brazil   LOL dork Hmm book pretty good Maybe check out Thats 4gb sucks 8 better power finish hour work   yeah like super short guess Ill hold breath till Sunday Hmmwhat dinner tonight clue feel like cooking Hubby wants away tonight   know hoping meet tonite amp found min ago mutual friend Cuong H   good luck OH playing inthe mixed knockout week Playing pros 14yr old son playing 5 amp woman 6   like   Haha Yep Ya got   come want pizza Welcome Minnesoooooooota Free time trip catch up Cliquot Club though closed   fun of Im excited MTV movie awards cant wait watch tv hope   http://twitpiccom/624qo  brown snake bit duck named Elvis ahaha Elvis soo cutee Nicho    afraid daughters gonna write memoir im ungodly mix Miles amp Betty Davis Eve   man need 2 find siitter Val aint fuckin wit LOL getting ready makeup baseball game Played team night amp got run ruled celebrated spilling half soup Hello 40 calorie lunch weekend now please   saw new cities tuesday amazing show tickets tomorrows show able giesal dayyyyyy come join meee http://twitpiccom/67ljj  teenagers need encouragement   play tomorrow   Miley Heard Prom Invited Knew Arrange One x   POOOOOOOOR SHEEEEP football sun owned Im stuffed Ive eating junk day   thought bar life meant partying nonstop catch 2 yearslol shoulda known better Im sure walking barnes noble comforts much Im work know im feel LOLLL cheesy true :/   lol if u knew better ud better wouldnt wear Uggs shoe weather awww RIP Stack B going bffs haha thats like 2 hourssss sooooocalllll me actually darn hw tried funny twitter failed     honourary fluffette lovely hair (whats left )   Think little youtubes cool Prayers dad admitted hosp am n/sure problem yet maybe heart   maybe day favorite producers list lol   Meee tooooooo bad Im bored eat lol   hahahaha awww uduhn lun mor   OMG 17 wow Im old one Wants Dress   u trying cold steal heart lol   like babies better (although like shows/books crime)   fun amorsote tho u forgot bday   dudecome amel larrieux tonighterrybody fakin Harley Quinn cstm hehehehe going prom buaa need sleep day recover birthday Im getting old okie gonna tweet loosing guys girls Tonight warm major night West end 2moro gorgeous dress killer heels fraught problems big crowd going Im thinking skippin NY morning   plans tonight    anyway love much smile time special cant u  scared try ridiculously warm bed   haha soooo party tonight   went Disney Cruise kid characters strike   yeah changing hair color High School Ive pretty worn LOL good baaaaaaaad   yahyan:   iaaaaaaaaaaaaan joking   truly awful   fun far like festival altho cider afternoon Going eat entourage probably Fat Es theyre closing tomorrow watching movie Jimmy tonight text me Im loner haha suckss wish teach dog play xbox alasno thumbs Great great #Cookoutofthecentury wifes tummy hurts Just Great full food tonight want cake ice cream party Watchin how lose man 10 days wiv mum lol   Lol Sed Want Ach Dress Reason Pleaseeeeeeeeeeeeee Im Bored Lol word marlon brando gave 25 cent    yeah  tha GODFATHER Im leave early piccolo practice     Beer excellent excuse Earlier sweating god knows much looking forward working tomorrow playing old school playground lame ass got rid tire swing OK time head Urban Outfitters catches eye head home rain hindering pics day   im stuck 2 la love turns in2 road rage lol going forgo Pub Night wife tonight Tough week it Plus neighbor died wants swimming RIP Attack Attack MTV headbangersball really inside quotgothquot genre wow Ill seein   :/   white pointy shoes haha ah got excited enw drummer youre mean DotA addictioni waste 67 hours playing dota   price drop nice want backup/bluray player   wish hear that Rehearsal FUUN hideampseek tag learned BOMB DANCES  going home hw maybe   oh hell yeah lol im vegetarian tho cooks mean =X im traitor Ohhhhh line @ greengoo: Haha decided making grilled cheese George Foreman work well   work room middle office windows programmer cave imagine sky Yeahhhhhhhhhhhhh fridayand work tomorrow need look apartments tomorrow   Fabulous pic Gmail acting fool sometimes u DM it   cant wait too pls come iowa theatre Romeo Juliet love wed honored vows now theyre dead   im 1800 lol think regret telling rick xbox Im losing twitter want jimbo haha Ate huge set Appetizers   wish   coming guess time )    oh COOL D Im going like bunchh JB shows summer broke haha Hangover: movie gonna hilarious wish crew   Mabrook   inta wain wil diet wain   3indi funoon OMG Great Day Today Went Art Thingy Noe Want Zune HD Bed Raining Come Mister Sun LauraA22is missing fun   Eclipse 3 #SArmy #SArmy #SArmy Nursing sick guniea pig health cat jealous acsvxdcbgfn soccer now shall young phoebe D: want dressed Um cant write smut tonight like smut want write smut Yet nothing smut   lol saw going thatboth names common special Writing paper lot harder thought  LOL Saw UCLA bookstorenow convinced single major university better bookstore   fun far Im anime store iat rivercenter going crazy Pokemon stuff wish money outside playing ball dogs hot sweaty   Lol mean thought going London it xD yea Xx wishing Ro feeling better http://twitpiccom/67x8k  FRIENDS WORK   soooo ppl telling went tonite show Ive dreams meeting Im embarrassd lil LOL Launching fitness video blog   week featuring Polar watches cant afford   s 6 weeks video day City Dippin iz u fun eye candy hereI remember miss LOL Ill probably better photos later today Took picks big camera too Camera phone = blury camera Dayum tweets r coming fast likely missing lot Plz DM k Oh   4 real   vaca buuu sigo en el work   favorite drink lol   weeooow feel fat remember weigh pfffffffffffffffffffffftttttttt long time ago hahaha Feeeel like ima die way rainforest  need girls spa day ASAP UP Oh ended going dinner Blase Bridget wishing CaBo tonight Oh Grease VH1 over http://mylocme/2215 way grab   @ airport Listenin #thebeat Theres noooooo way   play mashups AVH   shud up lol device thing work traffic way home traffic lights greenIm afraidIowe karma big check got sold joooooooooooooo studying readdy party let go jajaja think yeaahh \\\\m/   Ahh man im weekend   em Hahahahaha sry   thats mess Ill look week Fun Friday night planned Spent work hi chile 9 deg C winters comingcant wait cali sun   hahaha gonna beat LOL james sahal quotstunnerbumquot Bought little plastic personal wine bottles Jewel perfect rooftop boozin Wish wait long   color sky looks Philly yellowish/orangeish/brownish looks scary lol   sister  hahah thats funny  thought liked   Pad Thai 3 times night ragoons LOL yumb nocturnal serendipity Kashmir important means end poker night instead kate voegele guess itll do   okayjust eat cookies ampamp share lol reply   life replies usually people gay tells willblok   turtle road passed you too   ah home 8 handed kids grabbed bottle malibu cokemomma getting drinky :para   lol ive b4 im victim 2 that lol want tonight aint money takers   Woot freaking hoo tho Mad World iTunes #100 chart good thing fever feeling cold especially hot weather think Im hallucinating lol    friends meet today cant wait turn actually omg apparently relative marc went school lol gone sheesha smoking loooong time Maybe tomorrow gt *starts planning*   lmao mess Im gonna ATL weeks Ill nowIll watch teen nick wait FLORIDA zombie songs dedicated    http://blipfm/~5jbib   Oh Good idea putting ice cream   Theres reason theyre cute times  prevent throwing overboard scream 2 hrs Cant wait SYTYCD tour Ashleighhh amp Izzayyy   ahhhhaaa bangbroscom psshh nigga onionbootycom aaahhh showers great omg knew Wikipedia lists shades colours cool   absolutely craving brownie ice cream right now FedEx over awesome tweeples too             LOL thats use iPod touch hehe tweet time bastos talaga chux   mind change profile pic picture UK Itll fun   Yeahhh lol   read book heard it Feed spay love great motto pet owners involved   gt quotlive QampA 24/7quot definitely best twitter watched JONAS funny   Come Rochester Nikki Beer Hog Roast helps   feel better cocktail 2 honour retorting http://twitpiccom/4j91r badminton marathon tonight cooperate feet looking forward coffee driving tomorrow http://twitpiccom/4j95z  know why LOLd   that Ill look report Joeys getting new lizard fun x   fans found you Watching Dr Horrible     mad Weekend :\\\\ Hope great weekend Sleepy Tabz heading bed Fun night Listened episode Jossd toodaayy   Looks like fun Macarena live band know tired sleep sleep good RICE Lmao   knw maan gonna thing omelettes chapathis   wanted say best screen ever all yeah Prom Night Craft (good movie)   Thanks End going Makino Chaya   woOt Kicking like crazy   Hey girl Im new follower  think awesome gotten chance close Donnie cool   funny wish grandma   break rules tension    uhm guess u pretty dont u lol sounded good Getting self nice cup tea turn music Zelda Fans pandi  Zelda: minnish cap want music taste: Zelda = epic Iamp# http://tinyurlcom/d7jvop   thank alot time Gnight new song week morning Built mini CDN past days 3 locations (AU EU US) GeoIP  fun meddle school cant wait todayget tattoo 3 Thats Birthday Boys iPod Touch DSi setup sorted think happy ball + boots age Awake Oo breeding perfect close perfect IVs pikachu know means Google wait articles   Hey whats up Caleb Im newest follower research article Happy Star Wars Day 4th you Nice holiday celebrate #fb   thank ver much apprecifuckinate compliment level best know Cant let mother down Cape Town beautiful Sun shining amazing landscape quoteasy goingquot Dhellohannah5 follow need followers haha   Cant wait ampamp Cant wait 3d concert experience (i live uk) trailer cinema yesterday   Hi teach Chinese lessons youtube Feel free look wwwyoutubecom/ChineseLearn   Yes live Milwaukee love attend closing talk lol Check video  New Minute Maid Commercial http://tinyurlcom/cplt7p   thanks coming playing party games pics good   laugh Sorry Grets going Pool Room   im haha   believe not SPOTTED DICK english dish http://tinyurlcom/aq8zg   wow thats long time studying Good luck job hunting thoughYes Mac user (iMac) hehe Design galore Yayyyyyyy progress imagination Nowto flattie sort Internet send orders out Brian teaching soccer Lots fun   later today planning today   Yup going do Hes Mother Effin Champion LOL friends sitting searching pictures google haha friend found pictures father haha   Look forward seeing resume   lol im gonna totter off sister trashed room coz wouldn tlet on need cut guitar strings   like Light out Walls amp shatterd most Great work Germany know asap   U play ur avatar (1st person) *or* team member (3rd person) Battles implement realtime strategy AoE style   jus excited c ur   wait till england WC t20   Absolutely   yep rock station OKC check profile real quick gahhhh homework masterchef half hour hahah recruits   taking trash http://twitpiccom/4ja8m   what do Let guess skipped sports bought new pinkish outfit Lord Rings fans 40min fan film released awesome http://isgd/wvrx Watch HD Updating iPod downloading new songs got home date omg fun im excited finished capital transactions exam    monkey climbs back looking forward glorious mood tomorrow starting Twitter thing   dont cry me u tomorrow muah downloading songs trying sneak lil homework too main priority songs lol SBS 2003 SBS 2008 Damned damned dont Fun times GCH today Jon Doe plays Moho ia excited itï¿½s gonna funny carry equipment backline   awww shooks im gon overprotective incase start cybercheatin lol   http://twitpiccom/4fzo7  come Bulgaria great fans here   Thanks follow Tove   hahaha yes yes course look jack need time D   haha good slightly geeky funny x Yogurting Home lady Monas fone w song Yoplait Lookin forward hrs w   tmorrow amp rehearsals Gnight all   anywhere mindas long im superman theres good musicall sweet brain gonna explode minute ) numbers   cliiimb :j im climbing the: mt numbers   getting new fans time November   aha bet cuteshould wear nu **at time cn mineu cn   Thats Golf Buggy LOL Australia Zoo Buggy staff use certain patrons life   France Friday coming one working   Look feedback often seriously crazier topic better   awesome lol Rachel Allens date bars easy http://twitpiccom/4jas7 Ive listed lots new beads eBay going look refrigerator taste snack eat xmen origins  surprisingly good Drill Sergeants voice: everybody wake fuck UP *flicks everyones lights* 500 est rise shine beetches Lol JK   LoL know intezonefootballcompetition means Good luck   ahahahaha love Twilight liee know love Robert Pattinson cos dont ipod touch  mean cant look apps theyre sooo cool twittering school awesome   yes do Ill try posting pics guess ill cant decide choose   Awesome effort w/eeven u didnt winGood luck Tassie   hey mia totally adore music cd out      muji yipee anybody coming here send hahaha somebody bring JTs BSG disks haha   nice generous know stuff face mask on hehe   haha thought that   watched youtube hilarious laughed trough it seriously guys funny greetings Germany   Lol grey skies far eye see 20 yards   probs(: yeah im sick school today lol feel crap thats im dancing lol  thanks Insomnia finest bed 11:30 fully awake 2 Grrr want mee Omg Star Wars Day fourth calls watch 1 film tonight   heLLo tayLor wanna ive voted 4 u think 5 timeshaha   Got Twitter Yayy xxx Im eating eggwhites right pan   Think getting job way  50 years retire otherway (my way) 50 years fun think today shall listen Gary Numan starting remixes   yes finish 7:30 tonight food great discussion   yeah friends 18th today ^^ like running joke Official whinetweet today specified   seriously contemplating timing trip home catch fight cinemas Live beer im home videoke Funtime yey got loads tickets nyahahaha   #momoTLV good IVA special price #momoTLV guests Ha noticed Star Wars day 4th you   weekend Haha yeah Im free Oh Satish sharing too Oh day Friday sat Hope great Bank Holiday Monday hey thanks follow      lol like raawrrrr Cuz Im vicious tiger Rawwwwrrrr grrrrr lol   means FAMOUS Congrats cooking dad lots fun kitchen Download movie quotJackass 3quot http://tinyurlcom/caotku cool #movie saying quot hello NEW ZEALAND quot haha     emily ahahha scare me work   lol fine long scary dude good   were waiting Belgrade Cant wait looking forward yummy dinner mizz Kate jones evening coffee bean met Dean   classics timelessdont believe me check youtube google etc Numbers dont lie amp actually performed night Morning yall Looking forward nice BBQ today follow   please   Ill u icecream    star wars  gay BOO wanna job HAND u act high school LOL   Geez like bribed follow listening litle hyperbirdies terrorizing world 430 lets cook em   Easy Im trying learn normaltwo new words )   well SNL acquired taste/ listening properly HAHA munching walkers cheeseamponions nw   UhYour iTMS credit loaded friendThats nice wonder friends meHahaha oh good cake uft im tutoring lil sis shes cute shes eighth grader :p   love avocado shakes Especially blended gula melaka touch santan noice Haha Happy Star Wars Day quotMay 4th youquot  clever YaaawwwnnnHeading gym work Happy Monday Morning world Hello Bank Holiday Cold grey rainy here Feel like colouring thanks     fantastic pick hooker sky diving aaaaaawwwesome kinda bored   good luck itDo well best wishes you Happy Star Wars Day Fourth you eating Nesquick cereal  1st time like 10  good times   mines early nov 2 gether buddy Man power   good job logies year Hell funny right baggin logies tradition Aussie   good   Rofl u did Hahaha Lemme tell Salman Munir =P =P   geek won building photoblog theme Good morning Yes 5:57am   : heheï¿½I bet looked back 3 weeks long school trip   video myspace funnyu run lot hahaha voted   CALLS HIGH FIVE (Dont miss hotshot xD) eating delicious cheesebread (much batter Bagle) lm @ TGI Fridays Monday Hee hee getting ready start work weekwork 2 3 work 3 more bad great everybody   Woot created inspirational ) Look forward seeing writings   damn straight know game is heard tracks know Ive rocking play share vibe song jus brings feel good Ta  http://blipfm/~5jh0u   Ooooh dream husband lol =D saw Stranthorpe map today thought thought dear Shea lol   Presentation went Yes met buch cool people Checked portfolio nice work/details projects Mahalo great show   aloha thx makin Kauai enjoyed it Safe trip   yeaaaah lol im insane   hear  Thanks Ankit parlour #HokeyPokeyBandra uploaded random fandom trailer youtube check here HD http://tinyurlcom/d5oyfl think Im moment Yeah guessed http://wwwphoenixfmcom/listennowphp   cool baby going go Ill July   lol watching hehe honour #starwarsday fired New Hope DVD player THX glory   Funny difference simple changes make Bed looks ace   Yep tomorrow night 10:30 saw ad *squeals* LOVED season   ha ha no thankful dragging mountain today   haha I matter guys want     heyyhooheyhey   alright #dollhouse fricking awesome Elishas performance weeks episode sold too finally dig it sucka Booker T WWE Wrestler looking tabs quotBoys Like Girlsquot songs   u work hard Sally sure muscle courage own hard laughing unconess playing sudoku mommy makes breakfast amp lunch Threee WORDS    YOUTUBE BAMBOOZLE   welcome chica hope nice break helping caramel digestives   Congratulations lovely Japanese Children Happy Kodomo hi Im drunk haha Cant wait round 2 tomorrow night Gnight ppl anybody new song ideas pacquiao fight fun home wif fam melissa sat today mission ikea srsly 4 different freeways ge burbank   he send anurag   Hell Yeah   YES YES YES http://snurlcom/hbn90 song Jimmy Eat Worlds initials JEWnew favorite band   saucepan water cooker heat waterindian style scrabbled best   Thanks Emma Plus: Squeeee comment   errr ok people espressos morning ice latte noon warm latte evening   cool look forward frequent tweets pretty fun way write resignation http://wwwfarbsorg/Messagehtml Great day training fun   Thanks trying (keeping chin up ouch)   http://twitpiccom/4jbn6  yummmVery Nicee   Lol read like book http://twitpiccom/4jcxr    meann look found lol   green day bomb xx   hiya picture converse CONVERSE OUT   hey mind waitin 4 skool bus soo tired nd soo 2 dowant 2 b lazy nd sleep cnt ill sing fav songs   lol hopefully itll happen like timee near new album Rode jeep home mentor Heard story FineArts Pretty cool   Goodnight lolsz    thx ur msg awesome luv new single xoxo think Im gonna start writing proper blog recommend good blog host thingys   Hi Thx following teach Chinese lessons youtube pls feel free look wwwyoutubecom/ChineseLearn   bank holiday going well great band practice buzz like spirits night ooooh night quï¿½ grande ere mr springsteen   Ive game you Stephen http://tinyurlcom/ctw4ld  well actually us sat play quick hand poker $5k hand flush Im today     told mutual admiration society meeting morning LOL Hi boys     thinks thats right lol follow me appreciated Kicking Holidays School whiles   planted garden week ive got check   want someLOL got coffee ha ha song slap face  http://blipfm/~5jib6 finally Mike0hhs birthday lt3 cant wait fucking ruin   incredily love reading tweets theyre entertaining up Going home night local time   LOL biking manly http://twitpiccom/4jcjj  Boagsie actually small lol  4 years old ahah oh yes forgot need earn money maybe jobs checkout chicks twitter takes Morning everyone Going gig now run Update later   trip school west end loads stuff gonna great Happy Birthday Whore got Wheres sun =O   haha fun school Im gonna sittin home italian restaurant   think look cute beanie hat Mmmm holiday commercials nice   haha FINALLY  hiii friend    like that   Bom apetite   treat hair badly revenge turning grey prematurely   lol bugg school thats awsome finishing studio NEW SONGS MYSPACE tomorrow 5th Well write song turns lights lt3   yeah sounds sensible thought heston bleumenthal moment genius somehow im yours hahahaha jason mraz lt3 lol   look forward soon   lol yet Ive spread supplies dining room table   it Chinese sounds yum   YAY Im glad Im sign away soul Twitter Facebook welcome xxx Morning Twitterland Countdown TCI begins again Monday Wed knowing Im outta Thursday Woo hoo   Britains got Talent gets better week   rofl rofl fun   good as cya melbourne   shweeeeet   Haha awful all think hates sound voice hear played back know do   know read Tweets sort disgusting euphamism fun Im going schoolJOY :/ 7:20 am Ive got go BYE gonna longg day fun  senior walk finally   sounds like lots fun Nick lol Woo  got fast mobile broadband connection nice hot shower wishing brent older brother   http://twitpiccom/4iq19  popcorn crazy dude adorable   travel UK one big meets sound great Id love those furs amp art day high school   Hey good weekend buddy   ~ Awwwww fun fam boo boo   Ha ha thats funny   really wooooo wish indonesia Lol Hopefully summer   LOUISE  r adopted  ballet is love cocktails more   yeah know mean 1st season got hooked watch case BIG happens school musical week aaah quotI like Monday wish sunday cause thats fun dayquot freaking jam little miss it Come lovely fans Number 14 Local pop Charts Let launch assault number 1 slot wwwreverbnationcom/suki  tiny PhDs do bigger taunting Yea running 3 hours Lets test haha 4th you Happy Star Wars Day   morning erikah u start working song town challenge    shall post notice town Cork ladies know watch out lol fun then Sevens business  ) bahaha loving   twitter night DRUNK lol eventful weekend nice week off looking forward final chill day Richelle Mead  Succubus Bluesfabulous read entertaining lots fun interesting too please   awesome   feel like tweeting reason um hiiiiii @ station morning showthen gym damn paper crazy takers Anna lmfao getting new double yellow volkswagen beetle happy star wars day working home office today catching twitter new follower   Aww cute love bathroom http://twitpiccom/4jez4   like times better place xD beautiful fun gold coast hot dogs xD work doin Look tadpole No  Look me  Foolish dog http://yfrogcom/05ixbj going dinner us niceeeee   MUAHAHAHHAHAHA well maybe think Im crazy something scared   making beats    well look whos tweeting   lol going place called frosties soft play centre knackers lol peace gym lol Stop Believing remix Sure not Sacrilege  http://blipfm/~5jkpz Monday mornings exist hot tea   hello there   cost bit mean flying pizza China Nice fusion idea experiment   Depends drinking drinking mates have Joke fails Funniest desktop ever: http://mobypicturecom/ee2ij3 way collegue   playing man utdkick 19:45champions league 2nd leglol Recording acoustic track sexy kids   Haha Rite Im freeeeeeee Britneys spears listenin time   aww thanks bro glad got u active twitter Good morning everyone finished breakfast getting ready wonderful day store me   lazy day playing xbox drinking tea   easyjust turn keyboard upside mufasa warriors OCEAN hahahahahaha waiting hubbywake up entirely fun wit tha seester night Sitting sabbeth period buhahaha cool sabbeth lmao   No dont think bad edited too   nope day sleep time ha   yeah getting shows interesting process key following up thats ive learned far   wooooo interesting Thanks info   Hi Waking up lazy all proud me 8 here Btw nice colour burnt 2 days big conference: CentralEastern Europe amp Caspian Scout Group Meeting long twitter hanging myrtle beach married man   cool get   Pigs catching Swine Flu Avian Flu risking development Flying Pig Flu Awesomely funny omg JONAS new fave lt3 guess hahahha   woop rehearsing songs Yep sounds   Yeah Good dont Click Red X Shuts Good U minimize  Goes   wow thanks saying man Id love illustrate childrens books hm do bit work bit fun    gretel killeen apparently look pretty damn good Morning amp welcome new followers tweet business amp pleasure fair warning   hahahha days cool nothings open like isolated haha cool   http://twitpiccom/4bbcy  aww sweet  gonna great week dallas weekend Presentation  done btw: teacher cute hell   lol course im right im right   tell you   oooh haha said yet ill suggest idea twitter want/havent   Hi Yeah Im fine girl Haha yeah Ill seeing u Thursday Hehe Ill tempt   chai Getting lot office already good early profile pic bio updates lots following followers Zap Pow Block Annoying strangely satisfying great day massage book appointment today 6172622220   Fun read thanks Brits things interesting Funny whittled 33 saints days four http://ffim/2zgfk   am U friend HA thing is old look GOOD   play movie   iquotm awake whats breakfast lulu shit shingle ha ha ha Thinking Im super excited week Im report coming good tweeting much Im proud   Greatings planet shannan laded lanet amp hopefull come peace =/ HmmHaiaa wanna work 10hour shift today Id whisper sweetnothings earpiece lady friends cellphone aww Sunshine Life Bob Larry Sing 70s makes think   lt3 Played DampD bank holiday  nice got XP killed blob Actually two 2nd tentacles   know nice haha follow aswel  u twitter follow lool  wwwtwittercom/djarka koool Busy week week quick trip chase oil gas htown office fun week devel team   Keen skydivers thousands times planes rarely land Hahaha   yes dey dooo BOSTON Legal tha fat old man funny tha naked ina pink gown Lol   guessing Ran 4 miles amp gym Superman oxox   Sure easier login day posts admin mod ill try Bon Voyage birthday Brother @ Mccarran cyah vegas july havent slept amp class @ 1  fun weekend   thanksI washed furry ears look marvelous   find them Tell turn you Were making blueberry pancakes morning Hope roommates good morning TP soap school 39 days   exited Amazing premier     Good night Clambering crashed cars Hilarious fun radianborge learning ways padre de pamilya borgie   YAY cant wait read it exhausted Bamboozle amazing   haha think thats great idea sugarfree redbull sale Winn Dixie woo hoo going need week   sounds good fun check google analytics googlecom/anal Safaris autofill kicks in Makes laugh kids love dark hair dye know color going yea hahahahaha work making $$ thing keeps going knowing SHOP paid Im becomin SHOPAHOLIC hehe   lol weekend yea ur right text cause im goin 3rd dont computers bye bye   pretty cool kids *and* adults fun   aPORKalype TV movie   Thank much fantastic day wats world x) basketball game best shooter team idk shooter existes lol understand haha retired drummer drum roll need read posts ton time lol   : dougie coffee Theres quotIquot coffee Hahaha comes predicted text Pretty awesome aaahhhjust woke up feels good sleep monday   hey yall amazing bamboozle thanks stopping apicture saturday like rush though Starting work week little AC Newman grey bank holiday Watching Wallace Gromit cheered   GREAT song   know deliciousmiss germany like holland shoppin weekendslol   Ive gotta watch stealth skillz forget   happy polaroid week ya #roidweek yeah stayed til 2 reading quotrulesquot did good book totally worth sleep deprivation try language Twitter english   Munderday like that   crossing fingers ya amp hey town Welcome LOL   hehe im smiling u gotta   funny folks leaving jazzfest nola like FollowStats quotFoodStatsquot: Gained 17lb Lost 0   sure DO 40000 boot   Nope kidding all think Forest Gump (during running years)   wow sounds heavenly were quick drive north carolina cant wait   Also HAPPY STAR WARS DAY Watched The boy striped pjs day tooone best films Ive seen new need followers quotTWEET MEquot Person lowest followers shout out U 30mins downloaded ton stunning BEAUTIFUL wallpapers wwwinterfaceliftcom  look   pleasure hey played going away nz party 87 lots burned brain   like enjoy photography =] promise post new mini magical village today weather perfect preview here: http://pengpengsplaceblogspotcom jailbroke davids iphone computer programming   grax   thats funny actually use haircutmight growing August Woodstock Anniversary Party40 yrs   ahaha stuck head thanxx   haha didnt macbook 24 imac pic feel extra jealous lolll   ï¿½3499 playcom buy it certainly looks sounds good enough im excited lol   recommended Harney amp Sons (http://wwwharneycom/) order tea think   Sky Harbor Friday you   WOW theyre totally amazing theyre awesome   lol herewish way microsize everythinglol   safe amp easy travels Mills Ill miss u   welcome Twitter babes know meanstill trying figure   know worth it 6 people actually showed lol   like them mean like whats left them   vacation good far farm bestRIDING ASS OFFget   am Monday Monday Mr Cade home couch amp lots today   come Estonia know epic horses here hehe good trainer good beaches ride   guys bomb haha   oh La Roux band right English electropop synth duo band  cool   love quotbutteflies stomachquot feeling ano man yun kaya mo yan   register now able buy prepresale year Saturdays gonna mayhem internet wake early girl   Thanks Teflon liver (Being Scottish raised whisky) 17 funny   bet imagine work making movie cant wait   funny know there Received bit spam Twitter  sure feel quotsanctityquot conversation tainted   David  nice know feels comfortable quottwittingquot quottweetingquot us feeling misses home 3 years 2 months hooorah cant wait 4th resist uploading bamboozle pictures facebook omg 44 tweets till 8k 90 tweets difference btween b comedyqueen morning Warner soon lots do school work hope great day     thing anybody covering dave haha like people messing perfect music   http://twitpiccom/4i2zu  wow thats cool   Alternatively spend afternoon reading quotPride Prejudice Zombiesquot   shld says great phone Hey   Bye Bye fun (robluketic live gt http://ustream/2w5v)   yeahhh uve got plenty great fans Spain too u come play gig here   wow sleep eyes open tis amaze *i lie*    1st count midnight Thurs night/Fri morning Going workout + swin fun   haha thats look amazing it fun   lemme guess  ran 5 miles gym waking kids up going beach / recording studio   arre seriously shud sperm nd clone 23 yr old single guys   lol  David lah  want Danny tom      true cause dirty thoughts lol dude huh ) xoxo   enjoy http://tinyurlcom/ygcp3f Lets rich nice sweaters teach dance   yeah like purple maybe thats why ) :p :d   Rest important like it driving bed it GREAT weekend buffer   love lolso awesomeI knew quotexperiencequot night   briliant fourth #starwarsday #starwars   Dunno yet LOVE though missing time reason :S amp fun pilot copilot baby burnin /i stress line works   agree danced dad quotKind amp Generousquot wedding HUGE fan   girl AOT lec Alot question marks head thank God tips able pull tru ooooo playing booksmovie trailer (whn Im writing course) amp looks GOOOOOOOOOOD need release date im excited cake class 3 tonight im nerd   whoa hahaha wee going bit watching Hugh Jackmans interview Oprah   itll close hopefully figure theyll eating cookies week tho   haul vid/photo slideshow only fun http://wwwyoutubecom/eyezaddiction lke wearing kiddies clothes Makes breasticles look big n stuff   4th   love lastfm find lot easier (and content) spotify add http://lastfm/user/an0key like   true true Im writing atm trying 2 b coherent 4 yrsampstring narratives meats rotting nicely Morning peeps need know am Ill  http://blipfm/~5jtyh   haha thanx now twitter lot public YBC presumed got home gymtennis badmintonehehe YES REPRIEVE paper pushed Friday leaves pages 4:00pm problem   sure Hope great morning 167 SQL queries display single deal page OzBargain Looks like Ill fun optimising it Bad bad Drupal   short usual awesome Right strapped ready http://twitpiccom/4jloj   Im obsessed w/all  watched night glorious wand Lock getting better staying + me read ecology book hours good fun today   LMï¿½ï¿½oï¿½o job funn Bed def beat gym morning still snuggling w Spike wrote tomorrows #DWorlds show   followers feed soon: http://bitly/6jLaL hey peoples dont hate grounded haha im sat eating apple watching death note (some anime)   BIG DAMN DEAL fun   Pretty hell non   lmao Im glad Im   lol new diet planran late wrk hav chance lunch ate lot got hm   later tell weekend Easier phone shake shake shake shake shake cant WAIT home snuggle puppies Fiance listening online radio oldies Wool time cote says livejournal beeeyeteeseehedge Dum dee dum ok work   http://twitpiccom/4jjdx  Soak hot water (but boiling) 30mins  itll pull right   great idea   Yeah planning actually Got Kinokuniya discount card Im going splurge worried overwhelmed high amp dry goin ice cream best friend Tonight @ 10 Northlands NewsCenter kick week long look Great Summer Getaways Northland miss it   brands dairy called semisweet dark Ill try HelloVeggies Store bye yall wolverine soon ooaf hugh jackman tell ya sctrahc anytime ) Today plan taking music history final catching movies movie theatre   lives Twitter quiet race Recovering celebrating ps #20 Fem 1st marathon Wow   yay #iPhone goodness fun come horse riding brilliant day weekend started quotHealthy Lifeestylequot  Diet Lets goes  ya posted progress said wolverine feel like watching xmen again Theyre right business proposal yippie   spell alyson too Aly short spell best seeing Star Trek again noticed went little crazy lens flare go apparently properly setting DateTime Twitter response before Need test that mothers day classic went well despite cold 530am start   *Laughs* thats like winning   Loved it thought iCarly version Beanie Babies xD right think obsessed Hydes voice   Ive chosen guitar song learn summer Time perfect picking cant wait Daughtrys new album Ack months waiting JONAS come sucked company had Kelly Perfect day: flute quartets morning web marketing afternoon Barrie Star Trek evening   u u hotspots dont kno comes shoppin lol   http://twitpiccom/4vuuy  thats colorful thing ive seen daywow feeling inside me Oh sends sky high Pool alcohol amp cute band ask Saturday night #fb http://twitpiccom/4w1rr 05/30  session yay me   Whaaaaaaaaaat Thas HOT B Super nice Star Trek rocked WAY better expected learning play Waiting Love Pnk acustic guitar epic finished eating sushi ladiez getting shwasteddddddddd** follow      amazing going star trak expecting noting amazing Night cookers dad   thank you u tonight Feeling smooth like chrome home night hang mom study whats going tonight lets partyyyyy like bacnme added tweetdeck option url shortener tweetdeck better #bacon   ive wanting 2 years LOLthat HD camcorder   haha agreed LOL   love humor reworded it Like saying quotgroup therapyquot insteada quotgang bangingquot Keeps moms back Hahaha   Yeah drank little bit anyways definitely drink   lol king   hey you present morning Hope u liked it getted crunk budweiser fam bam   girlrain song forrealll rearranged living room looks HUGE Joe Saturday night knocked sooo godamn funny gets old quotyoure tupac biggiequot lol   lol know like oh ya tough guy   well organize down cant guarantee oldies   thanks ur job little crappier day Right second gig  Sippinn guess whut  Water sta focused job way star trek idea wtf Twitter willing go Going bit   fun Ate masThanks Good luck w/ ur showing tomorrow excited http://plurkcom/p/stk04 check check check out   ahhh Im drinking too bride wars good   cant wait see hear pretty HOT Aro looong day 8 houuurs work 5 minute shower shane man hear bed calllling bunch Dinner parental unit grand   yeahh   lol learned somethin new thx    lol tweets fun follow dull moment Kulps   jealousUr koi fish getting ur attention amp Im notlmao Im kidding   Thats great Bastos Im happy you gonna mabaho leg celebrate haha CONGRATS   KNEW princess win #sigjeans   couple guys similar mods   saw think mines best Im biased   ahhh yay Im getting it Knockin lot out bought flavor snow cone machine mhmYummay need new sunglasses RachelampI planYezzzsirE Ruless Much   indeed trying Trending topics fun Twilighters idea   Larry yes Obama pretty funny today kids took airforce joy ride putting shtich Tired gunna bed soon time Ive online today ready mothers day tomorow   aww thatz 2 badud b great new moon   welcome aboard friend fans gonna LOVE ya watching games making popcornss quotThen HappenEDquot sorry Watching movie friends while Fun fun   awesomeness Phillip completely finished goes up down left right   Star Trek yet ive seen it twice already like time second time way better hahaha dinner   amp fam Listening Obama ear amp listening music Caps lost ARGH HP game evening fun   beard addressed weeks LOLs wish knew play instrument Lessons Menace Missy Moo sure Piano Cello Bass want   wweeeeooo snl soon   riot girl watching quotslice lifequot (laughing songgg) going sleep   Yeaup gonna tell ya jus love doin night shiftswill hour   me lol got hangin bestie pool soo nice   year sweeet   right cock sounds better clock coming female   Im tellin u Im pretty mean kitchen lolol theyre yummy got home Tillies dance recital lol spectacular   check     2 wonderful causes need help tweet cheaptweet wanna vote http://cheaptweetcom/t/syopvd finally hands laptop ate biggest burrito de asada im gonna ready partyooo Hanging cousin Jimmy hopefully hanging friend stephs grad party gr8 shoved cake face watchd sis bitch slap boy ate good food satisfied goin wit shina amp gigi  moviez   Im following were wearing Converse Downing glass ginger ale relishing early evening bed quotBecause Said Soquot Lifetime http://twitpiccom/4w7d2 bwahahahahahaha awesome SiSTER LAW LEFT PROM LOOKED SOO PRETTY TEARS taste addison w/ fav ppl   #steel toe boots  Good hear comfy Hopefully Kodiak Terra brand   Michelle   here u miss Fox liked interviews her   haha actually cleaning good actual work   aha speaking German haha maybe send stuff Italian ) right n0w im bed egotastic r0ckshahaha im thinking im going fun tonightand maybe changes coming   Ahhh imagine looking at luckyyy Hope fun forgot love songs itunes love shuffle love watching pranks AP Tour soooo sleepy gotta finish game lol gettt cavs whoop whoop   jokes love magreally Star Trek GREAT minor details needed worked out Thumbs Up regardless   Hahhaa okaay ily Lmfao   come play college town Eau Claire WI Seriously TONS people turn it goal bed 2am   night Way funny feel like dressing heck itamp putting on Haha bring HK lounge tomorrow  $12 drink till 5pm kareoke think nice Sunday http://twitpiccom/4w8kr  meet Bella new member family   haha yea quothelpquot (technically itz called cheating teacher helps anyways im cheating) HAHAH hear MVP Chants Atlantas Arena right there unlike staples waking 6 am yuuup going tonight better believe it Im them got phone w/ chanel told tell u ur brat temptation pass up Thanks   yup Florin cat foo sho worry pix thing Im sexy piece caucasian sensation lol bath epsom salts listening carrie underwood party beach   oh mm gee got aerolas live tonite   Sorry Im squirrellist talk black sliver squirrels   think Im offtopic inappropriate (germination quotfruit pickingquot jokes etc)   welcome deserve #followfriday day   OHHH bad yes heh heh reward getting yesterday Im playing World Warcraft today Yay got home work ready chill time shoot PM aim: pillowtalk6188 animating ad work favorite things do Im saturday night fun got flags wicked fun tho died prom party tonight reached Cellgroup leaders house surprised Im dry Haha  http://tweetsg Spongebob sing long Amandas mom gave crystal jonas brothers calendars care netsexor cams route heaven however #lobster sounds super good Im tempted some Writing researching Tired foolish Im educating amp moving forward Gonna marry white boy right Canada Nikkie Payne #1 comic soo yeah funny pervs teens people family Dinner Gma big sis water yummmmmm waiting Foreigner start   Thats great point Im shitting ANY woods Sara know better Haha love sleep pete Lmfao jk   heart News Wierd entertaining @ MGM grand mraz stage doubling opener lots old memories flooding Helping quotkiddie churchquot tomorrow Yay little guys enjoyed day summer   Ill drink #shotdrinksaturday   yes lasts way past bedtime   im schaumburg rite  u want ice cream lol type chilly outside lol got ice cream   like cookies going LOVE cookies Lars Tetens cookies is coming 5/16 Updated blog Shows Watching: Unusuals http://diggcom/u12w7c check got visiting relativestime watch movie   http://twitpiccom/4vw9a  Im gonna buy onenor two three ultimate slaughter machine   im fake  same ~K~   Garlic Pills Spider bite toe (LOLClassic) hungry U killing 2 funny ellen degeneres mcfly fans try mcfly ellen showhow it   sucks Eat Burrito Theyre way fun Hey check out: http://backstreetpridenet/teamburritocontesthtml Ive got jam Oh yea perfect night nj   probably coooolest thing weve   fun Invite hhs group   haha yah walking distance house Mission Tiki DriveIn haha summer like weekend FREE FREE FREE pesky registration ENJOY http://bitly/rlQGu love black eyed peas memories Watching hulk   look im following you Gonna drop logs pool 15 min   ok all couple things late stuff got lot fun Making video HitRecord hope comes well itll record   Justin Timberlake sooo funny quotShe threatened me patronized her eat thought connectionquot Movie night Playing Ghost Online interesting new updates Kirin pet Metamorph job Cant wait dragon pet New pickkshaa big looks MILKY YAAAY   OHSHNAPSSS pissed blair usual  hahah amp yeeeah bake cookies SNL gonna great tonight Following new #sanctuary fans wonders #SanctuarySunday  good meet all Gonna read story bout adam lambert online bed Nighty night Guys got saran wrap Tuesdays video shall awesome   saw game huge cavs fan lol pay refs Yaos 4 rest playoffs La cruising WCF bowling cousins awesome lets play russian roulette   Haha thanks WH Correspondants Dinner Rocked Wanda Sykes hilarious Obama bad Happy Mothers Day moms there week funi hope week better NYC 19 days Bioshock fantastic time played it sleep Bioshock tomorrow   totally digging napa valley idea deal wine limo ride   quotA hike woods little kids exhausting right Wrongquot LOL Try downright masochistic guys interested watching tattooed tomorrow let know party great time got paranoid   ringtone yay time swimming freezing water kalies yeah happy thats finally summer cant wait turn 21 weds   Hah Sparkly ones that   Yay fun Bones (the show) Check PB amp J Check Writing play Check simple joys here greatest gone   aahh google fail smile http://twitpiccom/4w9rp (via   Live New York Justin Timberlake   dont trust judgements vouches   jk ill think friend   youtube channel Demilynnmusic haha cause love 2 sing amp stuff yea   lol thought suppose guessdamn tried thololol Taking dog walkthe weather perfect rite   sucks becuz come hahaha   right haha shes bad PNutt got new collar leash today http://appsfacebookcom/dogbook/profile/view/1034415 way dazzle bar   u smell goodness energy big city pinch butt feel real YES u Chicago   dog pic ROLF snow stuck quotif looks kill lookquot way funny   awww boog u aint minhey ya thats whats enjoy yall selves especially lil cousin   pleeeeeease pleeeease dj drop   haha yay crust (i tend little weird im super bored lol)   Good luck wanna too waited outside buses before autographs tho   baaha amp healthy choice friend (: heading bed tea finish Breaking Dawn Im way 17 Again Ive wanted looong time dancing cleaning house loving sunday far   think u friends now including lol   Whoop whooop   Awesome congrats completing it (I cant believe cycled distance cottage 1 day )   GREAT AMP JOKE Thanks sharing   good luck C funn going eat rice fried chicken sederhana padang restaurant yummy days looking better better betterrrrrrrr long day fun tomorrow much Alright playing cards rain smartest idea sick fun   savour moments #canucks   drink bc race overIm telling youits addiction leads Elvis presiding wedding   dude tried vegetarian thing lasted 2 months good luck going vegan intense good though wife gets stung bee acting like big ass baby 5 hours ago lol baby nice time little sisterbaby grown   HUGE difference temperature time here huh Gotta love DC lol sewed shirt fail screaming vv quesadilla Quesadiaas bombbb lt3 try scream day :] 500 updates wooow haha Margaritas w/ mommiewhat great combo Goin drivein movie time recovering sick  want bring soup   SELINItTotheHighestBidder HEYYYYY MAMA ready dc tomorrow photo trippin   Check latest FB post (Things want happen) think miss it Multiplys getting boring :| wish Reichelle twitter   convince recruit herr ya   watch yet like cool movie happy watchingrate u watched yea   thanks that definitely pass amazing mother Classic JT Saturday evening http://bitly/LrzJr   READY  Ive heard Bobo probobly 100 times  BoboByeBye   mean set start using jump in Use # sign word want use   hmm interesting think im way club got vote hottest guy yearrrr     hey Phillll Wazzuppppp   hopefully Ill HTB week LA soon Cant wait Saw new Star Trek movie day strongly recommend it quothow like applesquot movie Rio Bravo Good Hunting lot sense now Working stores Facebook group getting ready relax play 360 Im thinking Mercenaries 2 tonight likey explosions   LOL Glad like it   Yes love cowbell WGN playing old episodes Rocky amp Bullwinkle Fractured Fairy Tales win Crabs amazingwell long theyre pants ran rain wait dolled tonight Watching fireworks Bay bridge   kind like birthday 3days long making mom mothers day card   im u internet surfing lol were drinking   ahhh haha  thanks clarifying   thats howya pose ta cake (twitpic)   Sounds Fun Busssssss everyone yayyy HAPPY MOTHERS DAY 2   // FACE stupid thanks miss too HA   NEW motorcycle POPPED cable already wowyou ride HARD Come add new twitter fans Snoops uncle COOLEST dancer EVER http://twitpiccom/4wfqn   adwancrd sense humor Thats funny wow im tired going bed GOOD NIGHT   oh suuuuuuuurerub ya LOL Enjoy fun fun night miss you night tweets Mobile Monday online Theres days Ill back http://tinyurlcom/ra48ye (via   bingo w/family  $1100 Fun night   Hey Greer Im Marco nice talk fellow actor(ress) haha   fun   good life  honeymoon   mama boys gon sweating hard Pre K lol muah   dude new Star Trek Burger King commercial Bud Light Burger King proud u man mhmm idk thought showing freaking ppl hehebut yeah TOTALLY understand u guys VN sounds cool   yes pool opened weekend wooomy luck   YES FTW LMAO wasnt watching   thats im asshole   Sweet Im Jaycee oneletterer think D   ohh snapp fun   beat punch #stickam   fun speaking of   Sounds good me Taylor + Kellie tour pure genious Im going try amp sleep got work day amp Im training bakery also Glammyyy crocker deck Lmao Text   DO (of did lol ) great episode   Thanks Got tired bleaching it The um bangs there yeah actually bit purple gtgt oopsie   love slice summer Pipers lemonade stand think jump trampoline too meet Rosie Donnell fun night wants   come online talk gossip horrible things transpired today   Lets go   kind like learning gothe blog thing Twitter too   Getting online now shifting locations got pool funnow gonna watch tv stuff computer (: Goodnight Actually great night Seeing Daniel tomorrow miss   cant wait June HIL HANGZ~ Tonight sososo good forgot set iTunes display play count night understand Taylor Swift Belinda Haha Im going lie Im loving Ace Cakes wooop LOST   coolin shit ya know   means going come vancouver way hahah   well test theory right arm strum with Got feelin Ill humming new tunes   **Jaw Drops** **Gasp** u mean Im sweet pie Allow reintroduce myself Im Coach amp Im Cancer amp u hanging amber   nice mommas day Throwin kitchen like making Rahs illi Chili Shalondas Bangin Cake   Love stop picture priceless speedo great too Kudos mom   Thanks strikes time it friend uses belofsouthie email   birthday visit haha wack Saturday  cant wait watch season heroes quoti hear wonderful californiaquot quotI want mouth butthole btchquot mm jeffree rawks   amp justin funny tonight SNL Enjoyed Star Trek Cleaning roooooooooom continue playing DSI   Hey need book Amy Sedaris   finishing now say ) Place Tomorrow Bonfire Tofu Dogs Austin Powers   yes yes yes lotsa fun cant wait dont like shaun tho cos ill awkard haha   understand Computers fun again   Road trip Cincy limb store coffee bread peanut butter today Sunday day apple in Come kick El FAROLITO 4817 mission street @ 730pm Awake man need sleep gots wake early church tomorow   lmao yeaa iight n u shuld tha cb flick w Panties ur head  juss joke perkinz idk wat dat tho maybe sum SEX lol P9 Danica team end world hopes great race Come Vancouver Throwing stuff ice thought Canucks supposed polite stuff   het r u finished cleaning pond u stay long u wrinkled up kidding bed pics newly finished hat afternoon yea Night yall Landon announces quotBig poopy comingquot time Im waiting yell store time look like horse sams club card picture find hair brush hahaha possibly getting noah tomorrow   Hahaha No havent think Ill reserve weekend paperwork do maybe tonight Playing cards niece weho Theyre playing lot brit want sleep XD  song head crazy dont know write song hahhaha   thanks friends went watched movies ate chocolate chip pancakes friends house fabulous promised update twitter then LOL Greet mom simply saying HOT Friends gone Sushi movies laughter needed FUN {cont} right fake btches shouldnt mess Real ones ahhh love Real btches excite   pheasant dreams kaotic ones   http://twitpiccom/4w52z  bet ate missed brazilian bbq bet guys played wii (mostly bec  wanna watch tormented showing 22 awesome fruits vegetable juice opening Lams noodles 8  #fb http://tinyurlcom/qnjqx2 WHOA Twilight board game AAAHAHA FREE UNLIMITED RINGTONES  http://tinyurlcom/freeringring  USA  Awesome 4 iphone Waiting bed great weekend   yeah twitter lot fun babe especially got ppl talk to lol amp sounds Goooooood lol fun show Grabbing bite eat now   im watching CQC brazilian humor program   Okay kool touring summer long happen   hahah hilarious b/f washes usually fit bed anymore turn pink   yesh lawl   Thats bad Good luck cease amaze me   lol  thats hubbys for think wives nuts twitter reunion awesome meet lol iwonder howd iget pull   GAVE GOOD SPEECH BREAST CANCER REVLON WOMEN TODAY cool http://yfrogcom/097dfj   oooooooh KNO EEEEEEEKKKKKKK   ROCKS gt love ridding weather   Yup hacks fun Heres quick video it Ill follow done http://bitly/3xm7D bar pub crawl Gonn long night   fake quotyouquots followed me Haha wish instead   haha aww hun bet creative   thanx mang shes june 12th yezzzir baby drummer boi   prank   suggestions comingI love classics   thats ultra sweet Years ago neighbor told went school Sharkboy didnt careToo Bad bcuz Taylor Lautner little hottie band Hawaii Sublime sound sublime haters  http://blipfm/~5yy4n Jeff amp looking long lasting love like Men answers questions lie deep waves ocean Beach trip anyone   twitter reunion awesome meet lol iwonder howd iget pull Im enjoying Sunday much parents revision like Sunday   Stylish soap lots sexy people need version dubbed english good work Bruno   ahhh~~ hb or cause hoping encore SNSD lol getting ready bed Happy Mothers Day mothers there   yeahh haha Mariel luv it urs =D whats ur fav MCR song   glad hes leavin got expensv shit outta waydid mention glad hes leavin *bust beer bttl head BEP KILLED IT Oh leighton meester waved us   drank 2003 guess doesnt count   making fabulous tonight   funny discussed Bela Lugosi dinner apearance Plan B outer space quotbestquot movie   Thank you best tomorrow hope lovely day together   right im jealous wish gangsterrrr pants like grandma   congrats hey   Awesome fortune cookie think exotic places Hope well know duty scenario game called quotNazi zombiesquot awesome scary time   oh em gee think it wonder @ macys  know a/b shipping   :X sorry   KNOW AHH fun got home church Service good   gooood miss you hope fun w/the inlaws haha think Destiny officially gone crazy hahahaha   Night girl Seriously want hear stories excited cousins week george lopez bed mommys day tomorrow ) wish house Hugh Laurie sexay like way older guys says morning plurk woke up haha http://plurkcom/p/supwp   fun   Whooo Baby Good luck singing rain Cover ears people Going Newtown soon (Y) sweet spice girls sing w good friends went ride tortilla flats morning   little warm nice ride   something Buying impersonal mom im tired im good moood Happy Mothers Day okseriouslygood night   want taco bell damn sara oh im going change jammies now buy mother mothers day gift   think Ive heard song Ill listen tomorrow TODAY SOO FUN happy bday chrissy lt3   home 4 months less depending fast bored hahs AHHH  Whatchu talkinï¿½ baby HAHAHA canï¿½t believe youu:O heh actually can Life worth taking risks http://tumblrcom/xs81qy54s Im tough momma swing set Tammy allll today hubby proud me :] myhouse girls tonight juss came backk Berkeleyy  omg madd fun havent minute  whassqoodd  cant wait Transformers 2 Cme on Shia Yippiee   haha think let topic drop now quick poll settle matter believe   Umm def fun Houston day hopefully itll turn Houston night hehe   gimme  wanna try (Soulja Boy Tell Em LIVE live gt http://ustream/2UhS)   haha yeahh im following u tho   show upcoming ones want guys   lets smoke watched dazed confused thats perfect pizza movie   look js code facebook notice js functionsnahh kidding buddy told Traveling faster light actually possible (spacecom http://bitly/7Ex4J ) yeah enterprise wer comin   road movies indies rule haha   pretty perfect eh Yes Cannabis saw signs Global Marijuana March too   lack hunt (lol) refresh memory clue #2   SHOUT NIKKIPLEASSSEEE (Soulja Boy Tell Em LIVE live gt http://ustream/2UhS) Going Scandic food (and learn leadership course)   cant wait guys @ hq sunday // sounders game tomorrow mothers day Heavenly Donuts 11:30 nightsounds like heavenly match me SIYAL8R   LOL way brought up damnIve gotten packed lmao little shit anyway way good start   yay it think animals hard Going watch MonsterInLaw 3PM today   sing loud   Hey thats Bug martini glasses      wedding amazing Im gonna lie cant wait pics either   love old school horror movies more got Elvira tattooed   haha maybe u weak hehe jks xx burped exact time Steph LMFA0   welcome Actually Swedish fans trying McFly us close   fun banana dessert worth trip austin well soon Watching videos youtube bf Thinking going bed soon   sooo hard truck fish sidekick awkward flashing oh well leaving mommy flowers stuff   Jess posted hawt pics board J  u check out T9R8AM booked im arriving medan 27th june 1155hours   Germï¿½n rodrï¿½guezs results you mean look like profile picture       flirting going  ATG smiles Yay ((hugs)) flags awesome cant wait Look everyone Im bad boy Im ranked higher Meghan McCain http://tinyurlcom/oj76mz homee wango tango fun tired now wrapping moms present passing out lt3 Dancing rain makes complete   Happy Mothersday btw Look bright side chill day today Reminiscing old days listening old music   bring cases mountain dew   2 tixs taylor swift friendster profyjust add meaytlolhttp://bitly/UsPlN  addicted pet society app facebook Goodnight fellow twitters tj ststas   Talking whom Shah Rukh Khan imposter here LOL BTW thanx follow Cum fiesta house mouth hit password Seeing brother graduate tomorrow fun   it So sad read way home prom fun eeehhh right eyes twitching gonna watch Boystown   happy birthday   Well crossing fingers year so lots hope heart see Thx Gnight   fun viper room tomorrow night know fam attendance support yall   hanging bestie haha @ playing fall boy bar older people theys need educate   : Hi think u try Ph Vietnam delicious   kiddin you Shy word id use describe   signs twitter addiction Levels 1 6 LOL probably level 4  lol   awesome now huh LOL Wow thought wed gaming 8 hours 13 hours later seeing person out ltlt Long session fun   funny Thanks   hope dreams come true Thinkin Twitter interesting fun: Jessica Alba weekly Twitter follower count: 35138 (+5468) starting look like movement   slept 11 hours exhausting fun fun town trip high day far woke good ol fried chicken       guys absolutely amazing tonight always thanks bringing dance party   Hi  *just joined twitter* awake sleep drive Fortuna early Red Bull guide day planned mom today know love   hahahahah 04 chief contributors lol   Hey Nia PD Hot 1029 Dayton met Cincinnati Wiz Christmas party Hope well finally gonna sum sleep concert crazy God Bless ministers Ive passed drunk passed couple hours Good   kashtam  wonder similey CSK   Thankies Ill able watch movie Madagascar way again hehe assumes wasnt taboo start email quotLOLquot considering reply got started quotROFL PWN3Dquot love internet   looks like need local marketing person Im booked 2 gigs Vegas day Hey cool: http://oproercom/twwwitter/ got phone lainey love life    im taken crap PHONE FUCKING TYSON fun early night Vegas Pool tomorrow   Youtube ) awesome quality actually   wake up Morning way want candy   Yeaa Know Smartier That plus Knows real Thing Better Lol earliest Ive ages Body crying sleep resist shower trick boy worth admiring   ack ~ course im person think   knows   haha no referring band http://wwwmyspacecom/lcdsoundsystem   sorry race charity fun fun morning smiling smugly oneself join   need kiss attack   kick asses day Alright think time bedeven Ill probably surf net hour sleep lol Goodnight smiley face ha ha ha ha Lol yeah im hong tired fuck tomorrow guess care   awesomeam headin nite grad dinner c u boi hehe   hahahaha yay Lakers like dip pretty hammered drunk Props me nights row better sleep dodger game/mothers day 2maro ewl wake 8 Thank OpenDNS saving Comcasts crappy DNS server internet par finally   haha Good job getting close eyes set Wrestlefest fun tune wwwlatalkradiocom 23 sunday chat   Praying love lap dance paying naivety ltOne fav songs   shuld dance like seriously best thing haha yu tomoro best writing think LOL some Id read you pretty damn good all =} LOL Winebeerand champagnelets goes tomorrowlol got home morongo Havin corona 100 bucks woo Lol wish woulda 100000 instead :/ play cafe great enjoy coffee boys played Rose choccies later boys bed tonight bed Enterprise Mrs Kirk saw creditcard statement maybe receive unholy Aiden fan package yaaaaay fun night tonight house looks purrrty tomorrow kids come home Good morning late sleeper   excellent designers Valerie (see   picture   Trent mad thinking pretending engaged reason   LOLOL think funny 190 people think lieing quotthe REAL john barrowmanquot   yay welcome etsyseller world   Folks thought hilarious told story saw shirt wore tonight Laughter night Hopes find mates thing bed good saturday ec Im gonna miss place cant wait til summer Seriously though Amazing night   wanna kno wat u mean fine Lol im curious lol money tis good too   oh man sucks hardcore haha good luck finishing recording woke upfor managed sleep in going lunch later essay comes fun find offers country live outside US changes tiny partied w/     elitecamp rock steady crew + ladies (wow) course crazy legs  holla lmao  sober totally sober Swords sexy Oh Harold sunday runday outta bed road #SanctuarySunday   yay #Sanctuary watch Requiem breakfast BWAHAHAHAHA Shut fuck up   TOTES following right now account giggle like school girl Day dreaming Fuzzball SNL http://fuzzballcom/twitter epic weekend Ive atleast year Night cap     2 hours sleep 3 days Goodnight   will n btw happy mothers day sissy 080509 partying Pineforest http://tinyurlcom/ojugsb   Gotcha  Lets meet @ Twitt Cafe   Ha fun think Iï¿½ll rewatch (parts of) season 5 todayin preparation 2morrow night lazy sunday Now lets funkey stuff talking magento xmlrpc codeignite output amf (Zend) flash   snapppp look found twitter lollll kids attempted dance http://diggcom/u12xAo idea words meanbut moves cool cant sleep Thinking holidays   watching dor utv movies great performance   lol appreciated excited   Joes version pretty sleeper played 1am http://twitpiccom/4wppn  wild derby TRNDS3TRS sup guys downloaded tweetdeck gettin right : tweet nice clothes sits summat x Ah lets start working Livingroom come Wow crazy night changing emotions liked tho hey hey hey lol got Apple Store Robina Managed replacement iPhone access web properly shiny   WOW awesome Andre great know Cant wait dads bad either   sounds like planyea excited   hey adt guess what princelples number plate adtï¿½000 000 dunno numbers morning excited dancing park todayyy good wooo cmon venue xx   Thanks watch movieWasnt able decide :/ Hope great time friends   meet    Zombie expert believe whos boiled egg soldiers today salute mothers honour feminineand time beer    crazy fun man nice Sri Lanka spiritual place yes   oh left smiley face knew kidding   jass warn b4 u nxt wari fun Tonight fun Playing quotThe Simpsons Gamequot Nitentdo DS Light ** like quotdude care youquot smile yea teaches drive E lol totally addicted xbox carcassonne love tomb raider legend badly NEED bolt   best  thats running skirts scene   think follow me follower stalk   sure like cream right listening music Super Juniors Korea like way sing dance hope someday meet them whitewater rafting tripics seventeen today trekking chorleywood         cambridge lt3 #SanctuarySunday   mission #Sanctuary trending topic day lots people board itjoin   daughter went Bday party today caled quotGracequot Cakesthe little girl named Grace amp cupcakes   got kicked club bout try another Lmao Shot Patron you Haha kellie: major problem okay alex: is Kellie: hahahahahahahaa face   Happy Mothers Day ~ watch SNL U missed hoot Jimmy Fallon good mornig everone great morning in evening play theatre lord flies fun  listening Doubt ï¿½ quot Life quot 59 listenersltlt ohh yeahhh thanks  http://blipfm/~5z4va   yeaahh punch her haha xx Getting ready annual old boys hockey competition lets bring students http://twitpiccom/4wqfv  dark berry mocha frapp heaven TRY EVERYONE here let pass   cool people videos miming song big video it   fun Star Trek soon ok )   right thing though fridge vegetables die   drivin :\\\\ hahaha Carol C Special yeah Obama ish funny   yeh like playing sk8 dont  dont xbox 360 lol skate skateprk tho Forget it Callin night MOMMYS DAY   lol liking style Alice tell got standards maintain lol national Cork girls wild london week   thanku cooking simple law is u hve fun u   course jdoramas best need 4 followers 100 followers Fallow me fallow back )   rest Lets see Mystery Jets pretty cool Ida Maria shud rly listen Anything Star Trek awesome Kirk hot Spock cool fun cool sexy Definitely worth seeing saw Cinerama Im back sooper dooper extra bharia extra dhumchik day stay moms place yay fun fun feelin   think gone enjoy beautyy nature  maybe sit write little just trying finish pic   yeaahh xD think dancing little kid woo xx Getting ready study outside fun nice sunny day   Bill absolutely fantastic programme Loved cow bell bit end   haha did times before   yall coming today graveyard HOORAYY quotCompletely dishwasher safe pattern come offquot Blue Coat humour best cheers Viz   IQ high comes knowledge swim roundnround bowl http://tinyurlcom/oqsqz6 Graces FunZen magic mood tool keeping cool pool real life    itlooks retro rerecordingsfans LOVED Given Change CS Fans   haha sounds like going heaps fun xx #mikeywayday Count hey guys wanted announce marathon so lets sayGET READY COUPLE EPISODES   LOL gooot riiight mean twatt cool xD   ah great fiddle later figure out gonna walk hour :I Im totally motivated Wahahaha   Awww :/ guess thats good bad moving option guess Mhm you hehe ) (we time)   did yay extra ï¿½300 from Hmm Im going partying hard finished watching copy Twilight DVD Ganda ng mga deleted extended scenes http://plurkcom/p/svkch   face makes people laugh cause ugly halfway Sang xbox lips drunk beer weekend rocks far   ISHRA haha cassie ventura not haircut yesterday beat music awards   Sounds nice try recipe gotta tell turned out   too Cloudy day Madrid typical Spring day   know sleep rated needs it right   Haha like default picture Meow cuckoo back years model starts chirping 11 instead 4 am    look Hot pic Thats gotta work us Sewing things nice feel crafty productive foxy favourite photo (that took) night: http://tinyurlcom/oto5sz cant wait   pics forget fun kyle is   away 2 years: playing sims World Warcraft   thats good im fast learner Mmm Zacharybe prepared 4 randomly mention given time yummy   like Planes Trains Automobiles Best luck Juan Pelota   great movie  best Welsh flatmate   Cheers John thanks following me Look forward twitterings too Think thisll good place rants xxx constantly retweeted it   http://twitpiccom/2aa0m  getting $$$ island   Ill thinking goals United going knock past City bout you quotThick pig shit  went Oxfordquot  Helenas (Cantab) friends description boyfriend yesterday   im kinda tired sleep quotMigratequot got singing along haha Mexican coca cola bottle New favorite thing high fructose corn syrup sugar awesomely old school lookin forward jam DJ Kimosave 16th @ Loft   day pleasure Personal Appearance all sounds good day good weather WANT RED CRUISERS like ones LMFAO awake lol Finished talking good Brawl player talking SmashSpaceningcom Join website like SSBB Hello twitting world best buddies bbq untill Jay z Spotify HEY TWEETERZ ITUNES amp BUY     s NEW HIT SINGLE quotTELL LIKE ISquot   oh yeah too LOL Yeah Smallville late night savior Clark meets young Flash total awesomeness   hehe found ya   australian hardcore/metalcore scene amazing right now look strike chelsea smile BMTH 7 DAYS   excellent looks like twitterific competition   thats friends dati e totally that Lian Eina Gelli you Zero amp Francis well fit going waterguns tesco today haha sunny Bumping dj opus drunk car lmao act like u know Got dark red hair dye going bleach going garden centre today funn :/ currently drinking egyptian spice tea watching hollyoaks gonna shower goin hannah Montana laterz woo excited   going tweets right now probably missed good ones 4 hours   right feel like crazy fanboy jason mraz james morrison jealousy tangible Cant stop playin head  pussycat dolls jai ho ellen degeneres [HD] http://bitly/HxLfm watching run fat boy runhaha soo funny kids Derbyshire schools string concert Buxton Opera House today Theyre excited   sounds cool Liverpools ace especially like beatles cos theres museums shops dedicated   dirty Ha ha sex addiction Justin Timberlake easily reiki master http://tinyurlcom/reiki88 got Kuantan sooooooo FUN   Yeah like   agree truly coolest/best thing everyday definitely trade anything Dads FTW morning football today thinking learning Applescript Driving fast fun went 80 25 Hahaha Goodnight   ok sick date suits u thursday night friday night sat night think laast 3 nights quick #f1 soon good luck brawn mclaren fix look sharp :p   peep remix quotThe Wu Dynastyquot remix tape delayed u idea   Notebook what marvellous film follow  follow you simple   Nice one Hahaha Thanks night lt3   guys match cute PS visiting LA   cant wait yall Friday  hope meet u guys night better joined twitter community Enjoying Mommy Day watching finding nemo nephew cute lots revision today toniight   Drinking working til 10 PM relaxing better adding fun person laugh with Jogged forest Nina Heavy wind reminded need set turbines: free electricity Hmm birthday tomorrow Fun moms day mom im long island mommy lt33 HAPPY MOTHERS DAY enjoyed yesterday Star Trek Awesome movie great actors  prefer Karl Urban Dr Leonard quotBonesquot McCoy Live long prosper   yeah whatever means chatting night then lol   page genny rescue   Ill settle cheap cider meeting deadline seen new blog wwwhavealovelytimecom going watch dvd hubbyEagle Eye twit u 2morrow cia Chillin listening Tunes Hanging cousins house getting manicure pedicure beauty sleep learning play guitar best things boredom Hope mums wonderful day kids know me got game DS weights wii fit woo hooo busy exam week coming up look bright life *whistle*   true depends couple Personally weve found adding increased fun amp increased bond ahhhaaaaa gunna straight it   hahaha cartoon mascots go virlcom monster nice details good shadow + realistic tonsils   Im going kill person went Manchester me (only kidding want police door)   honestys much Sorry resist) changed picture profile friendster hmmm dollhouse sounds pretty good http://bitly/z3aZv think ima download try watching   life funny ironic time it finishing quick magazine article CAP cant wait book   slimy fun   haha new fact cost part kind Spock that   ur funny gnight   applaud selfvalidation sorts good theological psychological amp sociological reasons agree  lighten up   episode 17 season 1 love chuck bass whos going short stack filming sat Im making flag D summer clothes panic overI rain clouds  going swimming thoughIm feeling holiday mood   hahaha totally yaayy feel twitter   ok kinda thought so mean 2  funny though   Game 3 today Oh YA   mmmm looks yummy good seeing u Thanks coming tonight hope ya fun derby day woooo come UNITED Completely EXCELLENT Dave Matthews concert Jason Mraz opened amp heard quotstay leavequot amp quotcrushquot time live mozarts requiem   come kyoto weather great Rome Ceasar   Thanks bit comfort zone fun funny sitting external keyboard mouse macbook bed looks strange comfortable   Ahahaha thanks bro do day tomorrow Ooh snazzed profile summery colors going program programmed long time watched Camp Rock Eating raspberry ripple icecream Awesome Signing night  good Sunday night   lol @ half  bulky desktop Im geared super slim light: SSD performance unreal couple od days  time need sleep Night Night All Peace   haha better drunken tweeting mean want play audition Anna ~ mHcSMOOCH playing bubblewrap iPhone again Still beats working   oh oh thats nice song yeah nuttin budda hawndog Whos going tonight want xxx John john switched meaning PIMP pwns halo theyre wasted hahahaha amazing night movies : Terminator Salvation Transformers 2 gonna meka spring year   Cool wonder sleep   HAHHA yeahh like SS ellen xDD   cafe sky dining plangi http://plurkcom/p/sw17j http://twitpiccom/4wua7  cant wait them Yeah lets build app #euruko girlfriend likes sesame st Listening new Green Day album Fingers crossed gets sumthin special want more akankah suatu hari ku kan mendapatkannya GOD knows Collabro w/JPhlip called quotCaliforniaquot hot one   tysm +uploaded okay lol im looking pics il wanna fuck shit lmao BOOK amp SAVE:SUMMER 2009 * AMAZONES VILLAGE SUITES****CRETEGREECE BEST PLACE BE   Fab eh Feel free come preep 4 chat drinks Luigis  http://wwwluigisorguk tomorrow http://trim/kXCL Immigrant hid passport pants genius look youtube JessAndNicoleMusic new leave comments subscribe thankyou x   http://twitpiccom/2uzx4  haha heads bigger yours awwwh lol mothers day drama awesome   compare horror stories mate LOL   Nah gradually PTFE tape goes 01 mm time Ive years love it x   Yay nekkid writing working thenYou warm now awe 6k  cactus 5 Good luck   Im experiement   13:00 kickoff red cars hopefully   ok Im pc world x x tweet u later x x lol   haha always 2daytrip friend Ive times Thats know basic Japanese   it :O im gonna Hyderabad Blues 2 mimicking American accent: ass roll Rs 8:30PM hit school tomorrow :O ahaha Ill stay til 9 think Xx sunny walk round lake morning met mother goose father goose baby goslings good morning/midday nation FORMULA HOUR'"
            ]
          },
          "metadata": {},
          "execution_count": 120
        }
      ]
    },
    {
      "cell_type": "code",
      "metadata": {
        "id": "GXDype10rz9R"
      },
      "source": [
        "keyword_fun = extract_keywords(fun_docs)"
      ],
      "execution_count": null,
      "outputs": []
    },
    {
      "cell_type": "code",
      "metadata": {
        "colab": {
          "base_uri": "https://localhost:8080/"
        },
        "id": "uPCCvr_-r03h",
        "outputId": "b1db18b6-618c-4229-cad0-c905ef41ffbe"
      },
      "source": [
        "keyword_fun"
      ],
      "execution_count": null,
      "outputs": [
        {
          "output_type": "execute_result",
          "data": {
            "text/plain": [
              "{'2': 42,\n",
              " 'Ill': 37,\n",
              " 'Im': 119,\n",
              " 'Ive': 29,\n",
              " 'LOL': 36,\n",
              " 'amp': 58,\n",
              " 'better': 30,\n",
              " 'cant': 51,\n",
              " 'come': 29,\n",
              " 'cool': 30,\n",
              " 'day': 84,\n",
              " 'fun': 128,\n",
              " 'funny': 39,\n",
              " 'getting': 28,\n",
              " 'going': 73,\n",
              " 'gonna': 38,\n",
              " 'good': 90,\n",
              " 'got': 65,\n",
              " 'great': 47,\n",
              " 'haha': 83,\n",
              " 'home': 33,\n",
              " 'im': 71,\n",
              " 'it': 53,\n",
              " 'know': 54,\n",
              " 'like': 100,\n",
              " 'lol': 123,\n",
              " 'look': 33,\n",
              " 'love': 44,\n",
              " 'me': 33,\n",
              " 'morning': 28,\n",
              " 'new': 40,\n",
              " 'nice': 35,\n",
              " 'night': 58,\n",
              " 'now': 33,\n",
              " 'right': 42,\n",
              " 'sleep': 29,\n",
              " 'thats': 34,\n",
              " 'think': 59,\n",
              " 'time': 51,\n",
              " 'today': 56,\n",
              " 'tomorrow': 41,\n",
              " 'tonight': 46,\n",
              " 'u': 71,\n",
              " 'wait': 43,\n",
              " 'want': 43,\n",
              " 'way': 29,\n",
              " 'week': 30,\n",
              " 'work': 39,\n",
              " 'yeah': 35,\n",
              " 'you': 29}"
            ]
          },
          "metadata": {},
          "execution_count": 122
        }
      ]
    },
    {
      "cell_type": "code",
      "metadata": {
        "id": "7IWQBDelmhsb"
      },
      "source": [
        "def plot_most_common_words(mydict):\n",
        "  df_01 = pd.DataFrame(mydict.items(),columns = ['token','count'])\n",
        "  plt.figure(figsize = (20,10))\n",
        "  sns.barplot(x='token',y = 'count',data= df_01)\n",
        "  plt.xticks(rotation = 45)\n",
        "  plt.show()"
      ],
      "execution_count": null,
      "outputs": []
    },
    {
      "cell_type": "code",
      "metadata": {
        "colab": {
          "base_uri": "https://localhost:8080/",
          "height": 636
        },
        "id": "sHukKsxLAqYm",
        "outputId": "b4265cf1-c70f-49c4-d43b-5aa54d75bb03"
      },
      "source": [
        "plot_most_common_words(keyword_fun)"
      ],
      "execution_count": null,
      "outputs": [
        {
          "output_type": "display_data",
          "data": {
            "image/png": "[encoded data removed]",
            "text/plain": [
              "<Figure size 1440x720 with 1 Axes>"
            ]
          },
          "metadata": {
            "needs_background": "light"
          }
        }
      ]
    },
    {
      "cell_type": "code",
      "metadata": {
        "id": "M-5kNgidHjxr"
      },
      "source": [
        "surprise_list = df[df['sentiment'] == 'surprise']['clean_text'].tolist()\n",
        "surprise_docx = ' '.join(surprise_list) \n",
        "keyword_surprise = extract_keywords(surprise_docx)"
      ],
      "execution_count": null,
      "outputs": []
    },
    {
      "cell_type": "code",
      "metadata": {
        "colab": {
          "base_uri": "https://localhost:8080/",
          "height": 632
        },
        "id": "H3WH19pXIT5V",
        "outputId": "4c6886ef-558b-4ef7-c1f4-75569589e3ab"
      },
      "source": [
        "plot_most_common_words(keyword_surprise)"
      ],
      "execution_count": null,
      "outputs": [
        {
          "output_type": "display_data",
          "data": {
            "image/png": "[encoded data removed]",
            "text/plain": [
              "<Figure size 1440x720 with 1 Axes>"
            ]
          },
          "metadata": {
            "needs_background": "light"
          }
        }
      ]
    },
    {
      "cell_type": "code",
      "metadata": {
        "id": "pXzSkBZOIZ6n"
      },
      "source": [
        "from wordcloud import WordCloud"
      ],
      "execution_count": null,
      "outputs": []
    },
    {
      "cell_type": "code",
      "metadata": {
        "id": "On_heXXxU-4b"
      },
      "source": [
        "def plot_wordcloud(docx):\n",
        "  mywordcloud = WordCloud().generate(docx)\n",
        "  plt.figure(figsize=(20,10))\n",
        "  plt.imshow(mywordcloud,interpolation='bilinear')\n",
        "  plt.axis('off')\n",
        "  plt.show()"
      ],
      "execution_count": null,
      "outputs": []
    },
    {
      "cell_type": "markdown",
      "metadata": {
        "id": "-v7jY4Kzqyq9"
      },
      "source": [
        "machine learning"
      ]
    },
    {
      "cell_type": "code",
      "metadata": {
        "id": "J3Yplo9YqyPN"
      },
      "source": [
        "# Load ML pkgs\n",
        "from sklearn.linear_model import LogisticRegression\n",
        "from sklearn.naive_bayes import MultinomialNB\n",
        "\n",
        "from sklearn.feature_extraction.text import CountVectorizer,TfidfVectorizer\n",
        "from sklearn.metrics import accuracy_score,confusion_matrix,classification_report,plot_confusion_matrix\n",
        "\n"
      ],
      "execution_count": null,
      "outputs": []
    },
    {
      "cell_type": "code",
      "metadata": {
        "id": "6xrTlwEHqyGf"
      },
      "source": [
        "from sklearn.model_selection import train_test_split"
      ],
      "execution_count": null,
      "outputs": []
    },
    {
      "cell_type": "markdown",
      "metadata": {
        "id": "KH1lOjDzZZrL"
      },
      "source": [
        "Build Feature From Our Test"
      ]
    },
    {
      "cell_type": "code",
      "metadata": {
        "id": "JjFfFiKSqx8d"
      },
      "source": [
        "Xfeatures = df['clean_text']\n",
        "Ylabel = df['sentiment']"
      ],
      "execution_count": null,
      "outputs": []
    },
    {
      "cell_type": "code",
      "metadata": {
        "colab": {
          "base_uri": "https://localhost:8080/"
        },
        "id": "paV2FiDmqxx9",
        "outputId": "2c397bb7-8dcd-49ce-a909-8243d946180a"
      },
      "source": [
        "Xfeatures"
      ],
      "execution_count": null,
      "outputs": [
        {
          "output_type": "execute_result",
          "data": {
            "text/plain": [
              "0          know listenin bad habit earlier started frea...\n",
              "1                   Layin n bed headache ughhhhwaitin call\n",
              "2                            Funeral ceremonygloomy friday\n",
              "3                                  wants hang friends SOON\n",
              "4                          want trade Houston tickets will\n",
              "                               ...                        \n",
              "39995                                                     \n",
              "39996                               Happy Mothers Day love\n",
              "39997    Happy Mothers Day mommies there woman man long...\n",
              "39998      WASSUP BEAUTIFUL FOLLOW ME PEEP NEW HIT SING...\n",
              "39999      bullet train tokyo gf visiting japan thursda...\n",
              "Name: clean_text, Length: 40000, dtype: object"
            ]
          },
          "metadata": {},
          "execution_count": 132
        }
      ]
    },
    {
      "cell_type": "code",
      "metadata": {
        "colab": {
          "base_uri": "https://localhost:8080/"
        },
        "id": "_fvR4uldqxHy",
        "outputId": "3e98d8c2-fdd8-4364-8a67-f3f7be20152f"
      },
      "source": [
        "# vectorize\n",
        "cv = CountVectorizer()\n",
        "print(Xfeatures.dtype)\n",
        "X = cv.fit_transform(Xfeatures)"
      ],
      "execution_count": null,
      "outputs": [
        {
          "output_type": "stream",
          "name": "stdout",
          "text": [
            "object\n"
          ]
        }
      ]
    },
    {
      "cell_type": "code",
      "metadata": {
        "id": "-GcC4Nd8rNOc",
        "colab": {
          "base_uri": "https://localhost:8080/"
        },
        "outputId": "0ae7be95-785c-4fb3-b546-935f231b3771"
      },
      "source": [
        "cv.get_feature_names()"
      ],
      "execution_count": null,
      "outputs": [
        {
          "output_type": "execute_result",
          "data": {
            "text/plain": [
              "['00',\n",
              " '000',\n",
              " '002',\n",
              " '006',\n",
              " '00am',\n",
              " '00pm',\n",
              " '01',\n",
              " '010',\n",
              " '02',\n",
              " '023',\n",
              " '024',\n",
              " '0255',\n",
              " '02mxjj',\n",
              " '03',\n",
              " '04',\n",
              " '04182012154',\n",
              " '05',\n",
              " '050',\n",
              " '050809',\n",
              " '053agj',\n",
              " '05ixbj',\n",
              " '06',\n",
              " '0600',\n",
              " '06am',\n",
              " '07',\n",
              " '0783l',\n",
              " '079ï',\n",
              " '07am',\n",
              " '07i',\n",
              " '07jzs',\n",
              " '07k6e',\n",
              " '07k6x',\n",
              " '07kbp',\n",
              " '07kbq',\n",
              " '07kbr',\n",
              " '07kjr',\n",
              " '07xfs',\n",
              " '07xoh',\n",
              " '07xoi',\n",
              " '07yez',\n",
              " '08',\n",
              " '080509',\n",
              " '080809',\n",
              " '08kaifj',\n",
              " '09',\n",
              " '0930',\n",
              " '097dfj',\n",
              " '0a7v3j',\n",
              " '0ayzyj',\n",
              " '0egwanj',\n",
              " '0f',\n",
              " '0gmunj',\n",
              " '0guyoj',\n",
              " '0kenjoy',\n",
              " '0l2tsj',\n",
              " '0ltrdaj',\n",
              " '0mqko',\n",
              " '0n',\n",
              " '0o',\n",
              " '0quot',\n",
              " '0rpm',\n",
              " '0s',\n",
              " '0t2b6j',\n",
              " '0ut',\n",
              " '0wvnpj',\n",
              " '0xhu5j',\n",
              " '0xoxij',\n",
              " '0zr2jqj',\n",
              " '0zywwj',\n",
              " '10',\n",
              " '100',\n",
              " '1000',\n",
              " '10000',\n",
              " '100000',\n",
              " '10000000000',\n",
              " '100000000000000000000000000000000000',\n",
              " '10000th',\n",
              " '1000th',\n",
              " '1000x',\n",
              " '1008',\n",
              " '100greatestgames',\n",
              " '100msg',\n",
              " '100th',\n",
              " '100word',\n",
              " '100x',\n",
              " '101',\n",
              " '1010',\n",
              " '1011',\n",
              " '1011pm',\n",
              " '1012',\n",
              " '1015',\n",
              " '1017',\n",
              " '102',\n",
              " '1027',\n",
              " '1029',\n",
              " '103',\n",
              " '1030',\n",
              " '1030am',\n",
              " '1030pm',\n",
              " '1034415',\n",
              " '103ffevered',\n",
              " '104',\n",
              " '1045',\n",
              " '104m6wj',\n",
              " '105',\n",
              " '1052x1',\n",
              " '1057',\n",
              " '105all',\n",
              " '106',\n",
              " '1073',\n",
              " '1075',\n",
              " '108',\n",
              " '109',\n",
              " '1095',\n",
              " '10am',\n",
              " '10and',\n",
              " '10c',\n",
              " '10days',\n",
              " '10dolla',\n",
              " '10gb',\n",
              " '10hour',\n",
              " '10jaffa',\n",
              " '10jsepj',\n",
              " '10k',\n",
              " '10m',\n",
              " '10min',\n",
              " '10mins',\n",
              " '10mm',\n",
              " '10p',\n",
              " '10pm',\n",
              " '10th',\n",
              " '10ty',\n",
              " '10uemq',\n",
              " '10yearold',\n",
              " '10yr',\n",
              " '11',\n",
              " '110',\n",
              " '1100',\n",
              " '1102',\n",
              " '111',\n",
              " '1115',\n",
              " '1116',\n",
              " '1123',\n",
              " '113',\n",
              " '1130',\n",
              " '114',\n",
              " '1140',\n",
              " '115',\n",
              " '1150',\n",
              " '1155hours',\n",
              " '115am',\n",
              " '116',\n",
              " '117th',\n",
              " '118',\n",
              " '11830',\n",
              " '118lgl',\n",
              " '11am',\n",
              " '11dd2t',\n",
              " '11e',\n",
              " '11make',\n",
              " '11pm',\n",
              " '11stupid',\n",
              " '11th',\n",
              " '11w',\n",
              " '11y',\n",
              " '11z2ip',\n",
              " '12',\n",
              " '120',\n",
              " '1200',\n",
              " '120mm',\n",
              " '1215',\n",
              " '121908inlove',\n",
              " '123',\n",
              " '12306',\n",
              " '1230pm',\n",
              " '123243342',\n",
              " '125',\n",
              " '1267',\n",
              " '128',\n",
              " '128600',\n",
              " '129',\n",
              " '12am',\n",
              " '12beat',\n",
              " '12f0y',\n",
              " '12ghz',\n",
              " '12hr',\n",
              " '12k',\n",
              " '12lbs',\n",
              " '12pm',\n",
              " '12r3c3',\n",
              " '12s',\n",
              " '12seconds',\n",
              " '12st',\n",
              " '12th',\n",
              " '12thplease',\n",
              " '12yr',\n",
              " '13',\n",
              " '1300',\n",
              " '13055',\n",
              " '131',\n",
              " '1313',\n",
              " '13155',\n",
              " '13200',\n",
              " '13225',\n",
              " '1330',\n",
              " '13341015518',\n",
              " '134071',\n",
              " '135',\n",
              " '13527',\n",
              " '13576',\n",
              " '136',\n",
              " '137cty',\n",
              " '1386am',\n",
              " '13f5m0',\n",
              " '13gig',\n",
              " '13gigs',\n",
              " '13izrj',\n",
              " '13nfk1',\n",
              " '13pdrmj',\n",
              " '13pqtw',\n",
              " '13quot',\n",
              " '13th',\n",
              " '13ti6j',\n",
              " '13tolifeus',\n",
              " '14',\n",
              " '140',\n",
              " '1401',\n",
              " '1424',\n",
              " '143',\n",
              " '145',\n",
              " '145km',\n",
              " '147',\n",
              " '1473318html',\n",
              " '147heu',\n",
              " '148',\n",
              " '1488',\n",
              " '14950',\n",
              " '14lvi',\n",
              " '14lyij',\n",
              " '14m',\n",
              " '14mph',\n",
              " '14s',\n",
              " '14th',\n",
              " '14yr',\n",
              " '15',\n",
              " '150',\n",
              " '1500',\n",
              " '1500ft',\n",
              " '1500rpm',\n",
              " '1505',\n",
              " '151',\n",
              " '1520',\n",
              " '1528th',\n",
              " '153bpm',\n",
              " '154upj',\n",
              " '155',\n",
              " '156',\n",
              " '1560',\n",
              " '15c',\n",
              " '15fo4x',\n",
              " '15gb',\n",
              " '15h30',\n",
              " '15hrs',\n",
              " '15min',\n",
              " '15mins',\n",
              " '15minutes',\n",
              " '15p',\n",
              " '15quot',\n",
              " '15tb',\n",
              " '15th',\n",
              " '15yyid',\n",
              " '16',\n",
              " '160',\n",
              " '1600th',\n",
              " '160hp',\n",
              " '1638824',\n",
              " '165',\n",
              " '1654',\n",
              " '1667',\n",
              " '167',\n",
              " '168',\n",
              " '1695368792',\n",
              " '16hes',\n",
              " '16hour',\n",
              " '16k',\n",
              " '16lbs',\n",
              " '16lugx',\n",
              " '16th',\n",
              " '16urvv',\n",
              " '16w6zv',\n",
              " '16yo',\n",
              " '16ï',\n",
              " '17',\n",
              " '1701',\n",
              " '170th',\n",
              " '1720',\n",
              " '1750',\n",
              " '1752876129',\n",
              " '175mths',\n",
              " '177',\n",
              " '17905',\n",
              " '179jxs',\n",
              " '17again',\n",
              " '17cy61',\n",
              " '17jiy8',\n",
              " '17lb',\n",
              " '17quot',\n",
              " '17th',\n",
              " '17yearold',\n",
              " '17zw1j',\n",
              " '18',\n",
              " '180',\n",
              " '1800',\n",
              " '18000',\n",
              " '181',\n",
              " '182',\n",
              " '182397',\n",
              " '1824',\n",
              " '1828x1556',\n",
              " '182s',\n",
              " '1841',\n",
              " '1842',\n",
              " '186',\n",
              " '1864ml',\n",
              " '187',\n",
              " '18aeg8',\n",
              " '18am',\n",
              " '18hrs',\n",
              " '18kwzh',\n",
              " '18mos',\n",
              " '18s',\n",
              " '18th',\n",
              " '18thh',\n",
              " '18zd0k',\n",
              " '19',\n",
              " '190',\n",
              " '191tpr',\n",
              " '192',\n",
              " '1930s',\n",
              " '1939',\n",
              " '194',\n",
              " '1946',\n",
              " '1948',\n",
              " '1960s',\n",
              " '1970s',\n",
              " '1971',\n",
              " '1973',\n",
              " '1975',\n",
              " '198',\n",
              " '1980s',\n",
              " '1984',\n",
              " '1986',\n",
              " '1987',\n",
              " '1991',\n",
              " '1992',\n",
              " '1994',\n",
              " '1995',\n",
              " '1996',\n",
              " '1997',\n",
              " '1999',\n",
              " '199zwd',\n",
              " '19age',\n",
              " '19ol1b',\n",
              " '19th',\n",
              " '1aa1rf',\n",
              " '1aida',\n",
              " '1am',\n",
              " '1amand',\n",
              " '1b75hgrqe7a4fwee3g3wmu',\n",
              " '1bi7ad',\n",
              " '1direction',\n",
              " '1doeej',\n",
              " '1e15',\n",
              " '1fav',\n",
              " '1gb',\n",
              " '1gurq',\n",
              " '1h33mn',\n",
              " '1hour',\n",
              " '1hr',\n",
              " '1k',\n",
              " '1km',\n",
              " '1lol',\n",
              " '1m',\n",
              " '1man',\n",
              " '1million',\n",
              " '1minute',\n",
              " '1mo',\n",
              " '1ntp',\n",
              " '1ofmy',\n",
              " '1pendulum',\n",
              " '1pm',\n",
              " '1pmdoesnt',\n",
              " '1s',\n",
              " '1st',\n",
              " '1tb',\n",
              " '1tiffany',\n",
              " '1ujzq',\n",
              " '1vn0',\n",
              " '1x',\n",
              " '1x2610',\n",
              " '1xiz',\n",
              " '1xri',\n",
              " '1xts',\n",
              " '1y2j',\n",
              " '1yeah',\n",
              " '1zlt',\n",
              " '1zpf',\n",
              " '1zpi',\n",
              " '1zsj',\n",
              " '1zt0',\n",
              " '1zu9',\n",
              " '1zx6',\n",
              " '1zyg',\n",
              " '20',\n",
              " '200',\n",
              " '2000',\n",
              " '20000',\n",
              " '20000000',\n",
              " '2001',\n",
              " '2002',\n",
              " '2003',\n",
              " '2005',\n",
              " '2006',\n",
              " '2006amp2007',\n",
              " '2007',\n",
              " '2008',\n",
              " '2008s',\n",
              " '2009',\n",
              " '2009quothmmhave',\n",
              " '2009the',\n",
              " '200andsome60',\n",
              " '200f2',\n",
              " '200km',\n",
              " '200lbs',\n",
              " '200m',\n",
              " '2010',\n",
              " '2011',\n",
              " '2015',\n",
              " '201th',\n",
              " '202',\n",
              " '2020',\n",
              " '2023',\n",
              " '2025',\n",
              " '2026',\n",
              " '205r',\n",
              " '209205',\n",
              " '20amheading',\n",
              " '20dd',\n",
              " '20gf',\n",
              " '20ghz',\n",
              " '20h',\n",
              " '20ish',\n",
              " '20min',\n",
              " '20mins',\n",
              " '20now',\n",
              " '20oh',\n",
              " '20pm',\n",
              " '20th',\n",
              " '20thhmmm',\n",
              " '20xs',\n",
              " '20yes',\n",
              " '20yrs',\n",
              " '20yy',\n",
              " '21',\n",
              " '2134',\n",
              " '214',\n",
              " '2144',\n",
              " '21589',\n",
              " '2164',\n",
              " '218m',\n",
              " '21a4',\n",
              " '21cn',\n",
              " '21cu',\n",
              " '21ds',\n",
              " '21f2',\n",
              " '21life',\n",
              " '21month',\n",
              " '21rk',\n",
              " '21s1',\n",
              " '21sl',\n",
              " '21st',\n",
              " '21uf',\n",
              " '21you',\n",
              " '22',\n",
              " '220',\n",
              " '221',\n",
              " '2215',\n",
              " '222222',\n",
              " '225',\n",
              " '225quot',\n",
              " '2290',\n",
              " '2296',\n",
              " '22hrs',\n",
              " '22nd',\n",
              " '22quot',\n",
              " '23',\n",
              " '230',\n",
              " '230pm',\n",
              " '234',\n",
              " '2345',\n",
              " '23600',\n",
              " '236am',\n",
              " '237',\n",
              " '2396',\n",
              " '239k',\n",
              " '23b',\n",
              " '23rd',\n",
              " '23rdany',\n",
              " '24',\n",
              " '240',\n",
              " '243',\n",
              " '2448',\n",
              " '249',\n",
              " '24hours',\n",
              " '24hr',\n",
              " '24hrs',\n",
              " '24mer',\n",
              " '24quot',\n",
              " '24th',\n",
              " '25',\n",
              " '250',\n",
              " '2500',\n",
              " '250e',\n",
              " '250gb',\n",
              " '250gs',\n",
              " '250k',\n",
              " '251',\n",
              " '253ce',\n",
              " '255',\n",
              " '25c',\n",
              " '25d',\n",
              " '25ft',\n",
              " '25ghz',\n",
              " '25i',\n",
              " '25k',\n",
              " '25man',\n",
              " '25mbps',\n",
              " '25ï',\n",
              " '26',\n",
              " '260',\n",
              " '261c',\n",
              " '2630',\n",
              " '2630rc4',\n",
              " '264',\n",
              " '26498457',\n",
              " '26733333',\n",
              " '2697',\n",
              " '26th',\n",
              " '27',\n",
              " '275',\n",
              " '27th',\n",
              " '28',\n",
              " '280lbsyippee',\n",
              " '2833',\n",
              " '2837',\n",
              " '286',\n",
              " '2888mo',\n",
              " '28c',\n",
              " '28deg',\n",
              " '28hh',\n",
              " '28th',\n",
              " '28ï',\n",
              " '29',\n",
              " '291kms',\n",
              " '2923848932',\n",
              " '295',\n",
              " '299',\n",
              " '29ers',\n",
              " '29on',\n",
              " '29th',\n",
              " '29thtonight',\n",
              " '29yr',\n",
              " '2a',\n",
              " '2aa0m',\n",
              " '2agcth',\n",
              " '2am',\n",
              " '2amits',\n",
              " '2amp',\n",
              " '2and',\n",
              " '2b',\n",
              " '2cal',\n",
              " '2ce',\n",
              " '2d',\n",
              " '2daii',\n",
              " '2day',\n",
              " '2daybake',\n",
              " '2daybeat',\n",
              " '2dayjust',\n",
              " '2daylets',\n",
              " '2dayme',\n",
              " '2daytrip',\n",
              " '2dayweatherwise',\n",
              " '2dives',\n",
              " '2dmtn',\n",
              " '2do',\n",
              " '2ehfov',\n",
              " '2field',\n",
              " '2for1',\n",
              " '2ft',\n",
              " '2gather',\n",
              " '2getha',\n",
              " '2gether',\n",
              " '2goin',\n",
              " '2goodbyes',\n",
              " '2hear',\n",
              " '2hi2t4yjpg',\n",
              " '2hours',\n",
              " '2hpbg4',\n",
              " '2hrs',\n",
              " '2j3l',\n",
              " '2jobs',\n",
              " '2k',\n",
              " '2k6',\n",
              " '2k9',\n",
              " '2kidsmy',\n",
              " '2l',\n",
              " '2l36n',\n",
              " '2l63l',\n",
              " '2listen',\n",
              " '2m',\n",
              " '2maro',\n",
              " '2me',\n",
              " '2moro',\n",
              " '2morro',\n",
              " '2morrow',\n",
              " '2morrowi',\n",
              " '2morrows',\n",
              " '2moz',\n",
              " '2mrw',\n",
              " '2my',\n",
              " '2mz',\n",
              " '2nd',\n",
              " '2nd30th100th',\n",
              " '2ndary',\n",
              " '2night',\n",
              " '2nightand',\n",
              " '2nit',\n",
              " '2nite',\n",
              " '2niteampi',\n",
              " '2nitei',\n",
              " '2nitex',\n",
              " '2njv',\n",
              " '2nlc',\n",
              " '2nte',\n",
              " '2nyt',\n",
              " '2or',\n",
              " '2orw',\n",
              " '2people',\n",
              " '2pm',\n",
              " '2pm4pm',\n",
              " '2pmagain',\n",
              " '2reading',\n",
              " '2s1y',\n",
              " '2sljbwt',\n",
              " '2stop',\n",
              " '2sw4v',\n",
              " '2toa',\n",
              " '2twitter',\n",
              " '2u2',\n",
              " '2uhs',\n",
              " '2urgp',\n",
              " '2uzx4',\n",
              " '2veorg',\n",
              " '2vko',\n",
              " '2w2v',\n",
              " '2w5v',\n",
              " '2would',\n",
              " '2x',\n",
              " '2x2924',\n",
              " '2xdpf',\n",
              " '2xjoc',\n",
              " '2year',\n",
              " '2yr',\n",
              " '2zaf4',\n",
              " '2zemt',\n",
              " '2zgfk',\n",
              " '30',\n",
              " '300',\n",
              " '3000',\n",
              " '3000quot',\n",
              " '300th',\n",
              " '3010',\n",
              " '302',\n",
              " '3040',\n",
              " '306000',\n",
              " '308',\n",
              " '30am',\n",
              " '30amnow',\n",
              " '30b5',\n",
              " '30c',\n",
              " '30day',\n",
              " '30lammmeeee',\n",
              " '30mins',\n",
              " '30p',\n",
              " '30pm',\n",
              " '30rock',\n",
              " '30s',\n",
              " '30sec',\n",
              " '30stmfan',\n",
              " '30th',\n",
              " '30tools',\n",
              " '30where',\n",
              " '30yo',\n",
              " '30ï',\n",
              " '31',\n",
              " '311',\n",
              " '3144',\n",
              " '315pm',\n",
              " '3180758jpg',\n",
              " '31quot',\n",
              " '31st',\n",
              " '31th',\n",
              " '32',\n",
              " '320',\n",
              " '320gb',\n",
              " '32665',\n",
              " '32mb',\n",
              " '33',\n",
              " '330',\n",
              " '330am',\n",
              " '330pm',\n",
              " '333622',\n",
              " '334',\n",
              " '335',\n",
              " '336u5',\n",
              " '33hus',\n",
              " '34',\n",
              " '34mb',\n",
              " '35',\n",
              " '3500',\n",
              " '350am',\n",
              " '3512',\n",
              " '35138',\n",
              " '3517129153',\n",
              " '3540',\n",
              " '35am',\n",
              " '35hours',\n",
              " '35mins',\n",
              " '35th',\n",
              " '36',\n",
              " '360',\n",
              " '3630pm',\n",
              " '3647',\n",
              " '365',\n",
              " '365days',\n",
              " '367',\n",
              " '368558682',\n",
              " '36pz',\n",
              " '37',\n",
              " '371',\n",
              " '374',\n",
              " '37nnd',\n",
              " '37wt5f',\n",
              " '38',\n",
              " '3800it',\n",
              " '38am',\n",
              " '38pm',\n",
              " '38th',\n",
              " '39',\n",
              " '395',\n",
              " '39th',\n",
              " '3a5ho',\n",
              " '3aaah',\n",
              " '3alaiiik',\n",
              " '3am',\n",
              " '3aref',\n",
              " '3asa',\n",
              " '3bnas',\n",
              " '3breakupwords',\n",
              " '3bt',\n",
              " '3d',\n",
              " '3days',\n",
              " '3ds',\n",
              " '3ernb',\n",
              " '3g',\n",
              " '3goxn',\n",
              " '3hour',\n",
              " '3hours',\n",
              " '3hrs',\n",
              " '3indi',\n",
              " '3intro',\n",
              " '3it',\n",
              " '3k',\n",
              " '3koyqo',\n",
              " '3late',\n",
              " '3lbs',\n",
              " '3lohvl',\n",
              " '3lqux',\n",
              " '3mb',\n",
              " '3md9fv',\n",
              " '3mdce',\n",
              " '3min',\n",
              " '3mrim',\n",
              " '3my',\n",
              " '3nid8',\n",
              " '3nvyg',\n",
              " '3nzth',\n",
              " '3o32g',\n",
              " '3o3zxoj',\n",
              " '3o7rv',\n",
              " '3oh3',\n",
              " '3orh6',\n",
              " '3oth',\n",
              " '3pb8j',\n",
              " '3pg',\n",
              " '3pj876',\n",
              " '3pjnc',\n",
              " '3pm',\n",
              " '3point',\n",
              " '3qfqo',\n",
              " '3quot',\n",
              " '3rd',\n",
              " '3run',\n",
              " '3s',\n",
              " '3shut',\n",
              " '3then',\n",
              " '3to7',\n",
              " '3v3ry',\n",
              " '3w9w1',\n",
              " '3ware',\n",
              " '3wordsaftersex',\n",
              " '3x',\n",
              " '3x2500',\n",
              " '3x3',\n",
              " '3x3wq',\n",
              " '3xm7d',\n",
              " '3yo',\n",
              " '3yp',\n",
              " '3ysav',\n",
              " '40',\n",
              " '400',\n",
              " '4000',\n",
              " '40000',\n",
              " '400e',\n",
              " '400mb',\n",
              " '400th',\n",
              " '401',\n",
              " '40328',\n",
              " '404',\n",
              " '40404',\n",
              " '404d',\n",
              " '405',\n",
              " '409',\n",
              " '4096',\n",
              " '40cm',\n",
              " '40ish',\n",
              " '40k',\n",
              " '40min',\n",
              " '40mins',\n",
              " '40omglol',\n",
              " '40s',\n",
              " '40something',\n",
              " '40th',\n",
              " '41',\n",
              " '410',\n",
              " '41000',\n",
              " '411',\n",
              " '416b7',\n",
              " '418',\n",
              " '41dbn',\n",
              " '42',\n",
              " '425',\n",
              " '42am',\n",
              " '42nd',\n",
              " '43',\n",
              " '430',\n",
              " '430am',\n",
              " '430pm',\n",
              " '43416',\n",
              " '438',\n",
              " '44',\n",
              " '445am',\n",
              " '449yj',\n",
              " '44am',\n",
              " '44secs',\n",
              " '45',\n",
              " '450',\n",
              " '450am',\n",
              " '45am',\n",
              " '45champions',\n",
              " '45ish',\n",
              " '45pm',\n",
              " '45r61',\n",
              " '45th',\n",
              " '46',\n",
              " '460',\n",
              " '4603',\n",
              " '461',\n",
              " '46am',\n",
              " '47',\n",
              " '47000nice',\n",
              " '47060',\n",
              " '4719',\n",
              " '47days',\n",
              " '47pm',\n",
              " '48',\n",
              " '4817',\n",
              " '483',\n",
              " '483892161png',\n",
              " '4879',\n",
              " '48am',\n",
              " '48gy0',\n",
              " '48hours',\n",
              " '48hoursnz',\n",
              " '49am',\n",
              " '49er',\n",
              " '4a',\n",
              " '4am',\n",
              " '4amp5',\n",
              " '4bbcy',\n",
              " '4bckp',\n",
              " '4ce',\n",
              " '4d',\n",
              " '4d8',\n",
              " '4day',\n",
              " '4days',\n",
              " '4e',\n",
              " '4eva',\n",
              " '4ever',\n",
              " '4f0l0',\n",
              " '4fnaa',\n",
              " '4fzo7',\n",
              " '4g',\n",
              " '4gb',\n",
              " '4gemf',\n",
              " '4get',\n",
              " '4give',\n",
              " '4gnlp',\n",
              " '4got',\n",
              " '4grnh',\n",
              " '4h',\n",
              " '4hap4',\n",
              " '4hbs5',\n",
              " '4hour',\n",
              " '4hours',\n",
              " '4hrs',\n",
              " '4hsd2',\n",
              " '4i2zu',\n",
              " '4i3g6',\n",
              " '4i8kk',\n",
              " '4iq19',\n",
              " '4ish',\n",
              " '4iw0x',\n",
              " '4j29b',\n",
              " '4j585',\n",
              " '4j6kc',\n",
              " '4j8us',\n",
              " '4j8yk',\n",
              " '4j91r',\n",
              " '4j92o',\n",
              " '4j95z',\n",
              " '4j99z',\n",
              " '4j9cd',\n",
              " '4j9eo',\n",
              " '4j9fb',\n",
              " '4j9om',\n",
              " '4j9x4',\n",
              " '4ja12',\n",
              " '4ja4b',\n",
              " '4ja8m',\n",
              " '4ja8r',\n",
              " '4ja93',\n",
              " '4jacy',\n",
              " '4jalj',\n",
              " '4jam0',\n",
              " '4jas7',\n",
              " '4jaw9',\n",
              " '4jax3',\n",
              " '4jaz5',\n",
              " '4jazs',\n",
              " '4jb0q',\n",
              " '4jb4d',\n",
              " '4jb4o',\n",
              " '4jb66',\n",
              " '4jbba',\n",
              " '4jber',\n",
              " '4jbhp',\n",
              " '4jble',\n",
              " '4jbn6',\n",
              " '4jbsq',\n",
              " '4jbwh',\n",
              " '4jbws',\n",
              " '4jbwy',\n",
              " '4jbx2',\n",
              " '4jbzv',\n",
              " '4jccd',\n",
              " '4jcf1',\n",
              " '4jcfg',\n",
              " '4jcjj',\n",
              " '4jcjr',\n",
              " '4jco5',\n",
              " '4jcwm',\n",
              " '4jcxr',\n",
              " '4jdkq',\n",
              " '4jdrg',\n",
              " '4jdtj',\n",
              " '4jdtx',\n",
              " '4jeij',\n",
              " '4jeil',\n",
              " '4jerc',\n",
              " ...]"
            ]
          },
          "metadata": {},
          "execution_count": 134
        }
      ]
    },
    {
      "cell_type": "code",
      "metadata": {
        "colab": {
          "base_uri": "https://localhost:8080/"
        },
        "id": "NUqsB_AYZ6lr",
        "outputId": "30eaf30a-7606-4b23-80db-9a619ad81cb2"
      },
      "source": [
        "X_train,X_test,y_train,y_test = train_test_split(X,Ylabel,test_size=0.2,random_state = 42)\n",
        "print('Number of rows in the total set: {}'.format(df.shape[0]))\n",
        "print('Number of rows in the training set: {}'.format(X_train.shape[0]))\n",
        "print('Number of rows in the test set: {}'.format(X_test.shape[0]))"
      ],
      "execution_count": null,
      "outputs": [
        {
          "output_type": "stream",
          "name": "stdout",
          "text": [
            "Number of rows in the total set: 40000\n",
            "Number of rows in the training set: 32000\n",
            "Number of rows in the test set: 8000\n"
          ]
        }
      ]
    },
    {
      "cell_type": "markdown",
      "metadata": {
        "id": "4d_37zjqpIN9"
      },
      "source": [
        "Build Our Model"
      ]
    },
    {
      "cell_type": "code",
      "metadata": {
        "colab": {
          "base_uri": "https://localhost:8080/"
        },
        "id": "pEwrVXqlpLVe",
        "outputId": "e86a3fb2-2285-4f62-cb6a-105461482fa6"
      },
      "source": [
        "nv_model = MultinomialNB()\n",
        "nv_model.fit(X_train,y_train)"
      ],
      "execution_count": null,
      "outputs": [
        {
          "output_type": "execute_result",
          "data": {
            "text/plain": [
              "MultinomialNB(alpha=1.0, class_prior=None, fit_prior=True)"
            ]
          },
          "metadata": {},
          "execution_count": 136
        }
      ]
    },
    {
      "cell_type": "code",
      "metadata": {
        "colab": {
          "base_uri": "https://localhost:8080/"
        },
        "id": "kkbsRylxru5g",
        "outputId": "d3500a10-b0f5-4494-d171-c12821fd09e5"
      },
      "source": [
        "score = nv_model.score(X_test,y_test)\n",
        "predictions = nv_model.predict(X)\n",
        "print(predictions)"
      ],
      "execution_count": null,
      "outputs": [
        {
          "output_type": "stream",
          "name": "stdout",
          "text": [
            "['worry' 'worry' 'sadness' ... 'love' 'happiness' 'love']\n"
          ]
        }
      ]
    },
    {
      "cell_type": "code",
      "metadata": {
        "id": "VL9_7i_vr4X7"
      },
      "source": [
        "y_pred_for_nv = nv_model.predict(X_test)"
      ],
      "execution_count": null,
      "outputs": []
    },
    {
      "cell_type": "code",
      "metadata": {
        "id": "nTatGhyZJT6y"
      },
      "source": [
        "from sklearn.metrics import accuracy_score, precision_score, recall_score"
      ],
      "execution_count": null,
      "outputs": []
    },
    {
      "cell_type": "code",
      "metadata": {
        "colab": {
          "base_uri": "https://localhost:8080/"
        },
        "id": "o4nBZXWPKNd_",
        "outputId": "ee15fd98-dda7-43a4-d3c6-c18d2d9ce6cd"
      },
      "source": [
        "print('Accuracy score: ', accuracy_score(y_test, y_pred_for_nv))"
      ],
      "execution_count": null,
      "outputs": [
        {
          "output_type": "stream",
          "name": "stdout",
          "text": [
            "Accuracy score:  0.31625\n"
          ]
        }
      ]
    },
    {
      "cell_type": "markdown",
      "metadata": {
        "id": "kgIp7Zuh3xOC"
      },
      "source": [
        "### try to change dataset for better resuls"
      ]
    },
    {
      "cell_type": "markdown",
      "metadata": {
        "id": "EyPTN6VMsOA1"
      },
      "source": [
        "# make a single prediction\n",
        "vectorize our text\n",
        "\n",
        "applied our model"
      ]
    },
    {
      "cell_type": "code",
      "metadata": {
        "id": "jP3Ptuk2sM5K"
      },
      "source": [
        "sample_text = [\"I love coding very much\"]"
      ],
      "execution_count": null,
      "outputs": []
    },
    {
      "cell_type": "code",
      "metadata": {
        "id": "xRZdDrLawRfw"
      },
      "source": [
        "vect = cv.transform(sample_text).toarray()"
      ],
      "execution_count": null,
      "outputs": []
    },
    {
      "cell_type": "code",
      "metadata": {
        "colab": {
          "base_uri": "https://localhost:8080/"
        },
        "id": "TNuMC-7-wQ7W",
        "outputId": "1d17f96b-d1e8-4b5a-bc98-e80e5b0f5247"
      },
      "source": [
        "nv_model.predict(vect)"
      ],
      "execution_count": null,
      "outputs": [
        {
          "output_type": "execute_result",
          "data": {
            "text/plain": [
              "array(['love'], dtype='<U10')"
            ]
          },
          "metadata": {},
          "execution_count": 145
        }
      ]
    },
    {
      "cell_type": "code",
      "metadata": {
        "colab": {
          "base_uri": "https://localhost:8080/"
        },
        "id": "yfVJzzsHwQzj",
        "outputId": "a1f9c4eb-3ead-4800-ea6a-f8f4256f239f"
      },
      "source": [
        "# check for the prediction probability\n",
        "nv_model.predict_proba(vect)"
      ],
      "execution_count": null,
      "outputs": [
        {
          "output_type": "execute_result",
          "data": {
            "text/plain": [
              "array([[7.36674641e-06, 4.60086362e-05, 2.07848254e-04, 2.71504076e-04,\n",
              "        6.42813267e-03, 3.78944994e-02, 1.49408314e-03, 4.63897906e-01,\n",
              "        1.51113481e-01, 2.44338891e-03, 7.29516340e-02, 9.29830779e-03,\n",
              "        2.53945840e-01]])"
            ]
          },
          "metadata": {},
          "execution_count": 146
        }
      ]
    },
    {
      "cell_type": "code",
      "metadata": {
        "colab": {
          "base_uri": "https://localhost:8080/"
        },
        "id": "71i-WE9Mhdm9",
        "outputId": "3a1a9b5e-6faf-4038-eef6-5cfebac96725"
      },
      "source": [
        "nv_model.classes_"
      ],
      "execution_count": null,
      "outputs": [
        {
          "output_type": "execute_result",
          "data": {
            "text/plain": [
              "array(['anger', 'boredom', 'empty', 'enthusiasm', 'fun', 'happiness',\n",
              "       'hate', 'love', 'neutral', 'relief', 'sadness', 'surprise',\n",
              "       'worry'], dtype='<U10')"
            ]
          },
          "metadata": {},
          "execution_count": 147
        }
      ]
    },
    {
      "cell_type": "code",
      "metadata": {
        "colab": {
          "base_uri": "https://localhost:8080/"
        },
        "id": "aLSIu-U_hoc9",
        "outputId": "6e4dba0f-f80f-4f8b-9d13-e2b6a2967e16"
      },
      "source": [
        "np.max(nv_model.predict_proba(vect))"
      ],
      "execution_count": null,
      "outputs": [
        {
          "output_type": "execute_result",
          "data": {
            "text/plain": [
              "0.463897905829476"
            ]
          },
          "metadata": {},
          "execution_count": 148
        }
      ]
    },
    {
      "cell_type": "code",
      "metadata": {
        "id": "YJiz2mQDhoYh"
      },
      "source": [
        "def predict_emotion(sample_text,model):\n",
        "  myvect = cv.transform(sample_text).toarray()\n",
        "  prediction = model.predict(myvect)\n",
        "  pred_proba = model.predict_proba(myvect)\n",
        "  pred_percentage_for_all = dict(zip(model.classes_,pred_proba[0]))\n",
        "  print(prediction[0])\n",
        "  # print(\"Prediction:{}, Prediction Score:{}\".format(prediction[0],np.max(pred_proba)))\n",
        "  return pred_percentage_for_all"
      ],
      "execution_count": null,
      "outputs": []
    },
    {
      "cell_type": "code",
      "metadata": {
        "colab": {
          "base_uri": "https://localhost:8080/"
        },
        "id": "k8ZK3OYwhoVI",
        "outputId": "fba61cbf-36ea-4112-8d49-3274a01fd54f"
      },
      "source": [
        "predict_emotion(sample_text,nv_model)"
      ],
      "execution_count": null,
      "outputs": [
        {
          "output_type": "stream",
          "name": "stdout",
          "text": [
            "love\n"
          ]
        },
        {
          "output_type": "execute_result",
          "data": {
            "text/plain": [
              "{'anger': 7.36674641100431e-06,\n",
              " 'boredom': 4.600863622032985e-05,\n",
              " 'empty': 0.00020784825426695084,\n",
              " 'enthusiasm': 0.00027150407557332434,\n",
              " 'fun': 0.0064281326708599375,\n",
              " 'happiness': 0.03789449935884739,\n",
              " 'hate': 0.0014940831390281085,\n",
              " 'love': 0.463897905829476,\n",
              " 'neutral': 0.15111348068778555,\n",
              " 'relief': 0.002443388905389066,\n",
              " 'sadness': 0.07295163401527655,\n",
              " 'surprise': 0.009298307789736277,\n",
              " 'worry': 0.2539458398911315}"
            ]
          },
          "metadata": {},
          "execution_count": 150
        }
      ]
    },
    {
      "cell_type": "code",
      "metadata": {
        "colab": {
          "base_uri": "https://localhost:8080/"
        },
        "id": "2QqBTnIvhoNl",
        "outputId": "d2812dc2-7116-42a1-88a2-5a0e912f8fab"
      },
      "source": [
        "predict_emotion([\"He hates running all day\"],nv_model)"
      ],
      "execution_count": null,
      "outputs": [
        {
          "output_type": "stream",
          "name": "stdout",
          "text": [
            "worry\n"
          ]
        },
        {
          "output_type": "execute_result",
          "data": {
            "text/plain": [
              "{'anger': 4.199952692015537e-07,\n",
              " 'boredom': 2.5964434605071296e-06,\n",
              " 'empty': 7.378052690269558e-05,\n",
              " 'enthusiasm': 9.302845164085375e-05,\n",
              " 'fun': 0.0013618592093843796,\n",
              " 'happiness': 0.017346818025539498,\n",
              " 'hate': 0.005754728079971083,\n",
              " 'love': 0.03199626521936704,\n",
              " 'neutral': 0.1332410509113612,\n",
              " 'relief': 0.0016010020551049276,\n",
              " 'sadness': 0.3160187559633912,\n",
              " 'surprise': 0.007945456947991397,\n",
              " 'worry': 0.4845642381706145}"
            ]
          },
          "metadata": {},
          "execution_count": 151
        }
      ]
    },
    {
      "cell_type": "markdown",
      "metadata": {
        "id": "GROioewT0ydb"
      },
      "source": [
        "Model Evaluation"
      ]
    },
    {
      "cell_type": "code",
      "metadata": {
        "colab": {
          "base_uri": "https://localhost:8080/"
        },
        "id": "Mieey4BihoHS",
        "outputId": "6c23fe9b-6657-4252-8443-3fb26603abb5"
      },
      "source": [
        "# classification\n",
        "print(classification_report(y_test,y_pred_for_nv))"
      ],
      "execution_count": null,
      "outputs": [
        {
          "output_type": "stream",
          "name": "stdout",
          "text": [
            "              precision    recall  f1-score   support\n",
            "\n",
            "       anger       0.00      0.00      0.00        19\n",
            "     boredom       0.00      0.00      0.00        31\n",
            "       empty       0.20      0.01      0.01       162\n",
            "  enthusiasm       0.00      0.00      0.00       163\n",
            "         fun       0.00      0.00      0.00       338\n",
            "   happiness       0.32      0.34      0.33      1028\n",
            "        hate       0.38      0.02      0.04       268\n",
            "        love       0.46      0.32      0.38       762\n",
            "     neutral       0.34      0.40      0.37      1740\n",
            "      relief       0.00      0.00      0.00       352\n",
            "     sadness       0.31      0.16      0.21      1046\n",
            "    surprise       0.17      0.01      0.02       425\n",
            "       worry       0.28      0.64      0.39      1666\n",
            "\n",
            "    accuracy                           0.32      8000\n",
            "   macro avg       0.19      0.15      0.13      8000\n",
            "weighted avg       0.28      0.32      0.27      8000\n",
            "\n"
          ]
        },
        {
          "output_type": "stream",
          "name": "stderr",
          "text": [
            "/usr/local/lib/python3.7/dist-packages/sklearn/metrics/_classification.py:1272: UndefinedMetricWarning: Precision and F-score are ill-defined and being set to 0.0 in labels with no predicted samples. Use `zero_division` parameter to control this behavior.\n",
            "  _warn_prf(average, modifier, msg_start, len(result))\n"
          ]
        }
      ]
    },
    {
      "cell_type": "code",
      "metadata": {
        "colab": {
          "base_uri": "https://localhost:8080/"
        },
        "id": "Xb2zILoLhoB4",
        "outputId": "eb73f950-82d4-46f8-b448-71704bccde03"
      },
      "source": [
        "# confision\n",
        "confusion_matrix(y_test,y_pred_for_nv)"
      ],
      "execution_count": null,
      "outputs": [
        {
          "output_type": "execute_result",
          "data": {
            "text/plain": [
              "array([[   0,    0,    0,    0,    0,    2,    0,    0,    5,    0,    3,\n",
              "           0,    9],\n",
              "       [   0,    0,    0,    0,    0,    0,    0,    1,    6,    0,    3,\n",
              "           0,   21],\n",
              "       [   0,    0,    1,    0,    0,   13,    0,    2,   65,    0,   11,\n",
              "           0,   70],\n",
              "       [   0,    0,    0,    0,    0,   28,    0,    3,   51,    0,    8,\n",
              "           0,   73],\n",
              "       [   0,    0,    0,    0,    0,   81,    0,   18,   93,    0,   18,\n",
              "           0,  128],\n",
              "       [   0,    0,    0,    0,    3,  347,    0,   95,  252,    1,   24,\n",
              "           3,  303],\n",
              "       [   0,    0,    0,    0,    0,    8,    5,    3,   53,    0,   37,\n",
              "           2,  160],\n",
              "       [   0,    0,    0,    0,    0,  179,    0,  241,  132,    0,   34,\n",
              "           2,  174],\n",
              "       [   0,    0,    2,    0,    2,  164,    2,   63,  701,    1,   73,\n",
              "           3,  729],\n",
              "       [   0,    0,    0,    0,    0,   65,    0,   20,   91,    0,   23,\n",
              "           0,  153],\n",
              "       [   0,    0,    1,    0,    0,   48,    0,   17,  170,    0,  167,\n",
              "           4,  639],\n",
              "       [   0,    0,    1,    0,    1,   62,    1,   20,  101,    0,   19,\n",
              "           4,  216],\n",
              "       [   0,    0,    0,    0,    0,   94,    5,   37,  339,    0,  121,\n",
              "           6, 1064]])"
            ]
          },
          "metadata": {},
          "execution_count": 153
        }
      ]
    },
    {
      "cell_type": "code",
      "metadata": {
        "colab": {
          "base_uri": "https://localhost:8080/",
          "height": 296
        },
        "id": "qowkMV0lhn8a",
        "outputId": "44aeec13-8f81-4a67-9578-fec007f42783"
      },
      "source": [
        "# plot confusion Matrix\n",
        "plot_confusion_matrix(nv_model,X_test,y_test)"
      ],
      "execution_count": null,
      "outputs": [
        {
          "output_type": "execute_result",
          "data": {
            "text/plain": [
              "<sklearn.metrics._plot.confusion_matrix.ConfusionMatrixDisplay at 0x7f4f7dd378d0>"
            ]
          },
          "metadata": {},
          "execution_count": 154
        },
        {
          "output_type": "display_data",
          "data": {
            "image/png": "[encoded data removed]",
            "text/plain": [
              "<Figure size 432x288 with 2 Axes>"
            ]
          },
          "metadata": {
            "needs_background": "light"
          }
        }
      ]
    },
    {
      "cell_type": "code",
      "metadata": {
        "id": "rN_ycMzVK-iT"
      },
      "source": [
        "import joblib"
      ],
      "execution_count": null,
      "outputs": []
    },
    {
      "cell_type": "code",
      "metadata": {
        "id": "1OfGr6nKhn5S"
      },
      "source": [
        "#Save Model\n",
        "model_file = open(\"emotion_classifier_nv_model\",\"wb\")\n",
        "joblib.dump(nv_model,model_file)\n",
        "model_file.close()"
      ],
      "execution_count": null,
      "outputs": []
    },
    {
      "cell_type": "code",
      "metadata": {
        "colab": {
          "base_uri": "https://localhost:8080/"
        },
        "id": "zhCUpM6GwQnX",
        "outputId": "5cd6c4d1-3dcf-4fc2-dd23-128d20b12b08"
      },
      "source": [
        "lr_model = LogisticRegression()\n",
        "lr_model.fit(X_train,y_train)"
      ],
      "execution_count": null,
      "outputs": [
        {
          "output_type": "stream",
          "name": "stderr",
          "text": [
            "/usr/local/lib/python3.7/dist-packages/sklearn/linear_model/_logistic.py:940: ConvergenceWarning: lbfgs failed to converge (status=1):\n",
            "STOP: TOTAL NO. of ITERATIONS REACHED LIMIT.\n",
            "\n",
            "Increase the number of iterations (max_iter) or scale the data as shown in:\n",
            "    https://scikit-learn.org/stable/modules/preprocessing.html\n",
            "Please also refer to the documentation for alternative solver options:\n",
            "    https://scikit-learn.org/stable/modules/linear_model.html#logistic-regression\n",
            "  extra_warning_msg=_LOGISTIC_SOLVER_CONVERGENCE_MSG)\n"
          ]
        },
        {
          "output_type": "execute_result",
          "data": {
            "text/plain": [
              "LogisticRegression(C=1.0, class_weight=None, dual=False, fit_intercept=True,\n",
              "                   intercept_scaling=1, l1_ratio=None, max_iter=100,\n",
              "                   multi_class='auto', n_jobs=None, penalty='l2',\n",
              "                   random_state=None, solver='lbfgs', tol=0.0001, verbose=0,\n",
              "                   warm_start=False)"
            ]
          },
          "metadata": {},
          "execution_count": 157
        }
      ]
    },
    {
      "cell_type": "code",
      "metadata": {
        "colab": {
          "base_uri": "https://localhost:8080/"
        },
        "id": "PLuWzvSlLXsM",
        "outputId": "3d38528e-7538-4116-ca3a-ccb12d07f24b"
      },
      "source": [
        "lr_model.score(X_test,y_test)"
      ],
      "execution_count": null,
      "outputs": [
        {
          "output_type": "execute_result",
          "data": {
            "text/plain": [
              "0.3325"
            ]
          },
          "metadata": {},
          "execution_count": 158
        }
      ]
    },
    {
      "cell_type": "code",
      "metadata": {
        "colab": {
          "base_uri": "https://localhost:8080/"
        },
        "id": "heLfQzwdLdiP",
        "outputId": "2a2cbd87-9490-4217-f979-357e6cf15a10"
      },
      "source": [
        "predict_emotion(sample_text,lr_model)"
      ],
      "execution_count": null,
      "outputs": [
        {
          "output_type": "stream",
          "name": "stdout",
          "text": [
            "love\n"
          ]
        },
        {
          "output_type": "execute_result",
          "data": {
            "text/plain": [
              "{'anger': 0.002251001380281166,\n",
              " 'boredom': 0.00811583050120566,\n",
              " 'empty': 0.011732307650090907,\n",
              " 'enthusiasm': 0.005408424811104046,\n",
              " 'fun': 0.036369571469743914,\n",
              " 'happiness': 0.05890091850790063,\n",
              " 'hate': 0.015254648421116537,\n",
              " 'love': 0.4125110621150023,\n",
              " 'neutral': 0.13651941799125386,\n",
              " 'relief': 0.018177015902614623,\n",
              " 'sadness': 0.10478170928427716,\n",
              " 'surprise': 0.06743880254670553,\n",
              " 'worry': 0.12253928941870361}"
            ]
          },
          "metadata": {},
          "execution_count": 159
        }
      ]
    },
    {
      "cell_type": "code",
      "metadata": {
        "id": "gQZ9_BA8Mg4P"
      },
      "source": [
        "# remove neutral emotions from df\n",
        "new_df = df[df['sentiment'] != 'neutral']\n",
        "new_df = new_df[new_df['sentiment'] != 'empty']\n",
        "new_df = new_df[new_df['sentiment'] != 'enthusiasm']\n",
        "new_df = new_df[new_df['sentiment'] != 'boredom']\n",
        "new_df = new_df[new_df['sentiment'] != 'anger']\n",
        "new_df = new_df[new_df['sentiment'] != 'fun']\n",
        "new_df = new_df[new_df['sentiment'] != 'relief']\n",
        "new_df = new_df[new_df['sentiment'] != 'hate']"
      ],
      "execution_count": null,
      "outputs": []
    },
    {
      "cell_type": "code",
      "metadata": {
        "colab": {
          "base_uri": "https://localhost:8080/"
        },
        "id": "UA-2BQJIMYdz",
        "outputId": "86807f3c-f8b2-490b-e59c-a58fa9a98df6"
      },
      "source": [
        "new_df.isnull().sum()"
      ],
      "execution_count": null,
      "outputs": [
        {
          "output_type": "execute_result",
          "data": {
            "text/plain": [
              "tweet_id      0\n",
              "sentiment     0\n",
              "content       0\n",
              "result        0\n",
              "size          0\n",
              "clean_text    0\n",
              "dtype: int64"
            ]
          },
          "metadata": {},
          "execution_count": 161
        }
      ]
    },
    {
      "cell_type": "code",
      "metadata": {
        "colab": {
          "base_uri": "https://localhost:8080/",
          "height": 417
        },
        "id": "NBt33VLRKObE",
        "outputId": "e3dd21c2-cf0d-4773-f599-0b24aac3092c"
      },
      "source": [
        "new_df"
      ],
      "execution_count": null,
      "outputs": [
        {
          "output_type": "execute_result",
          "data": {
            "text/html": [
              "<div>\n",
              "<style scoped>\n",
              "    .dataframe tbody tr th:only-of-type {\n",
              "        vertical-align: middle;\n",
              "    }\n",
              "\n",
              "    .dataframe tbody tr th {\n",
              "        vertical-align: top;\n",
              "    }\n",
              "\n",
              "    .dataframe thead th {\n",
              "        text-align: right;\n",
              "    }\n",
              "</style>\n",
              "<table border=\"1\" class=\"dataframe\">\n",
              "  <thead>\n",
              "    <tr style=\"text-align: right;\">\n",
              "      <th></th>\n",
              "      <th>tweet_id</th>\n",
              "      <th>sentiment</th>\n",
              "      <th>content</th>\n",
              "      <th>result</th>\n",
              "      <th>size</th>\n",
              "      <th>clean_text</th>\n",
              "    </tr>\n",
              "  </thead>\n",
              "  <tbody>\n",
              "    <tr>\n",
              "      <th>1</th>\n",
              "      <td>1956967666</td>\n",
              "      <td>sadness</td>\n",
              "      <td>Layin n bed with a headache  ughhhh...waitin o...</td>\n",
              "      <td>Neutral</td>\n",
              "      <td>1696</td>\n",
              "      <td>Layin n bed headache ughhhhwaitin call</td>\n",
              "    </tr>\n",
              "    <tr>\n",
              "      <th>2</th>\n",
              "      <td>1956967696</td>\n",
              "      <td>sadness</td>\n",
              "      <td>Funeral ceremony...gloomy friday...</td>\n",
              "      <td>Neutral</td>\n",
              "      <td>1696</td>\n",
              "      <td>Funeral ceremonygloomy friday</td>\n",
              "    </tr>\n",
              "    <tr>\n",
              "      <th>5</th>\n",
              "      <td>1956968477</td>\n",
              "      <td>worry</td>\n",
              "      <td>Re-pinging @ghostridah14: why didn't you go to...</td>\n",
              "      <td>Neutral</td>\n",
              "      <td>2917</td>\n",
              "      <td>Repinging   prom BC bf like friends</td>\n",
              "    </tr>\n",
              "    <tr>\n",
              "      <th>6</th>\n",
              "      <td>1956968487</td>\n",
              "      <td>sadness</td>\n",
              "      <td>I should be sleep, but im not! thinking about ...</td>\n",
              "      <td>Positive</td>\n",
              "      <td>1583</td>\n",
              "      <td>sleep im not thinking old friend want hes marr...</td>\n",
              "    </tr>\n",
              "    <tr>\n",
              "      <th>7</th>\n",
              "      <td>1956968636</td>\n",
              "      <td>worry</td>\n",
              "      <td>Hmmm. http://www.djhero.com/ is down</td>\n",
              "      <td>Negative</td>\n",
              "      <td>2670</td>\n",
              "      <td>Hmmm http://wwwdjherocom/</td>\n",
              "    </tr>\n",
              "    <tr>\n",
              "      <th>...</th>\n",
              "      <td>...</td>\n",
              "      <td>...</td>\n",
              "      <td>...</td>\n",
              "      <td>...</td>\n",
              "      <td>...</td>\n",
              "      <td>...</td>\n",
              "    </tr>\n",
              "    <tr>\n",
              "      <th>39994</th>\n",
              "      <td>1753918900</td>\n",
              "      <td>happiness</td>\n",
              "      <td>Succesfully following Tayla!!</td>\n",
              "      <td>Neutral</td>\n",
              "      <td>1224</td>\n",
              "      <td>Succesfully following Tayla</td>\n",
              "    </tr>\n",
              "    <tr>\n",
              "      <th>39996</th>\n",
              "      <td>1753919001</td>\n",
              "      <td>love</td>\n",
              "      <td>Happy Mothers Day  All my love</td>\n",
              "      <td>Positive</td>\n",
              "      <td>2944</td>\n",
              "      <td>Happy Mothers Day love</td>\n",
              "    </tr>\n",
              "    <tr>\n",
              "      <th>39997</th>\n",
              "      <td>1753919005</td>\n",
              "      <td>love</td>\n",
              "      <td>Happy Mother's Day to all the mommies out ther...</td>\n",
              "      <td>Positive</td>\n",
              "      <td>2944</td>\n",
              "      <td>Happy Mothers Day mommies there woman man long...</td>\n",
              "    </tr>\n",
              "    <tr>\n",
              "      <th>39998</th>\n",
              "      <td>1753919043</td>\n",
              "      <td>happiness</td>\n",
              "      <td>@niariley WASSUP BEAUTIFUL!!! FOLLOW ME!!  PEE...</td>\n",
              "      <td>Positive</td>\n",
              "      <td>3640</td>\n",
              "      <td>WASSUP BEAUTIFUL FOLLOW ME PEEP NEW HIT SING...</td>\n",
              "    </tr>\n",
              "    <tr>\n",
              "      <th>39999</th>\n",
              "      <td>1753919049</td>\n",
              "      <td>love</td>\n",
              "      <td>@mopedronin bullet train from tokyo    the gf ...</td>\n",
              "      <td>Neutral</td>\n",
              "      <td>684</td>\n",
              "      <td>bullet train tokyo gf visiting japan thursda...</td>\n",
              "    </tr>\n",
              "  </tbody>\n",
              "</table>\n",
              "<p>24862 rows × 6 columns</p>\n",
              "</div>"
            ],
            "text/plain": [
              "         tweet_id  ...                                         clean_text\n",
              "1      1956967666  ...             Layin n bed headache ughhhhwaitin call\n",
              "2      1956967696  ...                      Funeral ceremonygloomy friday\n",
              "5      1956968477  ...                Repinging   prom BC bf like friends\n",
              "6      1956968487  ...  sleep im not thinking old friend want hes marr...\n",
              "7      1956968636  ...                          Hmmm http://wwwdjherocom/\n",
              "...           ...  ...                                                ...\n",
              "39994  1753918900  ...                        Succesfully following Tayla\n",
              "39996  1753919001  ...                             Happy Mothers Day love\n",
              "39997  1753919005  ...  Happy Mothers Day mommies there woman man long...\n",
              "39998  1753919043  ...    WASSUP BEAUTIFUL FOLLOW ME PEEP NEW HIT SING...\n",
              "39999  1753919049  ...    bullet train tokyo gf visiting japan thursda...\n",
              "\n",
              "[24862 rows x 6 columns]"
            ]
          },
          "metadata": {},
          "execution_count": 162
        }
      ]
    },
    {
      "cell_type": "code",
      "metadata": {
        "colab": {
          "base_uri": "https://localhost:8080/"
        },
        "id": "QYGn3Ea2UK3q",
        "outputId": "c5bf98c3-1cc9-47b4-fb8b-36af9e0da9a8"
      },
      "source": [
        "new_df.shape"
      ],
      "execution_count": null,
      "outputs": [
        {
          "output_type": "execute_result",
          "data": {
            "text/plain": [
              "(24862, 6)"
            ]
          },
          "metadata": {},
          "execution_count": 163
        }
      ]
    },
    {
      "cell_type": "code",
      "metadata": {
        "colab": {
          "base_uri": "https://localhost:8080/"
        },
        "id": "CNWVn9OCUm9m",
        "outputId": "98ff5aa6-d862-4d48-92c7-41afb54c002b"
      },
      "source": [
        "new_df[\"sentiment\"].value_counts()"
      ],
      "execution_count": null,
      "outputs": [
        {
          "output_type": "execute_result",
          "data": {
            "text/plain": [
              "worry        8459\n",
              "happiness    5209\n",
              "sadness      5165\n",
              "love         3842\n",
              "surprise     2187\n",
              "Name: sentiment, dtype: int64"
            ]
          },
          "metadata": {},
          "execution_count": 164
        }
      ]
    },
    {
      "cell_type": "code",
      "metadata": {
        "id": "3jwqn0c9gyp2"
      },
      "source": [
        "Xfeatures1 = new_df['clean_text']\n",
        "Ylabel1 = new_df['sentiment']"
      ],
      "execution_count": null,
      "outputs": []
    },
    {
      "cell_type": "code",
      "metadata": {
        "colab": {
          "base_uri": "https://localhost:8080/"
        },
        "id": "TSEhwdoSg4yE",
        "outputId": "fb2bba13-5aa8-4a31-ba19-cd0995557e72"
      },
      "source": [
        "Xfeatures1"
      ],
      "execution_count": null,
      "outputs": [
        {
          "output_type": "execute_result",
          "data": {
            "text/plain": [
              "1                   Layin n bed headache ughhhhwaitin call\n",
              "2                            Funeral ceremonygloomy friday\n",
              "5                      Repinging   prom BC bf like friends\n",
              "6        sleep im not thinking old friend want hes marr...\n",
              "7                                Hmmm http://wwwdjherocom/\n",
              "                               ...                        \n",
              "39994                          Succesfully following Tayla\n",
              "39996                               Happy Mothers Day love\n",
              "39997    Happy Mothers Day mommies there woman man long...\n",
              "39998      WASSUP BEAUTIFUL FOLLOW ME PEEP NEW HIT SING...\n",
              "39999      bullet train tokyo gf visiting japan thursda...\n",
              "Name: clean_text, Length: 24862, dtype: object"
            ]
          },
          "metadata": {},
          "execution_count": 166
        }
      ]
    },
    {
      "cell_type": "code",
      "metadata": {
        "colab": {
          "base_uri": "https://localhost:8080/"
        },
        "id": "qPn74yg5hAIS",
        "outputId": "9fd6f887-0483-420f-adb6-f6e06f050c8b"
      },
      "source": [
        "Ylabel1"
      ],
      "execution_count": null,
      "outputs": [
        {
          "output_type": "execute_result",
          "data": {
            "text/plain": [
              "1          sadness\n",
              "2          sadness\n",
              "5            worry\n",
              "6          sadness\n",
              "7            worry\n",
              "           ...    \n",
              "39994    happiness\n",
              "39996         love\n",
              "39997         love\n",
              "39998    happiness\n",
              "39999         love\n",
              "Name: sentiment, Length: 24862, dtype: object"
            ]
          },
          "metadata": {},
          "execution_count": 167
        }
      ]
    },
    {
      "cell_type": "code",
      "metadata": {
        "id": "-Ww5V5Px416H"
      },
      "source": [
        "cv1 = CountVectorizer()\n",
        "X1 = cv1.fit_transform(Xfeatures1)"
      ],
      "execution_count": null,
      "outputs": []
    },
    {
      "cell_type": "code",
      "metadata": {
        "colab": {
          "base_uri": "https://localhost:8080/"
        },
        "id": "-IP3Z4fz412v",
        "outputId": "44849b8f-a702-406c-d5b7-5a18bd2d943d"
      },
      "source": [
        "cv1.get_feature_names()"
      ],
      "execution_count": null,
      "outputs": [
        {
          "output_type": "execute_result",
          "data": {
            "text/plain": [
              "['00',\n",
              " '000',\n",
              " '006',\n",
              " '00am',\n",
              " '01',\n",
              " '024',\n",
              " '03',\n",
              " '04',\n",
              " '04182012154',\n",
              " '05',\n",
              " '06',\n",
              " '0600',\n",
              " '06am',\n",
              " '07',\n",
              " '079ï',\n",
              " '07k6e',\n",
              " '07k6x',\n",
              " '07kbp',\n",
              " '07kbq',\n",
              " '07kjr',\n",
              " '07xfs',\n",
              " '07xoh',\n",
              " '07yez',\n",
              " '08',\n",
              " '08kaifj',\n",
              " '09',\n",
              " '0930',\n",
              " '0a7v3j',\n",
              " '0egwanj',\n",
              " '0f',\n",
              " '0gmunj',\n",
              " '0guyoj',\n",
              " '0l2tsj',\n",
              " '0mqko',\n",
              " '0n',\n",
              " '0o',\n",
              " '0s',\n",
              " '0ut',\n",
              " '0wvnpj',\n",
              " '0xhu5j',\n",
              " '10',\n",
              " '100',\n",
              " '1000',\n",
              " '10000',\n",
              " '100000000000000000000000000000000000',\n",
              " '10000th',\n",
              " '1008',\n",
              " '100greatestgames',\n",
              " '100msg',\n",
              " '100th',\n",
              " '100word',\n",
              " '100x',\n",
              " '101',\n",
              " '1010',\n",
              " '1011pm',\n",
              " '1012',\n",
              " '1017',\n",
              " '102',\n",
              " '103',\n",
              " '1030',\n",
              " '1030am',\n",
              " '1030pm',\n",
              " '103ffevered',\n",
              " '104',\n",
              " '1045',\n",
              " '104m6wj',\n",
              " '105',\n",
              " '1052x1',\n",
              " '106',\n",
              " '1073',\n",
              " '108',\n",
              " '109',\n",
              " '1095',\n",
              " '10am',\n",
              " '10and',\n",
              " '10dolla',\n",
              " '10gb',\n",
              " '10jaffa',\n",
              " '10k',\n",
              " '10m',\n",
              " '10mm',\n",
              " '10p',\n",
              " '10pm',\n",
              " '10th',\n",
              " '10ty',\n",
              " '10uemq',\n",
              " '10yr',\n",
              " '11',\n",
              " '110',\n",
              " '1102',\n",
              " '111',\n",
              " '1115',\n",
              " '1116',\n",
              " '1123',\n",
              " '113',\n",
              " '114',\n",
              " '1140',\n",
              " '115',\n",
              " '116',\n",
              " '11830',\n",
              " '118lgl',\n",
              " '11am',\n",
              " '11dd2t',\n",
              " '11pm',\n",
              " '11stupid',\n",
              " '11th',\n",
              " '12',\n",
              " '120mm',\n",
              " '1215',\n",
              " '121908inlove',\n",
              " '123',\n",
              " '12306',\n",
              " '1230pm',\n",
              " '123243342',\n",
              " '125',\n",
              " '128600',\n",
              " '129',\n",
              " '12am',\n",
              " '12f0y',\n",
              " '12ghz',\n",
              " '12hr',\n",
              " '12k',\n",
              " '12pm',\n",
              " '12r3c3',\n",
              " '12s',\n",
              " '12seconds',\n",
              " '12st',\n",
              " '12th',\n",
              " '12yr',\n",
              " '13',\n",
              " '131',\n",
              " '13341015518',\n",
              " '13576',\n",
              " '136',\n",
              " '13gigs',\n",
              " '13izrj',\n",
              " '13pdrmj',\n",
              " '13quot',\n",
              " '13th',\n",
              " '13tolifeus',\n",
              " '14',\n",
              " '140',\n",
              " '143',\n",
              " '145',\n",
              " '145km',\n",
              " '147',\n",
              " '1488',\n",
              " '14lyij',\n",
              " '14m',\n",
              " '14mph',\n",
              " '14s',\n",
              " '14th',\n",
              " '15',\n",
              " '150',\n",
              " '1500ft',\n",
              " '151',\n",
              " '1520',\n",
              " '153bpm',\n",
              " '154upj',\n",
              " '156',\n",
              " '1560',\n",
              " '15gb',\n",
              " '15h30',\n",
              " '15min',\n",
              " '15mins',\n",
              " '15minutes',\n",
              " '15p',\n",
              " '15quot',\n",
              " '15th',\n",
              " '15yyid',\n",
              " '16',\n",
              " '160',\n",
              " '1600th',\n",
              " '160hp',\n",
              " '1638824',\n",
              " '165',\n",
              " '167',\n",
              " '168',\n",
              " '16hes',\n",
              " '16hour',\n",
              " '16th',\n",
              " '16urvv',\n",
              " '16w6zv',\n",
              " '16yo',\n",
              " '16ï',\n",
              " '17',\n",
              " '1701',\n",
              " '175mths',\n",
              " '177',\n",
              " '179jxs',\n",
              " '17again',\n",
              " '17cy61',\n",
              " '17th',\n",
              " '17yearold',\n",
              " '18',\n",
              " '180',\n",
              " '18000',\n",
              " '181',\n",
              " '182',\n",
              " '182397',\n",
              " '1824',\n",
              " '182s',\n",
              " '1842',\n",
              " '186',\n",
              " '1864ml',\n",
              " '187',\n",
              " '18aeg8',\n",
              " '18hrs',\n",
              " '18s',\n",
              " '18th',\n",
              " '19',\n",
              " '1930s',\n",
              " '1939',\n",
              " '1946',\n",
              " '1948',\n",
              " '1973',\n",
              " '198',\n",
              " '1980s',\n",
              " '1986',\n",
              " '1991',\n",
              " '1996',\n",
              " '19age',\n",
              " '19th',\n",
              " '1aa1rf',\n",
              " '1am',\n",
              " '1direction',\n",
              " '1doeej',\n",
              " '1e15',\n",
              " '1gb',\n",
              " '1gurq',\n",
              " '1h33mn',\n",
              " '1hr',\n",
              " '1lol',\n",
              " '1m',\n",
              " '1million',\n",
              " '1ntp',\n",
              " '1ofmy',\n",
              " '1pm',\n",
              " '1pmdoesnt',\n",
              " '1s',\n",
              " '1st',\n",
              " '1ujzq',\n",
              " '1vn0',\n",
              " '1x',\n",
              " '1xiz',\n",
              " '1xri',\n",
              " '1yeah',\n",
              " '1zpf',\n",
              " '1zpi',\n",
              " '1zsj',\n",
              " '1zt0',\n",
              " '1zu9',\n",
              " '1zyg',\n",
              " '20',\n",
              " '200',\n",
              " '2000',\n",
              " '20000000',\n",
              " '2002',\n",
              " '2005',\n",
              " '2006amp2007',\n",
              " '2007',\n",
              " '2008',\n",
              " '2008s',\n",
              " '2009',\n",
              " '2009quothmmhave',\n",
              " '200andsome60',\n",
              " '200lbs',\n",
              " '200m',\n",
              " '2010',\n",
              " '2011',\n",
              " '2015',\n",
              " '2020',\n",
              " '2025',\n",
              " '2026',\n",
              " '205r',\n",
              " '209205',\n",
              " '20amheading',\n",
              " '20gf',\n",
              " '20ghz',\n",
              " '20mins',\n",
              " '20now',\n",
              " '20oh',\n",
              " '20pm',\n",
              " '20th',\n",
              " '20thhmmm',\n",
              " '20xs',\n",
              " '20yrs',\n",
              " '21',\n",
              " '2134',\n",
              " '214',\n",
              " '2144',\n",
              " '21589',\n",
              " '2164',\n",
              " '218m',\n",
              " '21a4',\n",
              " '21f2',\n",
              " '21life',\n",
              " '21rk',\n",
              " '21sl',\n",
              " '21st',\n",
              " '21you',\n",
              " '22',\n",
              " '220',\n",
              " '221',\n",
              " '222222',\n",
              " '225',\n",
              " '225quot',\n",
              " '2290',\n",
              " '2296',\n",
              " '22hrs',\n",
              " '22nd',\n",
              " '22quot',\n",
              " '23',\n",
              " '230',\n",
              " '230pm',\n",
              " '234',\n",
              " '236am',\n",
              " '239k',\n",
              " '23b',\n",
              " '23rd',\n",
              " '23rdany',\n",
              " '24',\n",
              " '243',\n",
              " '2448',\n",
              " '249',\n",
              " '24hours',\n",
              " '24hrs',\n",
              " '24mer',\n",
              " '24quot',\n",
              " '24th',\n",
              " '25',\n",
              " '250',\n",
              " '2500',\n",
              " '250gb',\n",
              " '250gs',\n",
              " '250k',\n",
              " '251',\n",
              " '253ce',\n",
              " '255',\n",
              " '25c',\n",
              " '25d',\n",
              " '25ft',\n",
              " '25ï',\n",
              " '26',\n",
              " '260',\n",
              " '261c',\n",
              " '2630rc4',\n",
              " '2697',\n",
              " '27',\n",
              " '275',\n",
              " '27th',\n",
              " '28',\n",
              " '2837',\n",
              " '2888mo',\n",
              " '28c',\n",
              " '28deg',\n",
              " '28hh',\n",
              " '28ï',\n",
              " '29',\n",
              " '29ers',\n",
              " '29th',\n",
              " '29yr',\n",
              " '2agcth',\n",
              " '2am',\n",
              " '2amp',\n",
              " '2b',\n",
              " '2cal',\n",
              " '2ce',\n",
              " '2d',\n",
              " '2daii',\n",
              " '2day',\n",
              " '2daybake',\n",
              " '2dayjust',\n",
              " '2daylets',\n",
              " '2dayme',\n",
              " '2dayweatherwise',\n",
              " '2dives',\n",
              " '2dmtn',\n",
              " '2do',\n",
              " '2ehfov',\n",
              " '2ft',\n",
              " '2gather',\n",
              " '2getha',\n",
              " '2gether',\n",
              " '2goin',\n",
              " '2hi2t4yjpg',\n",
              " '2hours',\n",
              " '2hrs',\n",
              " '2j3l',\n",
              " '2jobs',\n",
              " '2kidsmy',\n",
              " '2l36n',\n",
              " '2l63l',\n",
              " '2listen',\n",
              " '2m',\n",
              " '2maro',\n",
              " '2me',\n",
              " '2moro',\n",
              " '2morrow',\n",
              " '2morrows',\n",
              " '2moz',\n",
              " '2mrw',\n",
              " '2my',\n",
              " '2mz',\n",
              " '2nd',\n",
              " '2nd30th100th',\n",
              " '2ndary',\n",
              " '2night',\n",
              " '2nightand',\n",
              " '2nit',\n",
              " '2nite',\n",
              " '2niteampi',\n",
              " '2nitei',\n",
              " '2njv',\n",
              " '2nte',\n",
              " '2nyt',\n",
              " '2or',\n",
              " '2orw',\n",
              " '2people',\n",
              " '2pm',\n",
              " '2pmagain',\n",
              " '2s1y',\n",
              " '2sljbwt',\n",
              " '2sw4v',\n",
              " '2toa',\n",
              " '2twitter',\n",
              " '2uhs',\n",
              " '2vko',\n",
              " '2w5v',\n",
              " '2would',\n",
              " '2year',\n",
              " '2yr',\n",
              " '2zemt',\n",
              " '30',\n",
              " '300',\n",
              " '3000',\n",
              " '300th',\n",
              " '3010',\n",
              " '302',\n",
              " '3040',\n",
              " '30am',\n",
              " '30amnow',\n",
              " '30b5',\n",
              " '30mins',\n",
              " '30p',\n",
              " '30pm',\n",
              " '30rock',\n",
              " '30s',\n",
              " '30stmfan',\n",
              " '30th',\n",
              " '30tools',\n",
              " '30where',\n",
              " '30yo',\n",
              " '30ï',\n",
              " '31',\n",
              " '311',\n",
              " '315pm',\n",
              " '3180758jpg',\n",
              " '31quot',\n",
              " '31st',\n",
              " '31th',\n",
              " '32',\n",
              " '320',\n",
              " '320gb',\n",
              " '32665',\n",
              " '33',\n",
              " '330',\n",
              " '330am',\n",
              " '330pm',\n",
              " '336u5',\n",
              " '33hus',\n",
              " '34',\n",
              " '34mb',\n",
              " '35',\n",
              " '3500',\n",
              " '35hours',\n",
              " '35mins',\n",
              " '35th',\n",
              " '36',\n",
              " '360',\n",
              " '365',\n",
              " '365days',\n",
              " '368558682',\n",
              " '37',\n",
              " '374',\n",
              " '37wt5f',\n",
              " '38',\n",
              " '3800it',\n",
              " '38am',\n",
              " '38pm',\n",
              " '38th',\n",
              " '39',\n",
              " '395',\n",
              " '39th',\n",
              " '3a5ho',\n",
              " '3aaah',\n",
              " '3am',\n",
              " '3aref',\n",
              " '3asa',\n",
              " '3bnas',\n",
              " '3breakupwords',\n",
              " '3d',\n",
              " '3ernb',\n",
              " '3g',\n",
              " '3goxn',\n",
              " '3hour',\n",
              " '3hrs',\n",
              " '3k',\n",
              " '3koyqo',\n",
              " '3lbs',\n",
              " '3lqux',\n",
              " '3md9fv',\n",
              " '3mdce',\n",
              " '3min',\n",
              " '3mrim',\n",
              " '3my',\n",
              " '3nid8',\n",
              " '3nzth',\n",
              " '3o3zxoj',\n",
              " '3o7rv',\n",
              " '3oh3',\n",
              " '3orh6',\n",
              " '3oth',\n",
              " '3pb8j',\n",
              " '3pg',\n",
              " '3pj876',\n",
              " '3pm',\n",
              " '3point',\n",
              " '3qfqo',\n",
              " '3rd',\n",
              " '3v3ry',\n",
              " '3w9w1',\n",
              " '3ware',\n",
              " '3wordsaftersex',\n",
              " '3x',\n",
              " '3x3wq',\n",
              " '40',\n",
              " '400',\n",
              " '40000',\n",
              " '400mb',\n",
              " '400th',\n",
              " '40328',\n",
              " '404',\n",
              " '40404',\n",
              " '40cm',\n",
              " '40ish',\n",
              " '40k',\n",
              " '40mins',\n",
              " '40omglol',\n",
              " '40s',\n",
              " '40th',\n",
              " '41',\n",
              " '410',\n",
              " '41000',\n",
              " '411',\n",
              " '42',\n",
              " '425',\n",
              " '42am',\n",
              " '42nd',\n",
              " '430',\n",
              " '430pm',\n",
              " '43416',\n",
              " '438',\n",
              " '44',\n",
              " '445am',\n",
              " '44secs',\n",
              " '45',\n",
              " '450',\n",
              " '450am',\n",
              " '45am',\n",
              " '45ish',\n",
              " '45pm',\n",
              " '45r61',\n",
              " '45th',\n",
              " '46',\n",
              " '46am',\n",
              " '47',\n",
              " '47000nice',\n",
              " '4719',\n",
              " '47pm',\n",
              " '48',\n",
              " '483',\n",
              " '4879',\n",
              " '48am',\n",
              " '48gy0',\n",
              " '48hours',\n",
              " '48hoursnz',\n",
              " '49er',\n",
              " '4a',\n",
              " '4am',\n",
              " '4ce',\n",
              " '4d',\n",
              " '4day',\n",
              " '4days',\n",
              " '4eva',\n",
              " '4ever',\n",
              " '4f0l0',\n",
              " '4fnaa',\n",
              " '4fzo7',\n",
              " '4g',\n",
              " '4gb',\n",
              " '4gemf',\n",
              " '4get',\n",
              " '4give',\n",
              " '4gnlp',\n",
              " '4got',\n",
              " '4h',\n",
              " '4hour',\n",
              " '4hours',\n",
              " '4hrs',\n",
              " '4hsd2',\n",
              " '4i3g6',\n",
              " '4i8kk',\n",
              " '4j585',\n",
              " '4j6kc',\n",
              " '4j8us',\n",
              " '4j99z',\n",
              " '4j9cd',\n",
              " '4j9eo',\n",
              " '4j9fb',\n",
              " '4j9om',\n",
              " '4j9x4',\n",
              " '4ja12',\n",
              " '4ja93',\n",
              " '4jacy',\n",
              " '4jam0',\n",
              " '4jaw9',\n",
              " '4jaz5',\n",
              " '4jazs',\n",
              " '4jb66',\n",
              " '4jbhp',\n",
              " '4jble',\n",
              " '4jbsq',\n",
              " '4jbx2',\n",
              " '4jbzv',\n",
              " '4jcf1',\n",
              " '4jcjr',\n",
              " '4jcwm',\n",
              " '4jdkq',\n",
              " '4jdrg',\n",
              " '4jdtj',\n",
              " '4jdtx',\n",
              " '4jeij',\n",
              " '4jerc',\n",
              " '4jf46',\n",
              " '4jfa8',\n",
              " '4jfg4',\n",
              " '4jg09',\n",
              " '4jggm',\n",
              " '4jguu',\n",
              " '4jh4l',\n",
              " '4jhe5',\n",
              " '4jip9',\n",
              " '4jj43',\n",
              " '4jj4j',\n",
              " '4jk42',\n",
              " '4jk6b',\n",
              " '4jkea',\n",
              " '4jkvh',\n",
              " '4jkvl',\n",
              " '4jmeh',\n",
              " '4k',\n",
              " '4km',\n",
              " '4l85a',\n",
              " '4legged',\n",
              " '4m9up',\n",
              " '4me',\n",
              " '4n',\n",
              " '4nbx4',\n",
              " '4piece',\n",
              " '4pm',\n",
              " '4qfl3',\n",
              " '4qpzx',\n",
              " '4real',\n",
              " '4rom',\n",
              " '4s',\n",
              " '4sx96',\n",
              " '4t4jv',\n",
              " '4t6qx',\n",
              " '4th',\n",
              " '4thquot',\n",
              " '4u',\n",
              " '4ukqe',\n",
              " '4us',\n",
              " '4uy8l',\n",
              " '4uyn9',\n",
              " '4v0vr',\n",
              " '4vd89',\n",
              " '4vdc3',\n",
              " '4ve84',\n",
              " '4vfcx',\n",
              " '4visl',\n",
              " '4vp3x',\n",
              " '4vuuy',\n",
              " '4vvou',\n",
              " '4w06l',\n",
              " '4w0yj',\n",
              " '4w1gg',\n",
              " '4w22u',\n",
              " '4w24f',\n",
              " '4w3fi',\n",
              " '4w3he',\n",
              " '4w3zh',\n",
              " '4w472',\n",
              " '4w5sy',\n",
              " '4w5t6',\n",
              " '4w65x',\n",
              " '4w67l',\n",
              " '4w6lf',\n",
              " '4w70j',\n",
              " '4w75p',\n",
              " '4w7yp',\n",
              " '4w855',\n",
              " '4w8ja',\n",
              " '4w8l1',\n",
              " '4w9pe',\n",
              " '4w9w6',\n",
              " '4w9zb',\n",
              " '4ward',\n",
              " '4was',\n",
              " '4wave',\n",
              " '4wb52',\n",
              " '4wbn6',\n",
              " '4wc1y',\n",
              " '4wcqa',\n",
              " '4wdgr',\n",
              " '4wdui',\n",
              " '4we51',\n",
              " '4we5w',\n",
              " '4wegx',\n",
              " '4wehl',\n",
              " '4wesr',\n",
              " '4wf3a',\n",
              " '4wff3',\n",
              " '4wfs8',\n",
              " '4wg12',\n",
              " '4wgoi',\n",
              " '4wgoq',\n",
              " '4wh0l',\n",
              " '4wh0o',\n",
              " '4wh4d',\n",
              " '4whaf',\n",
              " '4wi9p',\n",
              " '4wiqv',\n",
              " '4wixz',\n",
              " '4wjai',\n",
              " '4wjjs',\n",
              " '4wjrs',\n",
              " '4wkpe',\n",
              " '4wkpl',\n",
              " '4wkym',\n",
              " '4wkzi',\n",
              " '4wl05',\n",
              " '4wl5b',\n",
              " '4wlpv',\n",
              " '4wmaw',\n",
              " '4wmoa',\n",
              " '4wn71',\n",
              " '4woj2',\n",
              " '4woxf',\n",
              " '4woxi',\n",
              " '4wqe8',\n",
              " '4wrrp',\n",
              " '4wrxq',\n",
              " '4wry2',\n",
              " '4ws3m',\n",
              " '4ws8w',\n",
              " '4wsk3',\n",
              " '4wssc',\n",
              " '4wsst',\n",
              " '4wsue',\n",
              " '4wsy6',\n",
              " '4wt8a',\n",
              " '4wt8k',\n",
              " '4wuko',\n",
              " '4wukt',\n",
              " '4x1',\n",
              " '4yearold',\n",
              " '4yr',\n",
              " '50',\n",
              " '500',\n",
              " '5000',\n",
              " '5000th',\n",
              " '500d',\n",
              " '50i',\n",
              " '50k',\n",
              " '50p',\n",
              " '50x',\n",
              " '51',\n",
              " '512',\n",
              " '516',\n",
              " '5163602',\n",
              " '518',\n",
              " '51p',\n",
              " '52aw',\n",
              " '53',\n",
              " '530',\n",
              " '539not',\n",
              " '53am',\n",
              " '54',\n",
              " '5405',\n",
              " '5409',\n",
              " '54khn',\n",
              " '54quot',\n",
              " '55',\n",
              " '550',\n",
              " '5500',\n",
              " '55am',\n",
              " '55hq2o',\n",
              " '56',\n",
              " '5626035',\n",
              " '57',\n",
              " '5726504',\n",
              " '58',\n",
              " '58quot',\n",
              " '59',\n",
              " '590',\n",
              " '5am',\n",
              " '5days',\n",
              " '5drawer',\n",
              " '5figuretweeter',\n",
              " '5fokq',\n",
              " '5h3ad',\n",
              " '5jbp3',\n",
              " '5jbvo',\n",
              " '5jckp',\n",
              " '5jd4b',\n",
              " '5jeu7',\n",
              " '5jf53',\n",
              " '5jfu9',\n",
              " '5jfuu',\n",
              " '5jg0u',\n",
              " '5jg6f',\n",
              " '5jgio',\n",
              " '5jgj3',\n",
              " '5jhtv',\n",
              " '5jjcc',\n",
              " '5jjxr',\n",
              " '5jkbp',\n",
              " '5jnl7',\n",
              " '5jnv2',\n",
              " '5jo4w',\n",
              " '5joo9',\n",
              " '5jq91',\n",
              " '5jucn',\n",
              " '5jv7j',\n",
              " '5k',\n",
              " '5kahh',\n",
              " '5km',\n",
              " '5mins',\n",
              " '5mm',\n",
              " '5oclock',\n",
              " '5plus',\n",
              " '5pm',\n",
              " '5quot',\n",
              " '5rylt',\n",
              " '5t5xz',\n",
              " '5th',\n",
              " '5ut6j',\n",
              " '5wb0k',\n",
              " '5why',\n",
              " '5ygpg',\n",
              " '5yk38',\n",
              " '5ynxr',\n",
              " '5yomt',\n",
              " '5yroy',\n",
              " '5yvnd',\n",
              " '5yxd4',\n",
              " '5yzb6',\n",
              " '5z10d',\n",
              " '5z193',\n",
              " '5z1vd',\n",
              " '5z2g9',\n",
              " '5z2zo',\n",
              " '5z309',\n",
              " '5z36j',\n",
              " '5z3co',\n",
              " '5z3ij',\n",
              " '5z3oi',\n",
              " '5z3oq',\n",
              " '5z4p7',\n",
              " '5z4uq',\n",
              " '5z4ve',\n",
              " '5z50g',\n",
              " '5z5kz',\n",
              " '5z5uw',\n",
              " '5z639',\n",
              " '5z7v3',\n",
              " '5z7zs',\n",
              " '5z7zv',\n",
              " '5z8da',\n",
              " '60',\n",
              " '600',\n",
              " '60000',\n",
              " '600mile',\n",
              " '605',\n",
              " '60k',\n",
              " '60s',\n",
              " '60th',\n",
              " '61',\n",
              " '612',\n",
              " '6121231',\n",
              " '61322',\n",
              " '614',\n",
              " '616974',\n",
              " '61aam',\n",
              " '61oj0',\n",
              " '61ov1',\n",
              " '630',\n",
              " '630p',\n",
              " '630pm',\n",
              " '6386106',\n",
              " '639',\n",
              " '64',\n",
              " '6402509',\n",
              " '64577',\n",
              " '6480360',\n",
              " '64g3b',\n",
              " '65',\n",
              " '650',\n",
              " '6500km',\n",
              " '65623',\n",
              " '658166jpg',\n",
              " '660vv',\n",
              " '662vk',\n",
              " '663vr',\n",
              " '664b7',\n",
              " '664oz',\n",
              " '665a2',\n",
              " '665e9',\n",
              " '665jw',\n",
              " '665to',\n",
              " '666gy',\n",
              " '667g1',\n",
              " '6695k',\n",
              " '669l2',\n",
              " '66l83',\n",
              " '66o7z',\n",
              " '66of2',\n",
              " '66pn1',\n",
              " '66q88',\n",
              " '66sbz',\n",
              " '66sls',\n",
              " '66st1',\n",
              " '66tyb',\n",
              " '66u67',\n",
              " '66uor',\n",
              " '66uq4',\n",
              " '66vdn',\n",
              " '66vld',\n",
              " '66vlw',\n",
              " '66xjl',\n",
              " '66yb9',\n",
              " '66ydb',\n",
              " '66ymw',\n",
              " '66z7a',\n",
              " '66zfd',\n",
              " '67',\n",
              " '670ar',\n",
              " '670pn',\n",
              " '670rw',\n",
              " '6714p',\n",
              " '671w1',\n",
              " '671zy',\n",
              " '672s3',\n",
              " '67318',\n",
              " '673vt',\n",
              " '674p1',\n",
              " '675ks',\n",
              " '675tw',\n",
              " '676hv',\n",
              " '676hz',\n",
              " '676tn',\n",
              " '677bi',\n",
              " '677xt',\n",
              " '6789998212',\n",
              " '678hs',\n",
              " '6790',\n",
              " '679tn',\n",
              " '67azl',\n",
              " '67di2',\n",
              " '67eba',\n",
              " '67f8q',\n",
              " '67fcj',\n",
              " '67fs9',\n",
              " '67fue',\n",
              " '67gwh',\n",
              " '67hac',\n",
              " '67hvr',\n",
              " '67i82',\n",
              " '67i90',\n",
              " '67iab',\n",
              " '67jq9',\n",
              " '67jzp',\n",
              " '67k9w',\n",
              " '67kb6',\n",
              " '67kvt',\n",
              " '67l90',\n",
              " '67nht',\n",
              " '67ofz',\n",
              " ...]"
            ]
          },
          "metadata": {},
          "execution_count": 169
        }
      ]
    },
    {
      "cell_type": "code",
      "metadata": {
        "id": "cEEBkVG641zg"
      },
      "source": [
        "X_train1,X_test1,y_train1,y_test1 = train_test_split(X1,Ylabel1,test_size=0.3,random_state = 42)"
      ],
      "execution_count": null,
      "outputs": []
    },
    {
      "cell_type": "code",
      "metadata": {
        "colab": {
          "base_uri": "https://localhost:8080/"
        },
        "id": "PHlNJPh741uv",
        "outputId": "a0ba9d60-fe6b-4473-e319-6ab917c9e5fe"
      },
      "source": [
        "nv_model1 = MultinomialNB()\n",
        "nv_model1.fit(X_train1,y_train1)"
      ],
      "execution_count": null,
      "outputs": [
        {
          "output_type": "execute_result",
          "data": {
            "text/plain": [
              "MultinomialNB(alpha=1.0, class_prior=None, fit_prior=True)"
            ]
          },
          "metadata": {},
          "execution_count": 171
        }
      ]
    },
    {
      "cell_type": "code",
      "metadata": {
        "colab": {
          "base_uri": "https://localhost:8080/"
        },
        "id": "trGkr6og41pg",
        "outputId": "d838ad50-b871-46f2-9521-7b6b2a598290"
      },
      "source": [
        "nv_model1.score(X_test1,y_test1)"
      ],
      "execution_count": null,
      "outputs": [
        {
          "output_type": "execute_result",
          "data": {
            "text/plain": [
              "0.44697680654243194"
            ]
          },
          "metadata": {},
          "execution_count": 172
        }
      ]
    },
    {
      "cell_type": "code",
      "metadata": {
        "id": "qHTiQtWQ41d5"
      },
      "source": [
        "y_pred_for_nv = nv_model1.predict(X_test1)"
      ],
      "execution_count": null,
      "outputs": []
    },
    {
      "cell_type": "code",
      "metadata": {
        "colab": {
          "base_uri": "https://localhost:8080/"
        },
        "id": "jFFoSDXD6Cv-",
        "outputId": "14172db0-5b97-4860-80dc-11e29b1a7b1a"
      },
      "source": [
        "nv_model1.classes_"
      ],
      "execution_count": null,
      "outputs": [
        {
          "output_type": "execute_result",
          "data": {
            "text/plain": [
              "array(['happiness', 'love', 'sadness', 'surprise', 'worry'], dtype='<U9')"
            ]
          },
          "metadata": {},
          "execution_count": 174
        }
      ]
    },
    {
      "cell_type": "code",
      "metadata": {
        "id": "XlvYZep3HMJM"
      },
      "source": [
        "#! pip install gdown"
      ],
      "execution_count": null,
      "outputs": []
    },
    {
      "cell_type": "code",
      "metadata": {
        "colab": {
          "base_uri": "https://localhost:8080/",
          "height": 102
        },
        "id": "TjcisswikPwq",
        "outputId": "8e984c0e-dfaa-4d95-912d-845919585d9e"
      },
      "source": [
        "import gdown\n",
        "url = 'https://drive.google.com/uc?id=1krB8yMWqouP1vY0FzO_4pu6FJDZ96we4'\n",
        "output = 'emotion_dataset_2.csv'\n",
        "\n",
        "gdown.download(url,output,quiet=False)"
      ],
      "execution_count": null,
      "outputs": [
        {
          "output_type": "stream",
          "name": "stderr",
          "text": [
            "Downloading...\n",
            "From: https://drive.google.com/uc?id=1krB8yMWqouP1vY0FzO_4pu6FJDZ96we4\n",
            "To: /content/emotion_dataset_2.csv\n",
            "5.31MB [00:00, 209MB/s]\n"
          ]
        },
        {
          "output_type": "execute_result",
          "data": {
            "application/vnd.google.colaboratory.intrinsic+json": {
              "type": "string"
            },
            "text/plain": [
              "'emotion_dataset_2.csv'"
            ]
          },
          "metadata": {},
          "execution_count": 176
        }
      ]
    },
    {
      "cell_type": "code",
      "metadata": {
        "colab": {
          "base_uri": "https://localhost:8080/",
          "height": 417
        },
        "id": "KIEMXteVkd6b",
        "outputId": "2c10d3a7-3f46-4da0-8e39-870c1bf7f6ba"
      },
      "source": [
        "import pandas as pd\n",
        "data2 = pd.read_csv('emotion_dataset_2.csv')\n",
        "data2"
      ],
      "execution_count": null,
      "outputs": [
        {
          "output_type": "execute_result",
          "data": {
            "text/html": [
              "<div>\n",
              "<style scoped>\n",
              "    .dataframe tbody tr th:only-of-type {\n",
              "        vertical-align: middle;\n",
              "    }\n",
              "\n",
              "    .dataframe tbody tr th {\n",
              "        vertical-align: top;\n",
              "    }\n",
              "\n",
              "    .dataframe thead th {\n",
              "        text-align: right;\n",
              "    }\n",
              "</style>\n",
              "<table border=\"1\" class=\"dataframe\">\n",
              "  <thead>\n",
              "    <tr style=\"text-align: right;\">\n",
              "      <th></th>\n",
              "      <th>Unnamed: 0</th>\n",
              "      <th>Emotion</th>\n",
              "      <th>Text</th>\n",
              "      <th>Clean_Text</th>\n",
              "    </tr>\n",
              "  </thead>\n",
              "  <tbody>\n",
              "    <tr>\n",
              "      <th>0</th>\n",
              "      <td>0</td>\n",
              "      <td>neutral</td>\n",
              "      <td>Why ?</td>\n",
              "      <td>NaN</td>\n",
              "    </tr>\n",
              "    <tr>\n",
              "      <th>1</th>\n",
              "      <td>1</td>\n",
              "      <td>joy</td>\n",
              "      <td>Sage Act upgrade on my to do list for tommorow.</td>\n",
              "      <td>Sage Act upgrade list tommorow</td>\n",
              "    </tr>\n",
              "    <tr>\n",
              "      <th>2</th>\n",
              "      <td>2</td>\n",
              "      <td>sadness</td>\n",
              "      <td>ON THE WAY TO MY HOMEGIRL BABY FUNERAL!!! MAN ...</td>\n",
              "      <td>WAY HOMEGIRL BABY FUNERAL MAN HATE FUNERALS SH...</td>\n",
              "    </tr>\n",
              "    <tr>\n",
              "      <th>3</th>\n",
              "      <td>3</td>\n",
              "      <td>joy</td>\n",
              "      <td>Such an eye ! The true hazel eye-and so brill...</td>\n",
              "      <td>eye  true hazel eyeand brilliant  Regular feat...</td>\n",
              "    </tr>\n",
              "    <tr>\n",
              "      <th>4</th>\n",
              "      <td>4</td>\n",
              "      <td>joy</td>\n",
              "      <td>@Iluvmiasantos ugh babe.. hugggzzz for u .!  b...</td>\n",
              "      <td>ugh babe hugggzzz u  babe naamazed nga ako e...</td>\n",
              "    </tr>\n",
              "    <tr>\n",
              "      <th>...</th>\n",
              "      <td>...</td>\n",
              "      <td>...</td>\n",
              "      <td>...</td>\n",
              "      <td>...</td>\n",
              "    </tr>\n",
              "    <tr>\n",
              "      <th>34787</th>\n",
              "      <td>34787</td>\n",
              "      <td>surprise</td>\n",
              "      <td>@MichelGW have you gift! Hope you like it! It'...</td>\n",
              "      <td>gift Hope like it hand wear  Itll warm Lol</td>\n",
              "    </tr>\n",
              "    <tr>\n",
              "      <th>34788</th>\n",
              "      <td>34788</td>\n",
              "      <td>joy</td>\n",
              "      <td>The world didnt give it to me..so the world MO...</td>\n",
              "      <td>world didnt meso world DEFINITELY cnt away</td>\n",
              "    </tr>\n",
              "    <tr>\n",
              "      <th>34789</th>\n",
              "      <td>34789</td>\n",
              "      <td>anger</td>\n",
              "      <td>A man robbed me today .</td>\n",
              "      <td>man robbed today</td>\n",
              "    </tr>\n",
              "    <tr>\n",
              "      <th>34790</th>\n",
              "      <td>34790</td>\n",
              "      <td>fear</td>\n",
              "      <td>Youu call it JEALOUSY, I call it of #Losing YO...</td>\n",
              "      <td>Youu JEALOUSY #Losing YOU</td>\n",
              "    </tr>\n",
              "    <tr>\n",
              "      <th>34791</th>\n",
              "      <td>34791</td>\n",
              "      <td>sadness</td>\n",
              "      <td>I think about you baby, and I dream about you ...</td>\n",
              "      <td>think baby dream time</td>\n",
              "    </tr>\n",
              "  </tbody>\n",
              "</table>\n",
              "<p>34792 rows × 4 columns</p>\n",
              "</div>"
            ],
            "text/plain": [
              "       Unnamed: 0  ...                                         Clean_Text\n",
              "0               0  ...                                                NaN\n",
              "1               1  ...                     Sage Act upgrade list tommorow\n",
              "2               2  ...  WAY HOMEGIRL BABY FUNERAL MAN HATE FUNERALS SH...\n",
              "3               3  ...  eye  true hazel eyeand brilliant  Regular feat...\n",
              "4               4  ...    ugh babe hugggzzz u  babe naamazed nga ako e...\n",
              "...           ...  ...                                                ...\n",
              "34787       34787  ...         gift Hope like it hand wear  Itll warm Lol\n",
              "34788       34788  ...         world didnt meso world DEFINITELY cnt away\n",
              "34789       34789  ...                                  man robbed today \n",
              "34790       34790  ...                          Youu JEALOUSY #Losing YOU\n",
              "34791       34791  ...                              think baby dream time\n",
              "\n",
              "[34792 rows x 4 columns]"
            ]
          },
          "metadata": {},
          "execution_count": 177
        }
      ]
    },
    {
      "cell_type": "code",
      "metadata": {
        "colab": {
          "base_uri": "https://localhost:8080/"
        },
        "id": "ifuCzW3IrJNG",
        "outputId": "15b1b426-9441-40eb-c13d-7ae63b0e28cb"
      },
      "source": [
        "data2.shape"
      ],
      "execution_count": null,
      "outputs": [
        {
          "output_type": "execute_result",
          "data": {
            "text/plain": [
              "(34792, 4)"
            ]
          },
          "metadata": {},
          "execution_count": 178
        }
      ]
    },
    {
      "cell_type": "code",
      "metadata": {
        "id": "-VPKhZ6LtNOA"
      },
      "source": [
        "data2 = data2[['Emotion','Text','Clean_Text']]"
      ],
      "execution_count": null,
      "outputs": []
    },
    {
      "cell_type": "code",
      "metadata": {
        "colab": {
          "base_uri": "https://localhost:8080/"
        },
        "id": "zPrJYzXjt56I",
        "outputId": "7a2f38ac-0496-4534-fb82-879162f6dafd"
      },
      "source": [
        "data2.shape"
      ],
      "execution_count": null,
      "outputs": [
        {
          "output_type": "execute_result",
          "data": {
            "text/plain": [
              "(34792, 3)"
            ]
          },
          "metadata": {},
          "execution_count": 180
        }
      ]
    },
    {
      "cell_type": "code",
      "metadata": {
        "colab": {
          "base_uri": "https://localhost:8080/"
        },
        "id": "4CFdVskrvlHi",
        "outputId": "ed4e92a3-f16e-4b5c-f4ff-7434287d0a76"
      },
      "source": [
        "emotion_list = data2['Emotion'].unique().tolist()\n",
        "emotion_list"
      ],
      "execution_count": null,
      "outputs": [
        {
          "output_type": "execute_result",
          "data": {
            "text/plain": [
              "['neutral', 'joy', 'sadness', 'fear', 'surprise', 'anger', 'shame', 'disgust']"
            ]
          },
          "metadata": {},
          "execution_count": 181
        }
      ]
    },
    {
      "cell_type": "code",
      "metadata": {
        "colab": {
          "base_uri": "https://localhost:8080/"
        },
        "id": "ZZeE7rrPv0t6",
        "outputId": "8f256320-4c55-449c-c7af-6a443138e8f1"
      },
      "source": [
        "data2[\"Emotion\"].value_counts()"
      ],
      "execution_count": null,
      "outputs": [
        {
          "output_type": "execute_result",
          "data": {
            "text/plain": [
              "joy         11045\n",
              "sadness      6722\n",
              "fear         5410\n",
              "anger        4297\n",
              "surprise     4062\n",
              "neutral      2254\n",
              "disgust       856\n",
              "shame         146\n",
              "Name: Emotion, dtype: int64"
            ]
          },
          "metadata": {},
          "execution_count": 182
        }
      ]
    },
    {
      "cell_type": "code",
      "metadata": {
        "id": "IpdVe2wKzNMf"
      },
      "source": [
        "from sklearn.feature_extraction.text import CountVectorizer\n",
        "X2 = data2[\"Clean_Text\"]\n",
        "y2 = data2[\"Emotion\"]"
      ],
      "execution_count": null,
      "outputs": []
    },
    {
      "cell_type": "code",
      "metadata": {
        "colab": {
          "base_uri": "https://localhost:8080/"
        },
        "id": "AqRdq5wTzNHn",
        "outputId": "f5b39e7a-362e-47db-8d9d-823a4880ebc2"
      },
      "source": [
        "from sklearn.model_selection import train_test_split\n",
        "X_train2, X_test2, y_train2, y_test2 = train_test_split(X2, y2, random_state=1)\n",
        "\n",
        "print('Number of rows in the total set: {}'.format(data2.shape[0]))\n",
        "print('Number of rows in the training set: {}'.format(X_train2.shape[0]))\n",
        "print('Number of rows in the test set: {}'.format(X_test2.shape[0]))\n"
      ],
      "execution_count": null,
      "outputs": [
        {
          "output_type": "stream",
          "name": "stdout",
          "text": [
            "Number of rows in the total set: 34792\n",
            "Number of rows in the training set: 26094\n",
            "Number of rows in the test set: 8698\n"
          ]
        }
      ]
    },
    {
      "cell_type": "code",
      "metadata": {
        "id": "qAvyCCZh5vrw"
      },
      "source": [
        "import numpy as np\n",
        "#(X_train).apply(lambda x: np.str_(x))\n",
        "cv2 = CountVectorizer()\n",
        "X_train_cv2 = cv2.fit_transform((X_train2).apply(lambda x: np.str_(x)))\n",
        "X_test_cv2 = cv2.transform((X_test2).apply(lambda x: np.str_(x)))"
      ],
      "execution_count": null,
      "outputs": []
    },
    {
      "cell_type": "code",
      "metadata": {
        "colab": {
          "base_uri": "https://localhost:8080/"
        },
        "id": "7f__7fwkzNBO",
        "outputId": "790b7abc-40a3-449f-8e6b-e3f57f11b489"
      },
      "source": [
        "from sklearn.linear_model import LogisticRegression\n",
        "from sklearn.naive_bayes import MultinomialNB\n",
        "nv2Model = MultinomialNB()\n",
        "nv2Model.fit(X_train_cv2,y_train2)"
      ],
      "execution_count": null,
      "outputs": [
        {
          "output_type": "execute_result",
          "data": {
            "text/plain": [
              "MultinomialNB(alpha=1.0, class_prior=None, fit_prior=True)"
            ]
          },
          "metadata": {},
          "execution_count": 186
        }
      ]
    },
    {
      "cell_type": "code",
      "metadata": {
        "id": "raQXTl7TZN0X"
      },
      "source": [
        "predictions = nv2Model.predict(X_test_cv2)"
      ],
      "execution_count": null,
      "outputs": []
    },
    {
      "cell_type": "code",
      "metadata": {
        "colab": {
          "base_uri": "https://localhost:8080/"
        },
        "id": "ya8IyIFizM17",
        "outputId": "8c1b8df2-ede8-4e2e-a959-f5faa1489eec"
      },
      "source": [
        "# nv2Model.score(X_test2,y_test2)\n",
        "\n",
        "from sklearn.metrics import accuracy_score, precision_score, recall_score, f1_score\n",
        "\n",
        "print('Accuracy score: ', format(accuracy_score(y_test2, predictions)))"
      ],
      "execution_count": null,
      "outputs": [
        {
          "output_type": "stream",
          "name": "stdout",
          "text": [
            "Accuracy score:  0.5841572775350655\n"
          ]
        }
      ]
    }
  ]
}